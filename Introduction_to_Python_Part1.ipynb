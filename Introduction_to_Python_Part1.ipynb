{
  "cells": [
    {
      "cell_type": "markdown",
      "metadata": {
        "id": "uSBPLnvwwC6-"
      },
      "source": [
        "# Introduction to Python: Part 1\n",
        "\n",
        "- This tutorial is a primer on Python Programming language for data scientists. This will introduct the important concepts or features of Python, which are essential from the Data Sciene or Machine Learning perspective.   \n",
        "- The key topics in this tutorial are:\n",
        "    1. Variables and data types\n",
        "    2. Print statements\n",
        "    3. Arithmatic and logical operations \n",
        "    4. Conditional statements\n",
        "    5. Control flow statements\n",
        "    6. Dealing with string\n",
        "    7. Writing functions"
      ]
    },
    {
      "cell_type": "markdown",
      "metadata": {
        "id": "gD0SFGA-wC7G"
      },
      "source": [
        "## 1. Variables and data types\n",
        "\n",
        "- In Python, variables need not be declared or defined in advance. To create a variable, assign it a value and then start using it. "
      ]
    },
    {
      "cell_type": "code",
      "execution_count": 67,
      "metadata": {
        "id": "MtPGoBX5wC7H"
      },
      "outputs": [],
      "source": [
        "var1 = 2\n",
        "var2 = 5.0"
      ]
    },
    {
      "cell_type": "code",
      "execution_count": 68,
      "metadata": {
        "id": "Nd1NmK7IwC7J",
        "outputId": "ab7da053-e505-4df2-c8fd-37ba589cdf0b",
        "colab": {
          "base_uri": "https://localhost:8080/"
        }
      },
      "outputs": [
        {
          "output_type": "execute_result",
          "data": {
            "text/plain": [
              "2"
            ]
          },
          "metadata": {},
          "execution_count": 68
        }
      ],
      "source": [
        "var1"
      ]
    },
    {
      "cell_type": "code",
      "execution_count": 69,
      "metadata": {
        "id": "_AQTJ5PQwC7K",
        "outputId": "1be1236c-ffc5-483a-ad64-6e8b98f9304b",
        "colab": {
          "base_uri": "https://localhost:8080/"
        }
      },
      "outputs": [
        {
          "output_type": "execute_result",
          "data": {
            "text/plain": [
              "int"
            ]
          },
          "metadata": {},
          "execution_count": 69
        }
      ],
      "source": [
        "type( var1 )"
      ]
    },
    {
      "cell_type": "code",
      "execution_count": 70,
      "metadata": {
        "id": "QtoBVbzgwC7K",
        "outputId": "8fb1bf17-f498-4c6a-d5a7-5802ec142b58",
        "colab": {
          "base_uri": "https://localhost:8080/"
        }
      },
      "outputs": [
        {
          "output_type": "execute_result",
          "data": {
            "text/plain": [
              "float"
            ]
          },
          "metadata": {},
          "execution_count": 70
        }
      ],
      "source": [
        "type( var2 )"
      ]
    },
    {
      "cell_type": "code",
      "execution_count": 71,
      "metadata": {
        "id": "vmgtisktwC7L"
      },
      "outputs": [],
      "source": [
        "var3 = True"
      ]
    },
    {
      "cell_type": "code",
      "execution_count": 72,
      "metadata": {
        "id": "kj39V_bRwC7L",
        "outputId": "7bc50826-2df5-4d70-c148-7a0b4e1c01e4",
        "colab": {
          "base_uri": "https://localhost:8080/"
        }
      },
      "outputs": [
        {
          "output_type": "stream",
          "name": "stdout",
          "text": [
            "True\n"
          ]
        }
      ],
      "source": [
        "print(var3)"
      ]
    },
    {
      "cell_type": "code",
      "source": [
        "type(var3)"
      ],
      "metadata": {
        "id": "dU4DIYfhhV5E",
        "outputId": "eb741e31-96cd-4b29-aea7-4c7598d36451",
        "colab": {
          "base_uri": "https://localhost:8080/"
        }
      },
      "execution_count": 74,
      "outputs": [
        {
          "output_type": "execute_result",
          "data": {
            "text/plain": [
              "bool"
            ]
          },
          "metadata": {},
          "execution_count": 74
        }
      ]
    },
    {
      "cell_type": "code",
      "execution_count": 75,
      "metadata": {
        "id": "Xq5HKnPxwC7M",
        "outputId": "4acc5a80-4691-49c7-9b46-63b0b78d741d",
        "colab": {
          "base_uri": "https://localhost:8080/"
        }
      },
      "outputs": [
        {
          "output_type": "execute_result",
          "data": {
            "text/plain": [
              "1"
            ]
          },
          "metadata": {},
          "execution_count": 75
        }
      ],
      "source": [
        "int(var3)"
      ]
    },
    {
      "cell_type": "markdown",
      "metadata": {
        "id": "eevONZyqwC7M"
      },
      "source": [
        "#### Note:\n",
        "\n",
        "- Variables are not statically typed. \n",
        "\n",
        "- In statically typed languages (e.g. c, java), a variable is initially declared to have a specific data type, and any value assigned to it during its lifetime must always have that type.\n",
        "\n",
        "- In Python, a variable may be assigned a value of one type and then later re-assigned a value of a different type."
      ]
    },
    {
      "cell_type": "code",
      "execution_count": 76,
      "metadata": {
        "id": "w2uOrHl0wC7N",
        "outputId": "91add99a-2d7d-491c-8148-f3ac40d85d47",
        "colab": {
          "base_uri": "https://localhost:8080/"
        }
      },
      "outputs": [
        {
          "output_type": "execute_result",
          "data": {
            "text/plain": [
              "float"
            ]
          },
          "metadata": {},
          "execution_count": 76
        }
      ],
      "source": [
        "tempVar = 3.0\n",
        "type(tempVar)"
      ]
    },
    {
      "cell_type": "code",
      "execution_count": 77,
      "metadata": {
        "id": "4P80ADVnwC7N",
        "outputId": "65aedfc6-8bed-41eb-fdad-76524d480156",
        "colab": {
          "base_uri": "https://localhost:8080/"
        }
      },
      "outputs": [
        {
          "output_type": "execute_result",
          "data": {
            "text/plain": [
              "str"
            ]
          },
          "metadata": {},
          "execution_count": 77
        }
      ],
      "source": [
        "tempVar = \"This is a string\"\n",
        "type(tempVar)"
      ]
    },
    {
      "cell_type": "markdown",
      "metadata": {
        "id": "P0-jvMGqwC7O"
      },
      "source": [
        "## 2. Printing Variable Values"
      ]
    },
    {
      "cell_type": "code",
      "execution_count": 78,
      "metadata": {
        "id": "ue2C__JBwC7O",
        "outputId": "9aa1386f-4165-4dfb-fcac-ec69db86a719",
        "colab": {
          "base_uri": "https://localhost:8080/"
        }
      },
      "outputs": [
        {
          "output_type": "stream",
          "name": "stdout",
          "text": [
            "2\n"
          ]
        }
      ],
      "source": [
        "print( var1 )"
      ]
    },
    {
      "cell_type": "code",
      "execution_count": 79,
      "metadata": {
        "id": "EJ8YSEnuwC7O",
        "outputId": "bba8e904-9c95-4833-dbfe-46e41920f39f",
        "colab": {
          "base_uri": "https://localhost:8080/"
        }
      },
      "outputs": [
        {
          "output_type": "stream",
          "name": "stdout",
          "text": [
            "This is python\n"
          ]
        }
      ],
      "source": [
        "mystring = 'This is python'\n",
        "print( mystring )"
      ]
    },
    {
      "cell_type": "markdown",
      "metadata": {
        "id": "s71lE62awC7O"
      },
      "source": [
        "### 2.a Advanced Print Functions\n",
        "\n",
        "- **f-strings** (formatted string literals) are string literals that have an f at the beginning and curly braces containing expressions that will be replaced with their values."
      ]
    },
    {
      "cell_type": "code",
      "execution_count": 80,
      "metadata": {
        "id": "eTskNRtPwC7O",
        "outputId": "f412cc67-fef2-45ba-c1b9-c6a572f19843",
        "colab": {
          "base_uri": "https://localhost:8080/"
        }
      },
      "outputs": [
        {
          "output_type": "stream",
          "name": "stdout",
          "text": [
            "Value of var1 is: 5.0\n"
          ]
        }
      ],
      "source": [
        "print( \"Value of var1 is:\", var2 )"
      ]
    },
    {
      "cell_type": "code",
      "execution_count": 81,
      "metadata": {
        "id": "japI5AfGwC7P",
        "outputId": "70e7bc9c-87c6-48e4-dc20-167656b2a4a6",
        "colab": {
          "base_uri": "https://localhost:8080/"
        }
      },
      "outputs": [
        {
          "output_type": "stream",
          "name": "stdout",
          "text": [
            "Value of var1 is: 2, var2 is: 5.0 \n"
          ]
        }
      ],
      "source": [
        "print(f\"Value of var1 is: {var1}, var2 is: {var2} \")"
      ]
    },
    {
      "cell_type": "code",
      "execution_count": 82,
      "metadata": {
        "id": "uBvk1LS1wC7P",
        "outputId": "93fbdff9-2990-4d0f-c5ef-dd25a5280005",
        "colab": {
          "base_uri": "https://localhost:8080/"
        }
      },
      "outputs": [
        {
          "output_type": "stream",
          "name": "stdout",
          "text": [
            "Value of var1 is: 2, var2 is: 5.00 \n"
          ]
        }
      ],
      "source": [
        "print(f\"Value of var1 is: {var1}, var2 is: {var2:0.2f} \")"
      ]
    },
    {
      "cell_type": "markdown",
      "metadata": {
        "id": "wtDGRJlVwC7P"
      },
      "source": [
        "## 3. Operations on variables .. Arithmatic or logical"
      ]
    },
    {
      "cell_type": "code",
      "execution_count": 83,
      "metadata": {
        "id": "NlTe6b5awC7P",
        "outputId": "27fb8025-80a1-44f2-933a-e01e90e56897",
        "colab": {
          "base_uri": "https://localhost:8080/"
        }
      },
      "outputs": [
        {
          "output_type": "stream",
          "name": "stdout",
          "text": [
            "7.0\n"
          ]
        }
      ],
      "source": [
        "total = var1 + var2\n",
        "\n",
        "print(total)"
      ]
    },
    {
      "cell_type": "code",
      "execution_count": 84,
      "metadata": {
        "id": "3sGVh95-wC7Q",
        "outputId": "2bd4eb84-6901-4ec5-c680-92bab96c2f6b",
        "colab": {
          "base_uri": "https://localhost:8080/"
        }
      },
      "outputs": [
        {
          "output_type": "execute_result",
          "data": {
            "text/plain": [
              "10.0"
            ]
          },
          "metadata": {},
          "execution_count": 84
        }
      ],
      "source": [
        "var1 * var2"
      ]
    },
    {
      "cell_type": "code",
      "execution_count": 85,
      "metadata": {
        "id": "UTAD7BQnwC7Q",
        "outputId": "b9178b72-ccdb-4847-bdb9-2546f91e2dfa",
        "colab": {
          "base_uri": "https://localhost:8080/"
        }
      },
      "outputs": [
        {
          "output_type": "execute_result",
          "data": {
            "text/plain": [
              "True"
            ]
          },
          "metadata": {},
          "execution_count": 85
        }
      ],
      "source": [
        "var1 == 2"
      ]
    },
    {
      "cell_type": "code",
      "execution_count": 86,
      "metadata": {
        "id": "iU6L3hcBwC7Q",
        "outputId": "233ea768-06e3-4655-b84a-8d5ca84a2e6b",
        "colab": {
          "base_uri": "https://localhost:8080/"
        }
      },
      "outputs": [
        {
          "output_type": "execute_result",
          "data": {
            "text/plain": [
              "False"
            ]
          },
          "metadata": {},
          "execution_count": 86
        }
      ],
      "source": [
        "var1 == var2"
      ]
    },
    {
      "cell_type": "markdown",
      "metadata": {
        "id": "QuuGhclSwC7Q"
      },
      "source": [
        "## 4. Conditional Statements\n",
        "\n",
        "```\n",
        "if <expr>:\n",
        "    <statement>\n",
        "    <statement>\n",
        "    .\n",
        "    .\n",
        "    .\n",
        "    <statement>\n",
        "```\n",
        "\n",
        "Note:\n",
        "\n",
        "- The colon **(:)** following **&lt;expr&gt;** is must. \n",
        "- **&lt;statement&gt;** is a valid Python statement, which must be indented.     \n",
        "- There can be one or more valid python **&lt;statement(s)&gt;**    "
      ]
    },
    {
      "cell_type": "code",
      "execution_count": 87,
      "metadata": {
        "id": "vNsCWTsawC7R",
        "outputId": "f57c7bd2-4a6d-4a73-e719-c078de17df20",
        "colab": {
          "base_uri": "https://localhost:8080/"
        }
      },
      "outputs": [
        {
          "output_type": "stream",
          "name": "stdout",
          "text": [
            "More than 1\n"
          ]
        }
      ],
      "source": [
        "if var1 > 1:\n",
        "    print( \"More than 1\" )\n"
      ]
    },
    {
      "cell_type": "markdown",
      "metadata": {
        "id": "a3eef5ecwC7R"
      },
      "source": [
        "```\n",
        "if <expr>:\n",
        "    <statement(s)>\n",
        "elif <expr>:\n",
        "    <statement(s)>\n",
        "elif <expr>:\n",
        "    <statement(s)>\n",
        "    ...\n",
        "else:\n",
        "    <statement(s)>\n",
        "```"
      ]
    },
    {
      "cell_type": "code",
      "execution_count": 88,
      "metadata": {
        "id": "PpREVq3gwC7R",
        "outputId": "4b6202de-b969-4544-e23c-37dd10e9395c",
        "colab": {
          "base_uri": "https://localhost:8080/"
        }
      },
      "outputs": [
        {
          "output_type": "stream",
          "name": "stdout",
          "text": [
            "Not more than 5\n"
          ]
        }
      ],
      "source": [
        "if var1 > 5:\n",
        "    print( \"More than 5\" )\n",
        "else:\n",
        "    print( \"Not more than 5\" )"
      ]
    },
    {
      "cell_type": "code",
      "execution_count": 89,
      "metadata": {
        "id": "RP1k5L9FwC7R",
        "outputId": "fa3d2087-84fa-4b6f-e84e-ed26d58cd596",
        "colab": {
          "base_uri": "https://localhost:8080/"
        }
      },
      "outputs": [
        {
          "output_type": "stream",
          "name": "stdout",
          "text": [
            "x=y\n"
          ]
        }
      ],
      "source": [
        "x = 10\n",
        "y = 10\n",
        "\n",
        "if x > y:\n",
        "    print (\"x>y\")\n",
        "elif x < y:\n",
        "    print (\"x<y\")\n",
        "else:\n",
        "    print (\"x=y\")"
      ]
    },
    {
      "cell_type": "markdown",
      "metadata": {
        "id": "BstFch7rwC7S"
      },
      "source": [
        "### 4.a. Checking None "
      ]
    },
    {
      "cell_type": "code",
      "execution_count": 98,
      "metadata": {
        "id": "RFkvgBfDwC7S"
      },
      "outputs": [],
      "source": [
        "var4 = None"
      ]
    },
    {
      "cell_type": "code",
      "execution_count": 99,
      "metadata": {
        "id": "xkq7stqEwC7S",
        "outputId": "69b020dd-3577-4c11-ef99-7fe13fb56577",
        "colab": {
          "base_uri": "https://localhost:8080/"
        }
      },
      "outputs": [
        {
          "output_type": "stream",
          "name": "stdout",
          "text": [
            "None\n"
          ]
        }
      ],
      "source": [
        "if var4 is None:\n",
        "    print (\"None\")"
      ]
    },
    {
      "cell_type": "code",
      "execution_count": 100,
      "metadata": {
        "id": "7L9pxZPGwC7T"
      },
      "outputs": [],
      "source": [
        "var4 = 5.0"
      ]
    },
    {
      "cell_type": "code",
      "execution_count": 101,
      "metadata": {
        "id": "c7ftQiakwC7T",
        "outputId": "748b7f7c-97af-491a-bc77-82511c2b730d",
        "colab": {
          "base_uri": "https://localhost:8080/"
        }
      },
      "outputs": [
        {
          "output_type": "stream",
          "name": "stdout",
          "text": [
            "5.0\n"
          ]
        }
      ],
      "source": [
        "if var4 is not None:\n",
        "    print(var4)"
      ]
    },
    {
      "cell_type": "markdown",
      "metadata": {
        "id": "ZshllFk_wC7U"
      },
      "source": [
        "### 4.b. Multiple Conditions"
      ]
    },
    {
      "cell_type": "code",
      "execution_count": 103,
      "metadata": {
        "id": "PrOITDS_wC7U"
      },
      "outputs": [],
      "source": [
        "math_score = 65\n",
        "english_score = 45\n",
        "\n",
        "if (math_score > 50) and (english_score > 30):\n",
        "     result = \"Pass\"\n",
        "else:\n",
        "    result = \"Fail\""
      ]
    },
    {
      "cell_type": "code",
      "execution_count": 104,
      "metadata": {
        "id": "sZTHeJEawC7V",
        "outputId": "23532a1d-90f0-40b0-c2dc-107ba89179e0",
        "colab": {
          "base_uri": "https://localhost:8080/",
          "height": 35
        }
      },
      "outputs": [
        {
          "output_type": "execute_result",
          "data": {
            "text/plain": [
              "'Pass'"
            ],
            "application/vnd.google.colaboratory.intrinsic+json": {
              "type": "string"
            }
          },
          "metadata": {},
          "execution_count": 104
        }
      ],
      "source": [
        "result"
      ]
    },
    {
      "cell_type": "markdown",
      "metadata": {
        "id": "vCtxLruSwC7W"
      },
      "source": [
        "### 4.b. Inline conditional statements"
      ]
    },
    {
      "cell_type": "code",
      "execution_count": 107,
      "metadata": {
        "id": "wtQm2Wb3wC7W"
      },
      "outputs": [],
      "source": [
        "x = 10\n",
        "oddEven = \"even\" if x % 2 == 0 else \"odd\""
      ]
    },
    {
      "cell_type": "code",
      "execution_count": 108,
      "metadata": {
        "scrolled": true,
        "id": "3nxk4sxTwC7W",
        "outputId": "e8817c54-0b62-46e5-d25c-166c66d0f3ff",
        "colab": {
          "base_uri": "https://localhost:8080/",
          "height": 35
        }
      },
      "outputs": [
        {
          "output_type": "execute_result",
          "data": {
            "text/plain": [
              "'even'"
            ],
            "application/vnd.google.colaboratory.intrinsic+json": {
              "type": "string"
            }
          },
          "metadata": {},
          "execution_count": 108
        }
      ],
      "source": [
        "oddEven"
      ]
    },
    {
      "cell_type": "code",
      "source": [],
      "metadata": {
        "id": "P85DNhMV0Zsu"
      },
      "execution_count": null,
      "outputs": []
    },
    {
      "cell_type": "markdown",
      "metadata": {
        "id": "mJ_OdqnZwC7W"
      },
      "source": [
        "## Ex1: Participant Exercise\n",
        "\n",
        "1. Define two variables called called age and income assign values 30 and 50000.0 respectively\n",
        "2. Write a print statement using f-string to print the output as following:\n",
        "    \n",
        "    \"Age is: 30 Years and Income is: INR 50000.0\"\n",
        "\n",
        "3. Write an if-else condition\n",
        "    - if age is more than 25 and less than 40 years and income is more than 30000.0 then set a variable named \"approved\" to True or set to False."
      ]
    },
    {
      "cell_type": "markdown",
      "source": [
        "Shivdeep's solution below:\n",
        "March, 04 2023"
      ],
      "metadata": {
        "id": "HPhzXiXq0cx3"
      }
    },
    {
      "cell_type": "code",
      "source": [
        "age=30\n",
        "income=50000.0\n",
        "print(f\"Age is: {age} Years and income is: INR {income}\")"
      ],
      "metadata": {
        "id": "jsdScwvZ0bEQ",
        "outputId": "44d90535-95ff-43c4-a173-5eece217f1fc",
        "colab": {
          "base_uri": "https://localhost:8080/"
        }
      },
      "execution_count": 112,
      "outputs": [
        {
          "output_type": "stream",
          "name": "stdout",
          "text": [
            "Age is: 30 Years and income is: INR 50000.0\n"
          ]
        }
      ]
    },
    {
      "cell_type": "code",
      "source": [
        "if (age > 25) and (age < 40) and (income > 30000.0):\n",
        "     approved = True\n",
        "else: \n",
        "     approved = False\n",
        "\n",
        "approved"
      ],
      "metadata": {
        "id": "JXVtZd0wn3ZU",
        "outputId": "b11bc361-8ec8-459d-8a93-290d81016c43",
        "colab": {
          "base_uri": "https://localhost:8080/"
        }
      },
      "execution_count": 119,
      "outputs": [
        {
          "output_type": "execute_result",
          "data": {
            "text/plain": [
              "True"
            ]
          },
          "metadata": {},
          "execution_count": 119
        }
      ]
    },
    {
      "cell_type": "markdown",
      "metadata": {
        "id": "ZMRbXDmHwC7W"
      },
      "source": [
        "## 5. Control Flow Statements"
      ]
    },
    {
      "cell_type": "code",
      "execution_count": 47,
      "metadata": {
        "id": "TScORvkTwC7X",
        "outputId": "1c2ab82d-2a1a-4f12-873a-052a8f620ab9",
        "colab": {
          "base_uri": "https://localhost:8080/"
        }
      },
      "outputs": [
        {
          "output_type": "stream",
          "name": "stdout",
          "text": [
            "1 is odd\n",
            "2 is even\n",
            "3 is odd\n",
            "4 is even\n",
            "5 is odd\n",
            "6 is even\n",
            "7 is odd\n",
            "8 is even\n",
            "9 is odd\n",
            "Bye\n"
          ]
        }
      ],
      "source": [
        "i = 1\n",
        "\n",
        "while i < 10:\n",
        "    oddEven = \"even\" if i % 2 == 0 else \"odd\"\n",
        "    print(f\"{i} is {oddEven}\")\n",
        "    i = i+1\n",
        "    \n",
        "print('Bye')"
      ]
    },
    {
      "cell_type": "markdown",
      "metadata": {
        "id": "TPV0xZRKwC7X"
      },
      "source": [
        "## 6. Dealing with Strings"
      ]
    },
    {
      "cell_type": "code",
      "execution_count": 48,
      "metadata": {
        "id": "QFtupqXywC7X"
      },
      "outputs": [],
      "source": [
        "string0 = 'python'\n",
        "string1 = \"Data Science\"\n",
        "string2 = '''Python is a high-level, general-purpose programming language.\n",
        "Its design philosophy emphasizes code readability with the use of significant indentation. \n",
        "Python is dynamically typed and garbage-collected.'''\n",
        "\n",
        "## defintion is taken from https://en.wikipedia.org/wiki/Python_(programming_language)"
      ]
    },
    {
      "cell_type": "code",
      "execution_count": 49,
      "metadata": {
        "id": "Q9dwaIBxwC7X",
        "outputId": "3afcbc93-817b-4cbc-ca4f-a513a9f5e2b3",
        "colab": {
          "base_uri": "https://localhost:8080/"
        }
      },
      "outputs": [
        {
          "output_type": "execute_result",
          "data": {
            "text/plain": [
              "52"
            ]
          },
          "metadata": {},
          "execution_count": 49
        }
      ],
      "source": [
        "string2.find( \"language\" )"
      ]
    },
    {
      "cell_type": "code",
      "execution_count": 50,
      "metadata": {
        "id": "cJX3ZK5AwC7X",
        "outputId": "9a85e939-4554-44a2-8f9e-0058d4566b7e",
        "colab": {
          "base_uri": "https://localhost:8080/",
          "height": 35
        }
      },
      "outputs": [
        {
          "output_type": "execute_result",
          "data": {
            "text/plain": [
              "'Python'"
            ],
            "application/vnd.google.colaboratory.intrinsic+json": {
              "type": "string"
            }
          },
          "metadata": {},
          "execution_count": 50
        }
      ],
      "source": [
        "string0.capitalize()"
      ]
    },
    {
      "cell_type": "code",
      "execution_count": 51,
      "metadata": {
        "id": "00_ajVB_wC7X",
        "outputId": "37f2a4d6-65f1-48ba-e591-372e422d595c",
        "colab": {
          "base_uri": "https://localhost:8080/",
          "height": 35
        }
      },
      "outputs": [
        {
          "output_type": "execute_result",
          "data": {
            "text/plain": [
              "'PYTHON'"
            ],
            "application/vnd.google.colaboratory.intrinsic+json": {
              "type": "string"
            }
          },
          "metadata": {},
          "execution_count": 51
        }
      ],
      "source": [
        "string0.upper()"
      ]
    },
    {
      "cell_type": "code",
      "execution_count": 52,
      "metadata": {
        "id": "Db0n1QgVwC7Y",
        "outputId": "f9e2d19c-c341-44f6-d108-c8b7d194c3c8",
        "colab": {
          "base_uri": "https://localhost:8080/"
        }
      },
      "outputs": [
        {
          "output_type": "execute_result",
          "data": {
            "text/plain": [
              "204"
            ]
          },
          "metadata": {},
          "execution_count": 52
        }
      ],
      "source": [
        "len( string2 )"
      ]
    },
    {
      "cell_type": "code",
      "execution_count": 53,
      "metadata": {
        "id": "F3EzYoZbwC7Y",
        "outputId": "d3f5c35d-8bed-4c19-ab23-eaaf5ae201fd",
        "colab": {
          "base_uri": "https://localhost:8080/"
        }
      },
      "outputs": [
        {
          "output_type": "execute_result",
          "data": {
            "text/plain": [
              "['Python',\n",
              " 'is',\n",
              " 'a',\n",
              " 'high-level,',\n",
              " 'general-purpose',\n",
              " 'programming',\n",
              " 'language.',\n",
              " 'Its',\n",
              " 'design',\n",
              " 'philosophy',\n",
              " 'emphasizes',\n",
              " 'code',\n",
              " 'readability',\n",
              " 'with',\n",
              " 'the',\n",
              " 'use',\n",
              " 'of',\n",
              " 'significant',\n",
              " 'indentation.',\n",
              " 'Python',\n",
              " 'is',\n",
              " 'dynamically',\n",
              " 'typed',\n",
              " 'and',\n",
              " 'garbage-collected.']"
            ]
          },
          "metadata": {},
          "execution_count": 53
        }
      ],
      "source": [
        "string2.split()"
      ]
    },
    {
      "cell_type": "code",
      "execution_count": 54,
      "metadata": {
        "id": "U9EeGgc4wC7Y",
        "outputId": "e0398db4-41c9-444e-da85-2f29d25a8108",
        "colab": {
          "base_uri": "https://localhost:8080/",
          "height": 35
        }
      },
      "outputs": [
        {
          "output_type": "execute_result",
          "data": {
            "text/plain": [
              "'R is a high-level, general-purpose programming language.\\nIts design philosophy emphasizes code readability with the use of significant indentation. \\nR is dynamically typed and garbage-collected.'"
            ],
            "application/vnd.google.colaboratory.intrinsic+json": {
              "type": "string"
            }
          },
          "metadata": {},
          "execution_count": 54
        }
      ],
      "source": [
        "string2.replace( 'Python', 'R')"
      ]
    },
    {
      "cell_type": "markdown",
      "metadata": {
        "id": "Gh2gp6SawC7Y"
      },
      "source": [
        "## 7. Functions in Python\n",
        "\n",
        "* Data types of parameters types are not defined. \n",
        "* The types are inferred from values passed to the function.\n",
        "\n",
        "```\n",
        "def <function_name>([<parameters>]):\n",
        "    <statement(s)>\n",
        "```    "
      ]
    },
    {
      "cell_type": "code",
      "execution_count": 55,
      "metadata": {
        "id": "K4rQzyNnwC7Y"
      },
      "outputs": [],
      "source": [
        "def addElements( a, b ):\n",
        "    return a + b"
      ]
    },
    {
      "cell_type": "code",
      "execution_count": 56,
      "metadata": {
        "id": "23wtkMhtwC7Z",
        "outputId": "c1c7db30-936c-480b-ea8a-e44e3a4f541e",
        "colab": {
          "base_uri": "https://localhost:8080/"
        }
      },
      "outputs": [
        {
          "output_type": "execute_result",
          "data": {
            "text/plain": [
              "5"
            ]
          },
          "metadata": {},
          "execution_count": 56
        }
      ],
      "source": [
        "result = addElements( 2, 3 )\n",
        "\n",
        "result"
      ]
    },
    {
      "cell_type": "code",
      "execution_count": 57,
      "metadata": {
        "id": "OasKX0DGwC7Z",
        "outputId": "9ad8567f-b304-459a-b891-0310e0096739",
        "colab": {
          "base_uri": "https://localhost:8080/"
        }
      },
      "outputs": [
        {
          "output_type": "execute_result",
          "data": {
            "text/plain": [
              "6.8"
            ]
          },
          "metadata": {},
          "execution_count": 57
        }
      ],
      "source": [
        "addElements( 2.3, 4.5 )"
      ]
    },
    {
      "cell_type": "markdown",
      "metadata": {
        "id": "vMh3RYycwC7Z"
      },
      "source": [
        "### 7.a Function parameters can be optional \n",
        "\n",
        "* The default value for the parameters can be defined in function signatures."
      ]
    },
    {
      "cell_type": "code",
      "execution_count": 59,
      "metadata": {
        "id": "NZjV68ltwC7Z"
      },
      "outputs": [],
      "source": [
        "def addElements( a, b = 4 ):\n",
        "    return a + b"
      ]
    },
    {
      "cell_type": "code",
      "execution_count": 60,
      "metadata": {
        "id": "z4eKK5TAwC7Z",
        "outputId": "dd373cd5-0dd4-46f5-ce9f-f326dc23555f",
        "colab": {
          "base_uri": "https://localhost:8080/"
        }
      },
      "outputs": [
        {
          "output_type": "execute_result",
          "data": {
            "text/plain": [
              "6"
            ]
          },
          "metadata": {},
          "execution_count": 60
        }
      ],
      "source": [
        "addElements( 2 )"
      ]
    },
    {
      "cell_type": "code",
      "execution_count": 61,
      "metadata": {
        "id": "7c_Vkn2ewC7a",
        "outputId": "2eebefab-b550-44fd-d2d6-911d9ed07411",
        "colab": {
          "base_uri": "https://localhost:8080/"
        }
      },
      "outputs": [
        {
          "output_type": "execute_result",
          "data": {
            "text/plain": [
              "7"
            ]
          },
          "metadata": {},
          "execution_count": 61
        }
      ],
      "source": [
        "addElements( 2, 5 )"
      ]
    },
    {
      "cell_type": "markdown",
      "metadata": {
        "id": "q_5VVLeJwC7a"
      },
      "source": [
        "### 7.b Functions can return multiple values"
      ]
    },
    {
      "cell_type": "code",
      "execution_count": 122,
      "metadata": {
        "id": "7Eya3wJCwC7a"
      },
      "outputs": [],
      "source": [
        "def addElements( a, b ):\n",
        "    return a + b, a - b"
      ]
    },
    {
      "cell_type": "code",
      "execution_count": 123,
      "metadata": {
        "id": "xt-k674VwC7a"
      },
      "outputs": [],
      "source": [
        "add, sub = addElements( 5, 2 )"
      ]
    },
    {
      "cell_type": "code",
      "source": [
        "add = addElements (5, 2)"
      ],
      "metadata": {
        "id": "yVAXB3vK2klE"
      },
      "execution_count": 124,
      "outputs": []
    },
    {
      "cell_type": "code",
      "execution_count": 125,
      "metadata": {
        "id": "_YP09XgBwC7b",
        "outputId": "5043cf8d-6509-45da-9335-657888aed6e8",
        "colab": {
          "base_uri": "https://localhost:8080/"
        }
      },
      "outputs": [
        {
          "output_type": "stream",
          "name": "stdout",
          "text": [
            "add:  (7, 3)\n",
            "sub:  3\n"
          ]
        }
      ],
      "source": [
        "print(\"add: \", add)\n",
        "print(\"sub: \", sub)"
      ]
    },
    {
      "cell_type": "markdown",
      "metadata": {
        "id": "QgkRsJtJwC7b"
      },
      "source": [
        "## Ex2: Participant Exercise\n",
        "\n"
      ]
    },
    {
      "cell_type": "markdown",
      "metadata": {
        "id": "viYT7PkqwC7b"
      },
      "source": [
        "1. Write a function \n",
        "    - named getAgeGroup\n",
        "    - which takes a paramter age\n",
        "    - the default value of the age is 25\n",
        "    - it returns the age group as either \"young\" or \"adult\" or 'mid-age\" or \"old\" based on age\n",
        "        - if age < 20, then return young\n",
        "        - if age >= 20, but < 35 then adult\n",
        "        - if age >= 35, but < 55 then mid-age\n",
        "        - if age > 55 then old\n",
        "2. Invoke the function with different ages and test        "
      ]
    },
    {
      "cell_type": "markdown",
      "source": [
        "My Solution:\n",
        "\n"
      ],
      "metadata": {
        "id": "el8dHaPR2y5J"
      }
    },
    {
      "cell_type": "code",
      "execution_count": 145,
      "metadata": {
        "id": "wB_b3FlDwC7c"
      },
      "outputs": [],
      "source": [
        "def getAgeGroup (age = 25):\n",
        "    if (age < 20):\n",
        "      return \"young\"\n",
        "    elif (age >= 20) and (age < 35):\n",
        "      return \"adult\"\n",
        "    elif (age >= 35) and (age < 55):\n",
        "      return \"mid-Age\"\n",
        "    else:\n",
        "      return \"old\"\n",
        "    "
      ]
    },
    {
      "cell_type": "code",
      "source": [
        "result = getAgeGroup(56)\n",
        "result"
      ],
      "metadata": {
        "id": "LJXUB4NctbNK",
        "outputId": "1af6bd84-e7f5-4e46-fa89-9c618473d7c3",
        "colab": {
          "base_uri": "https://localhost:8080/",
          "height": 35
        }
      },
      "execution_count": 147,
      "outputs": [
        {
          "output_type": "execute_result",
          "data": {
            "text/plain": [
              "'old'"
            ],
            "application/vnd.google.colaboratory.intrinsic+json": {
              "type": "string"
            }
          },
          "metadata": {},
          "execution_count": 147
        }
      ]
    }
  ],
  "metadata": {
    "anaconda-cloud": {},
    "kernelspec": {
      "display_name": "Python 3",
      "language": "python",
      "name": "python3"
    },
    "language_info": {
      "codemirror_mode": {
        "name": "ipython",
        "version": 3
      },
      "file_extension": ".py",
      "mimetype": "text/x-python",
      "name": "python",
      "nbconvert_exporter": "python",
      "pygments_lexer": "ipython3",
      "version": "3.8.3"
    },
    "colab": {
      "provenance": []
    }
  },
  "nbformat": 4,
  "nbformat_minor": 0
}