{
  "cells": [
    {
      "cell_type": "markdown",
      "metadata": {
        "id": "P1Qnl00BHOz2"
      },
      "source": [
        "# Regression Example: Used Car Price Prediction\n",
        "\n",
        "This notebook introduces the steps to build a regression model to predict the resale price of an used car.\n",
        "\n",
        "### Dataset\n",
        "\n",
        "**Filename**: final_cars_maruti.csv\n",
        "\n",
        "It is a comma separated file and there are 11 columns in the dataset.\n",
        "\n",
        "1. Model - Model of the car\n",
        "2. Location - The location in which the car was sold.\n",
        "3. Age - Age of the car when the car was sold from the year of purchase.\n",
        "4. KM_Driven - The total kilometers are driven in the car by the previous owner(s) in '000 kms.\n",
        "5. Fuel_Type - The type of fuel used by the car. (Petrol, Diesel, Electric, CNG, LPG)\n",
        "6. Transmission - The type of transmission used by the car. (Automatic / Manual)\n",
        "7. Owner_Type - First, Second, Third, or Fourth & Above\n",
        "8. Mileage - The standard mileage offered by the car company in kmpl or km/kg\n",
        "9. Power - The maximum power of the engine in bhp.\n",
        "10. Seats - The number of seats in the car.\n",
        "11. Price - The resale price of the car (target).\n"
      ]
    },
    {
      "cell_type": "markdown",
      "metadata": {
        "id": "MerGElFKHO0D"
      },
      "source": [
        "## 1. Loading the Dataset"
      ]
    },
    {
      "cell_type": "code",
      "execution_count": 6,
      "metadata": {
        "id": "fyen0q5NHO0E"
      },
      "outputs": [],
      "source": [
        "import pandas as pd\n",
        "import numpy as np\n",
        "import matplotlib.pyplot as plt\n",
        "import seaborn as sn"
      ]
    },
    {
      "cell_type": "code",
      "source": [
        "cars_df = pd.read_csv('final_cars_maruti.csv')"
      ],
      "metadata": {
        "id": "TZvRAV3IHpOU"
      },
      "execution_count": 7,
      "outputs": []
    },
    {
      "cell_type": "code",
      "source": [
        "cars_df.head(5)"
      ],
      "metadata": {
        "colab": {
          "base_uri": "https://localhost:8080/",
          "height": 206
        },
        "id": "tFEOo7-8H7e7",
        "outputId": "b28cc223-4e09-48d7-a893-7bea50116604"
      },
      "execution_count": 8,
      "outputs": [
        {
          "output_type": "execute_result",
          "data": {
            "text/plain": [
              "    Location Fuel_Type Transmission Owner_Type  Seats  Price  Age   Model  \\\n",
              "0    Chennai    Diesel       Manual      First      7   6.00    8  ertiga   \n",
              "1     Jaipur    Diesel       Manual      First      5   5.60    5   swift   \n",
              "2     Jaipur    Diesel       Manual      First      5   5.99    3   swift   \n",
              "3  Hyderabad    Petrol       Manual     Second      5   2.75    7    alto   \n",
              "4     Jaipur    Petrol       Manual     Second      5   1.85   11   wagon   \n",
              "\n",
              "   Mileage  Power  KM_Driven  \n",
              "0    20.77  88.76         87  \n",
              "1    25.20  74.00         64  \n",
              "2    28.40  74.00         25  \n",
              "3    20.92  67.10         54  \n",
              "4    14.00  64.00         83  "
            ],
            "text/html": [
              "\n",
              "  <div id=\"df-1ab0f758-30a6-4c22-8073-a7a72612d969\">\n",
              "    <div class=\"colab-df-container\">\n",
              "      <div>\n",
              "<style scoped>\n",
              "    .dataframe tbody tr th:only-of-type {\n",
              "        vertical-align: middle;\n",
              "    }\n",
              "\n",
              "    .dataframe tbody tr th {\n",
              "        vertical-align: top;\n",
              "    }\n",
              "\n",
              "    .dataframe thead th {\n",
              "        text-align: right;\n",
              "    }\n",
              "</style>\n",
              "<table border=\"1\" class=\"dataframe\">\n",
              "  <thead>\n",
              "    <tr style=\"text-align: right;\">\n",
              "      <th></th>\n",
              "      <th>Location</th>\n",
              "      <th>Fuel_Type</th>\n",
              "      <th>Transmission</th>\n",
              "      <th>Owner_Type</th>\n",
              "      <th>Seats</th>\n",
              "      <th>Price</th>\n",
              "      <th>Age</th>\n",
              "      <th>Model</th>\n",
              "      <th>Mileage</th>\n",
              "      <th>Power</th>\n",
              "      <th>KM_Driven</th>\n",
              "    </tr>\n",
              "  </thead>\n",
              "  <tbody>\n",
              "    <tr>\n",
              "      <th>0</th>\n",
              "      <td>Chennai</td>\n",
              "      <td>Diesel</td>\n",
              "      <td>Manual</td>\n",
              "      <td>First</td>\n",
              "      <td>7</td>\n",
              "      <td>6.00</td>\n",
              "      <td>8</td>\n",
              "      <td>ertiga</td>\n",
              "      <td>20.77</td>\n",
              "      <td>88.76</td>\n",
              "      <td>87</td>\n",
              "    </tr>\n",
              "    <tr>\n",
              "      <th>1</th>\n",
              "      <td>Jaipur</td>\n",
              "      <td>Diesel</td>\n",
              "      <td>Manual</td>\n",
              "      <td>First</td>\n",
              "      <td>5</td>\n",
              "      <td>5.60</td>\n",
              "      <td>5</td>\n",
              "      <td>swift</td>\n",
              "      <td>25.20</td>\n",
              "      <td>74.00</td>\n",
              "      <td>64</td>\n",
              "    </tr>\n",
              "    <tr>\n",
              "      <th>2</th>\n",
              "      <td>Jaipur</td>\n",
              "      <td>Diesel</td>\n",
              "      <td>Manual</td>\n",
              "      <td>First</td>\n",
              "      <td>5</td>\n",
              "      <td>5.99</td>\n",
              "      <td>3</td>\n",
              "      <td>swift</td>\n",
              "      <td>28.40</td>\n",
              "      <td>74.00</td>\n",
              "      <td>25</td>\n",
              "    </tr>\n",
              "    <tr>\n",
              "      <th>3</th>\n",
              "      <td>Hyderabad</td>\n",
              "      <td>Petrol</td>\n",
              "      <td>Manual</td>\n",
              "      <td>Second</td>\n",
              "      <td>5</td>\n",
              "      <td>2.75</td>\n",
              "      <td>7</td>\n",
              "      <td>alto</td>\n",
              "      <td>20.92</td>\n",
              "      <td>67.10</td>\n",
              "      <td>54</td>\n",
              "    </tr>\n",
              "    <tr>\n",
              "      <th>4</th>\n",
              "      <td>Jaipur</td>\n",
              "      <td>Petrol</td>\n",
              "      <td>Manual</td>\n",
              "      <td>Second</td>\n",
              "      <td>5</td>\n",
              "      <td>1.85</td>\n",
              "      <td>11</td>\n",
              "      <td>wagon</td>\n",
              "      <td>14.00</td>\n",
              "      <td>64.00</td>\n",
              "      <td>83</td>\n",
              "    </tr>\n",
              "  </tbody>\n",
              "</table>\n",
              "</div>\n",
              "      <button class=\"colab-df-convert\" onclick=\"convertToInteractive('df-1ab0f758-30a6-4c22-8073-a7a72612d969')\"\n",
              "              title=\"Convert this dataframe to an interactive table.\"\n",
              "              style=\"display:none;\">\n",
              "        \n",
              "  <svg xmlns=\"http://www.w3.org/2000/svg\" height=\"24px\"viewBox=\"0 0 24 24\"\n",
              "       width=\"24px\">\n",
              "    <path d=\"M0 0h24v24H0V0z\" fill=\"none\"/>\n",
              "    <path d=\"M18.56 5.44l.94 2.06.94-2.06 2.06-.94-2.06-.94-.94-2.06-.94 2.06-2.06.94zm-11 1L8.5 8.5l.94-2.06 2.06-.94-2.06-.94L8.5 2.5l-.94 2.06-2.06.94zm10 10l.94 2.06.94-2.06 2.06-.94-2.06-.94-.94-2.06-.94 2.06-2.06.94z\"/><path d=\"M17.41 7.96l-1.37-1.37c-.4-.4-.92-.59-1.43-.59-.52 0-1.04.2-1.43.59L10.3 9.45l-7.72 7.72c-.78.78-.78 2.05 0 2.83L4 21.41c.39.39.9.59 1.41.59.51 0 1.02-.2 1.41-.59l7.78-7.78 2.81-2.81c.8-.78.8-2.07 0-2.86zM5.41 20L4 18.59l7.72-7.72 1.47 1.35L5.41 20z\"/>\n",
              "  </svg>\n",
              "      </button>\n",
              "      \n",
              "  <style>\n",
              "    .colab-df-container {\n",
              "      display:flex;\n",
              "      flex-wrap:wrap;\n",
              "      gap: 12px;\n",
              "    }\n",
              "\n",
              "    .colab-df-convert {\n",
              "      background-color: #E8F0FE;\n",
              "      border: none;\n",
              "      border-radius: 50%;\n",
              "      cursor: pointer;\n",
              "      display: none;\n",
              "      fill: #1967D2;\n",
              "      height: 32px;\n",
              "      padding: 0 0 0 0;\n",
              "      width: 32px;\n",
              "    }\n",
              "\n",
              "    .colab-df-convert:hover {\n",
              "      background-color: #E2EBFA;\n",
              "      box-shadow: 0px 1px 2px rgba(60, 64, 67, 0.3), 0px 1px 3px 1px rgba(60, 64, 67, 0.15);\n",
              "      fill: #174EA6;\n",
              "    }\n",
              "\n",
              "    [theme=dark] .colab-df-convert {\n",
              "      background-color: #3B4455;\n",
              "      fill: #D2E3FC;\n",
              "    }\n",
              "\n",
              "    [theme=dark] .colab-df-convert:hover {\n",
              "      background-color: #434B5C;\n",
              "      box-shadow: 0px 1px 3px 1px rgba(0, 0, 0, 0.15);\n",
              "      filter: drop-shadow(0px 1px 2px rgba(0, 0, 0, 0.3));\n",
              "      fill: #FFFFFF;\n",
              "    }\n",
              "  </style>\n",
              "\n",
              "      <script>\n",
              "        const buttonEl =\n",
              "          document.querySelector('#df-1ab0f758-30a6-4c22-8073-a7a72612d969 button.colab-df-convert');\n",
              "        buttonEl.style.display =\n",
              "          google.colab.kernel.accessAllowed ? 'block' : 'none';\n",
              "\n",
              "        async function convertToInteractive(key) {\n",
              "          const element = document.querySelector('#df-1ab0f758-30a6-4c22-8073-a7a72612d969');\n",
              "          const dataTable =\n",
              "            await google.colab.kernel.invokeFunction('convertToInteractive',\n",
              "                                                     [key], {});\n",
              "          if (!dataTable) return;\n",
              "\n",
              "          const docLinkHtml = 'Like what you see? Visit the ' +\n",
              "            '<a target=\"_blank\" href=https://colab.research.google.com/notebooks/data_table.ipynb>data table notebook</a>'\n",
              "            + ' to learn more about interactive tables.';\n",
              "          element.innerHTML = '';\n",
              "          dataTable['output_type'] = 'display_data';\n",
              "          await google.colab.output.renderOutput(dataTable, element);\n",
              "          const docLink = document.createElement('div');\n",
              "          docLink.innerHTML = docLinkHtml;\n",
              "          element.appendChild(docLink);\n",
              "        }\n",
              "      </script>\n",
              "    </div>\n",
              "  </div>\n",
              "  "
            ]
          },
          "metadata": {},
          "execution_count": 8
        }
      ]
    },
    {
      "cell_type": "code",
      "source": [
        "cars_df.shape"
      ],
      "metadata": {
        "colab": {
          "base_uri": "https://localhost:8080/"
        },
        "id": "ZfHdBrLrH1K7",
        "outputId": "d429bae3-8a42-4251-9b2f-96432b1c4b83"
      },
      "execution_count": 9,
      "outputs": [
        {
          "output_type": "execute_result",
          "data": {
            "text/plain": [
              "(1010, 11)"
            ]
          },
          "metadata": {},
          "execution_count": 9
        }
      ]
    },
    {
      "cell_type": "markdown",
      "metadata": {
        "id": "SBarPpK8HO0G"
      },
      "source": [
        "### Relationship between Age and Price"
      ]
    },
    {
      "cell_type": "code",
      "source": [
        "sn.scatterplot(data = cars_df, y = 'Price', x = 'Age');"
      ],
      "metadata": {
        "colab": {
          "base_uri": "https://localhost:8080/",
          "height": 449
        },
        "id": "SH0SHbiWH41B",
        "outputId": "9bbf39cf-ae18-4982-d440-b32a34c574e8"
      },
      "execution_count": 10,
      "outputs": [
        {
          "output_type": "display_data",
          "data": {
            "text/plain": [
              "<Figure size 640x480 with 1 Axes>"
            ],
            "image/png": "[encoded data removed]"
          },
          "metadata": {}
        }
      ]
    },
    {
      "cell_type": "markdown",
      "metadata": {
        "id": "zqE01xiDHO0H"
      },
      "source": [
        "## 2. Simple Linear Regression\n",
        "\n",
        "Assumes linear relationship between features and outcome variable."
      ]
    },
    {
      "cell_type": "markdown",
      "metadata": {
        "id": "pxSvRQ0CHO0I"
      },
      "source": [
        "Simple linear regression is given by,\n",
        "\n",
        "$\\hat{Y} = \\beta_{0} + \\beta_{1}X$\n",
        "\t\t\t\t\t\t\t\t\t\n",
        "- $\\beta_{0}$ and $\\beta_{1}$ are the regression coefficients\n",
        "- $\\hat{Y}$ is the predicted value of ${Y}$.\n",
        "\n",
        "\n",
        "So, the error (Mean Squared Error) is:\n",
        "\n",
        "${mse}$ =  $ \\frac{1}{N}  \\sum_{i=1}^{n}{(Y_{i} - (\\hat{Y}))}^2$\n",
        "\n",
        "or \n",
        "\n",
        "${mse}$ =  $ \\frac{1}{N}  \\sum_{i=1}^{n}{(Y_{i} - (\\beta_{0} + \\beta_{1} X_{i}))}^2$\n",
        "\n",
        "\n"
      ]
    },
    {
      "cell_type": "markdown",
      "source": [
        "Ways in which the error can be reduced?\n",
        "\n",
        "1. Gradient Descent \n",
        "2. "
      ],
      "metadata": {
        "id": "dBysUjh-KfFd"
      }
    },
    {
      "cell_type": "markdown",
      "metadata": {
        "id": "Kl1lgJLdHO0J"
      },
      "source": [
        "Regression Explained: https://mlu-explain.github.io/linear-regression/"
      ]
    },
    {
      "cell_type": "markdown",
      "metadata": {
        "id": "eJQ2CZCgHO0J"
      },
      "source": [
        "### Setting X and Y Variables"
      ]
    },
    {
      "cell_type": "code",
      "source": [
        "X = cars_df[['Age']]\n",
        "y = cars_df.Price"
      ],
      "metadata": {
        "id": "TYEf4qKCLpXm"
      },
      "execution_count": 13,
      "outputs": []
    },
    {
      "cell_type": "markdown",
      "metadata": {
        "id": "jjIuiYMIHO0K"
      },
      "source": [
        "### Splitting the dataset"
      ]
    },
    {
      "cell_type": "markdown",
      "source": [
        "Number of samples in the dataset depends on the number of features in the dataset.\n",
        "\n",
        "if there are 100 + features, you need more samples."
      ],
      "metadata": {
        "id": "vntqPHPxMeTd"
      }
    },
    {
      "cell_type": "code",
      "source": [
        "from sklearn.model_selection import train_test_split"
      ],
      "metadata": {
        "id": "C9nZY1UiL0FC"
      },
      "execution_count": 14,
      "outputs": []
    },
    {
      "cell_type": "code",
      "source": [
        "X_train, X_test, y_train, y_test = train_test_split (X, y, train_size = 0.8, random_state = 100)"
      ],
      "metadata": {
        "id": "2NyFt8k3L6ob"
      },
      "execution_count": 15,
      "outputs": []
    },
    {
      "cell_type": "code",
      "source": [
        "X_train.shape"
      ],
      "metadata": {
        "colab": {
          "base_uri": "https://localhost:8080/"
        },
        "id": "ZJMWZx0OMuSQ",
        "outputId": "23cf8b35-ea73-41e0-ddc2-ec7aeab9102f"
      },
      "execution_count": 16,
      "outputs": [
        {
          "output_type": "execute_result",
          "data": {
            "text/plain": [
              "(808, 1)"
            ]
          },
          "metadata": {},
          "execution_count": 16
        }
      ]
    },
    {
      "cell_type": "code",
      "source": [
        "X_test.shape"
      ],
      "metadata": {
        "colab": {
          "base_uri": "https://localhost:8080/"
        },
        "id": "_4h30Y9CMzMc",
        "outputId": "83510bdb-4fab-484b-c24f-e139838dc11d"
      },
      "execution_count": 17,
      "outputs": [
        {
          "output_type": "execute_result",
          "data": {
            "text/plain": [
              "(202, 1)"
            ]
          },
          "metadata": {},
          "execution_count": 17
        }
      ]
    },
    {
      "cell_type": "code",
      "source": [],
      "metadata": {
        "id": "WAuKpAnKM8Uj"
      },
      "execution_count": null,
      "outputs": []
    },
    {
      "cell_type": "markdown",
      "metadata": {
        "id": "b1kEAjbgHO0L"
      },
      "source": [
        "### Building the Model"
      ]
    },
    {
      "cell_type": "code",
      "source": [
        "from sklearn.linear_model import LinearRegression"
      ],
      "metadata": {
        "id": "YpgezVhVM9vI"
      },
      "execution_count": 18,
      "outputs": []
    },
    {
      "cell_type": "code",
      "source": [
        "lreg_v1 = LinearRegression()"
      ],
      "metadata": {
        "id": "maGGo_3ANXcN"
      },
      "execution_count": 19,
      "outputs": []
    },
    {
      "cell_type": "code",
      "source": [
        "lreg_v1.fit(X_train, y_train)"
      ],
      "metadata": {
        "colab": {
          "base_uri": "https://localhost:8080/",
          "height": 74
        },
        "id": "q5YybXR-NbUR",
        "outputId": "d0bb4c34-e8fd-4c62-bb22-ccf55fc3ab04"
      },
      "execution_count": 20,
      "outputs": [
        {
          "output_type": "execute_result",
          "data": {
            "text/plain": [
              "LinearRegression()"
            ],
            "text/html": [
              "<style>#sk-container-id-1 {color: black;background-color: white;}#sk-container-id-1 pre{padding: 0;}#sk-container-id-1 div.sk-toggleable {background-color: white;}#sk-container-id-1 label.sk-toggleable__label {cursor: pointer;display: block;width: 100%;margin-bottom: 0;padding: 0.3em;box-sizing: border-box;text-align: center;}#sk-container-id-1 label.sk-toggleable__label-arrow:before {content: \"▸\";float: left;margin-right: 0.25em;color: #696969;}#sk-container-id-1 label.sk-toggleable__label-arrow:hover:before {color: black;}#sk-container-id-1 div.sk-estimator:hover label.sk-toggleable__label-arrow:before {color: black;}#sk-container-id-1 div.sk-toggleable__content {max-height: 0;max-width: 0;overflow: hidden;text-align: left;background-color: #f0f8ff;}#sk-container-id-1 div.sk-toggleable__content pre {margin: 0.2em;color: black;border-radius: 0.25em;background-color: #f0f8ff;}#sk-container-id-1 input.sk-toggleable__control:checked~div.sk-toggleable__content {max-height: 200px;max-width: 100%;overflow: auto;}#sk-container-id-1 input.sk-toggleable__control:checked~label.sk-toggleable__label-arrow:before {content: \"▾\";}#sk-container-id-1 div.sk-estimator input.sk-toggleable__control:checked~label.sk-toggleable__label {background-color: #d4ebff;}#sk-container-id-1 div.sk-label input.sk-toggleable__control:checked~label.sk-toggleable__label {background-color: #d4ebff;}#sk-container-id-1 input.sk-hidden--visually {border: 0;clip: rect(1px 1px 1px 1px);clip: rect(1px, 1px, 1px, 1px);height: 1px;margin: -1px;overflow: hidden;padding: 0;position: absolute;width: 1px;}#sk-container-id-1 div.sk-estimator {font-family: monospace;background-color: #f0f8ff;border: 1px dotted black;border-radius: 0.25em;box-sizing: border-box;margin-bottom: 0.5em;}#sk-container-id-1 div.sk-estimator:hover {background-color: #d4ebff;}#sk-container-id-1 div.sk-parallel-item::after {content: \"\";width: 100%;border-bottom: 1px solid gray;flex-grow: 1;}#sk-container-id-1 div.sk-label:hover label.sk-toggleable__label {background-color: #d4ebff;}#sk-container-id-1 div.sk-serial::before {content: \"\";position: absolute;border-left: 1px solid gray;box-sizing: border-box;top: 0;bottom: 0;left: 50%;z-index: 0;}#sk-container-id-1 div.sk-serial {display: flex;flex-direction: column;align-items: center;background-color: white;padding-right: 0.2em;padding-left: 0.2em;position: relative;}#sk-container-id-1 div.sk-item {position: relative;z-index: 1;}#sk-container-id-1 div.sk-parallel {display: flex;align-items: stretch;justify-content: center;background-color: white;position: relative;}#sk-container-id-1 div.sk-item::before, #sk-container-id-1 div.sk-parallel-item::before {content: \"\";position: absolute;border-left: 1px solid gray;box-sizing: border-box;top: 0;bottom: 0;left: 50%;z-index: -1;}#sk-container-id-1 div.sk-parallel-item {display: flex;flex-direction: column;z-index: 1;position: relative;background-color: white;}#sk-container-id-1 div.sk-parallel-item:first-child::after {align-self: flex-end;width: 50%;}#sk-container-id-1 div.sk-parallel-item:last-child::after {align-self: flex-start;width: 50%;}#sk-container-id-1 div.sk-parallel-item:only-child::after {width: 0;}#sk-container-id-1 div.sk-dashed-wrapped {border: 1px dashed gray;margin: 0 0.4em 0.5em 0.4em;box-sizing: border-box;padding-bottom: 0.4em;background-color: white;}#sk-container-id-1 div.sk-label label {font-family: monospace;font-weight: bold;display: inline-block;line-height: 1.2em;}#sk-container-id-1 div.sk-label-container {text-align: center;}#sk-container-id-1 div.sk-container {/* jupyter's `normalize.less` sets `[hidden] { display: none; }` but bootstrap.min.css set `[hidden] { display: none !important; }` so we also need the `!important` here to be able to override the default hidden behavior on the sphinx rendered scikit-learn.org. See: https://github.com/scikit-learn/scikit-learn/issues/21755 */display: inline-block !important;position: relative;}#sk-container-id-1 div.sk-text-repr-fallback {display: none;}</style><div id=\"sk-container-id-1\" class=\"sk-top-container\"><div class=\"sk-text-repr-fallback\"><pre>LinearRegression()</pre><b>In a Jupyter environment, please rerun this cell to show the HTML representation or trust the notebook. <br />On GitHub, the HTML representation is unable to render, please try loading this page with nbviewer.org.</b></div><div class=\"sk-container\" hidden><div class=\"sk-item\"><div class=\"sk-estimator sk-toggleable\"><input class=\"sk-toggleable__control sk-hidden--visually\" id=\"sk-estimator-id-1\" type=\"checkbox\" checked><label for=\"sk-estimator-id-1\" class=\"sk-toggleable__label sk-toggleable__label-arrow\">LinearRegression</label><div class=\"sk-toggleable__content\"><pre>LinearRegression()</pre></div></div></div></div></div>"
            ]
          },
          "metadata": {},
          "execution_count": 20
        }
      ]
    },
    {
      "cell_type": "code",
      "source": [],
      "metadata": {
        "id": "jy_gdOjSNge7"
      },
      "execution_count": null,
      "outputs": []
    },
    {
      "cell_type": "markdown",
      "source": [],
      "metadata": {
        "id": "xOs_ec_jMpNi"
      }
    },
    {
      "cell_type": "markdown",
      "metadata": {
        "id": "UiOxCLLCHO0L"
      },
      "source": [
        "### Finding the model parameters"
      ]
    },
    {
      "cell_type": "code",
      "source": [
        "lreg_v1.intercept_"
      ],
      "metadata": {
        "colab": {
          "base_uri": "https://localhost:8080/"
        },
        "id": "waBQuLF6NrEs",
        "outputId": "a0c0913c-6cd4-4dd7-8b35-4feb802a0a76"
      },
      "execution_count": 21,
      "outputs": [
        {
          "output_type": "execute_result",
          "data": {
            "text/plain": [
              "7.601234043261617"
            ]
          },
          "metadata": {},
          "execution_count": 21
        }
      ]
    },
    {
      "cell_type": "code",
      "source": [
        "lreg_v1.coef_"
      ],
      "metadata": {
        "colab": {
          "base_uri": "https://localhost:8080/"
        },
        "id": "xEiTuzDrNuz6",
        "outputId": "efd8c7b9-da97-470e-81a2-5ffe98a5be79"
      },
      "execution_count": 22,
      "outputs": [
        {
          "output_type": "execute_result",
          "data": {
            "text/plain": [
              "array([-0.49082536])"
            ]
          },
          "metadata": {},
          "execution_count": 22
        }
      ]
    },
    {
      "cell_type": "code",
      "source": [
        "sn.lmplot(data = cars_df,\n",
        "          y = 'Price',\n",
        "          x = 'Age',\n",
        "          fit_reg = True)"
      ],
      "metadata": {
        "colab": {
          "base_uri": "https://localhost:8080/",
          "height": 523
        },
        "id": "M3uR8C9mOL3W",
        "outputId": "1dfd3326-a1fc-4e50-a902-e90e8a3dc35c"
      },
      "execution_count": 23,
      "outputs": [
        {
          "output_type": "execute_result",
          "data": {
            "text/plain": [
              "<seaborn.axisgrid.FacetGrid at 0x7f93803380a0>"
            ]
          },
          "metadata": {},
          "execution_count": 23
        },
        {
          "output_type": "display_data",
          "data": {
            "text/plain": [
              "<Figure size 500x500 with 1 Axes>"
            ],
            "image/png": "[encoded data removed]"
          },
          "metadata": {}
        }
      ]
    },
    {
      "cell_type": "markdown",
      "metadata": {
        "id": "q2L2YAnhHO0M"
      },
      "source": [
        "### Predicting on Test Set "
      ]
    },
    {
      "cell_type": "code",
      "source": [
        "y_pred = lreg_v1.predict(X_test)"
      ],
      "metadata": {
        "id": "lcP48YdYOhf0"
      },
      "execution_count": 24,
      "outputs": []
    },
    {
      "cell_type": "code",
      "source": [
        "y_df = pd.DataFrame({ \"actual\": y_test,\n",
        "                     \"predicted\": y_pred,\n",
        "                     \"residual\": y_test - y_pred})"
      ],
      "metadata": {
        "id": "HHAzq1TEOyqw"
      },
      "execution_count": 25,
      "outputs": []
    },
    {
      "cell_type": "code",
      "source": [
        "y_df.sample(10)"
      ],
      "metadata": {
        "colab": {
          "base_uri": "https://localhost:8080/",
          "height": 363
        },
        "id": "dFPbv4TpPD8P",
        "outputId": "6ea6a110-466f-4b39-f449-6149d73bd7fa"
      },
      "execution_count": 26,
      "outputs": [
        {
          "output_type": "execute_result",
          "data": {
            "text/plain": [
              "     actual  predicted  residual\n",
              "918    3.80   2.202155  1.597845\n",
              "450    3.50   2.202155  1.297845\n",
              "72     8.26   6.128758  2.131242\n",
              "116    4.90   5.147107 -0.247107\n",
              "198    2.95   3.183806 -0.233806\n",
              "376    3.40   5.637933 -2.237933\n",
              "807    1.75   1.220504  0.529496\n",
              "404    8.30   6.128758  2.171242\n",
              "512    7.00   3.674631  3.325369\n",
              "927    8.25   5.637933  2.612067"
            ],
            "text/html": [
              "\n",
              "  <div id=\"df-cdbb3636-1dfd-45e3-806d-3fbd01bfaeb6\">\n",
              "    <div class=\"colab-df-container\">\n",
              "      <div>\n",
              "<style scoped>\n",
              "    .dataframe tbody tr th:only-of-type {\n",
              "        vertical-align: middle;\n",
              "    }\n",
              "\n",
              "    .dataframe tbody tr th {\n",
              "        vertical-align: top;\n",
              "    }\n",
              "\n",
              "    .dataframe thead th {\n",
              "        text-align: right;\n",
              "    }\n",
              "</style>\n",
              "<table border=\"1\" class=\"dataframe\">\n",
              "  <thead>\n",
              "    <tr style=\"text-align: right;\">\n",
              "      <th></th>\n",
              "      <th>actual</th>\n",
              "      <th>predicted</th>\n",
              "      <th>residual</th>\n",
              "    </tr>\n",
              "  </thead>\n",
              "  <tbody>\n",
              "    <tr>\n",
              "      <th>918</th>\n",
              "      <td>3.80</td>\n",
              "      <td>2.202155</td>\n",
              "      <td>1.597845</td>\n",
              "    </tr>\n",
              "    <tr>\n",
              "      <th>450</th>\n",
              "      <td>3.50</td>\n",
              "      <td>2.202155</td>\n",
              "      <td>1.297845</td>\n",
              "    </tr>\n",
              "    <tr>\n",
              "      <th>72</th>\n",
              "      <td>8.26</td>\n",
              "      <td>6.128758</td>\n",
              "      <td>2.131242</td>\n",
              "    </tr>\n",
              "    <tr>\n",
              "      <th>116</th>\n",
              "      <td>4.90</td>\n",
              "      <td>5.147107</td>\n",
              "      <td>-0.247107</td>\n",
              "    </tr>\n",
              "    <tr>\n",
              "      <th>198</th>\n",
              "      <td>2.95</td>\n",
              "      <td>3.183806</td>\n",
              "      <td>-0.233806</td>\n",
              "    </tr>\n",
              "    <tr>\n",
              "      <th>376</th>\n",
              "      <td>3.40</td>\n",
              "      <td>5.637933</td>\n",
              "      <td>-2.237933</td>\n",
              "    </tr>\n",
              "    <tr>\n",
              "      <th>807</th>\n",
              "      <td>1.75</td>\n",
              "      <td>1.220504</td>\n",
              "      <td>0.529496</td>\n",
              "    </tr>\n",
              "    <tr>\n",
              "      <th>404</th>\n",
              "      <td>8.30</td>\n",
              "      <td>6.128758</td>\n",
              "      <td>2.171242</td>\n",
              "    </tr>\n",
              "    <tr>\n",
              "      <th>512</th>\n",
              "      <td>7.00</td>\n",
              "      <td>3.674631</td>\n",
              "      <td>3.325369</td>\n",
              "    </tr>\n",
              "    <tr>\n",
              "      <th>927</th>\n",
              "      <td>8.25</td>\n",
              "      <td>5.637933</td>\n",
              "      <td>2.612067</td>\n",
              "    </tr>\n",
              "  </tbody>\n",
              "</table>\n",
              "</div>\n",
              "      <button class=\"colab-df-convert\" onclick=\"convertToInteractive('df-cdbb3636-1dfd-45e3-806d-3fbd01bfaeb6')\"\n",
              "              title=\"Convert this dataframe to an interactive table.\"\n",
              "              style=\"display:none;\">\n",
              "        \n",
              "  <svg xmlns=\"http://www.w3.org/2000/svg\" height=\"24px\"viewBox=\"0 0 24 24\"\n",
              "       width=\"24px\">\n",
              "    <path d=\"M0 0h24v24H0V0z\" fill=\"none\"/>\n",
              "    <path d=\"M18.56 5.44l.94 2.06.94-2.06 2.06-.94-2.06-.94-.94-2.06-.94 2.06-2.06.94zm-11 1L8.5 8.5l.94-2.06 2.06-.94-2.06-.94L8.5 2.5l-.94 2.06-2.06.94zm10 10l.94 2.06.94-2.06 2.06-.94-2.06-.94-.94-2.06-.94 2.06-2.06.94z\"/><path d=\"M17.41 7.96l-1.37-1.37c-.4-.4-.92-.59-1.43-.59-.52 0-1.04.2-1.43.59L10.3 9.45l-7.72 7.72c-.78.78-.78 2.05 0 2.83L4 21.41c.39.39.9.59 1.41.59.51 0 1.02-.2 1.41-.59l7.78-7.78 2.81-2.81c.8-.78.8-2.07 0-2.86zM5.41 20L4 18.59l7.72-7.72 1.47 1.35L5.41 20z\"/>\n",
              "  </svg>\n",
              "      </button>\n",
              "      \n",
              "  <style>\n",
              "    .colab-df-container {\n",
              "      display:flex;\n",
              "      flex-wrap:wrap;\n",
              "      gap: 12px;\n",
              "    }\n",
              "\n",
              "    .colab-df-convert {\n",
              "      background-color: #E8F0FE;\n",
              "      border: none;\n",
              "      border-radius: 50%;\n",
              "      cursor: pointer;\n",
              "      display: none;\n",
              "      fill: #1967D2;\n",
              "      height: 32px;\n",
              "      padding: 0 0 0 0;\n",
              "      width: 32px;\n",
              "    }\n",
              "\n",
              "    .colab-df-convert:hover {\n",
              "      background-color: #E2EBFA;\n",
              "      box-shadow: 0px 1px 2px rgba(60, 64, 67, 0.3), 0px 1px 3px 1px rgba(60, 64, 67, 0.15);\n",
              "      fill: #174EA6;\n",
              "    }\n",
              "\n",
              "    [theme=dark] .colab-df-convert {\n",
              "      background-color: #3B4455;\n",
              "      fill: #D2E3FC;\n",
              "    }\n",
              "\n",
              "    [theme=dark] .colab-df-convert:hover {\n",
              "      background-color: #434B5C;\n",
              "      box-shadow: 0px 1px 3px 1px rgba(0, 0, 0, 0.15);\n",
              "      filter: drop-shadow(0px 1px 2px rgba(0, 0, 0, 0.3));\n",
              "      fill: #FFFFFF;\n",
              "    }\n",
              "  </style>\n",
              "\n",
              "      <script>\n",
              "        const buttonEl =\n",
              "          document.querySelector('#df-cdbb3636-1dfd-45e3-806d-3fbd01bfaeb6 button.colab-df-convert');\n",
              "        buttonEl.style.display =\n",
              "          google.colab.kernel.accessAllowed ? 'block' : 'none';\n",
              "\n",
              "        async function convertToInteractive(key) {\n",
              "          const element = document.querySelector('#df-cdbb3636-1dfd-45e3-806d-3fbd01bfaeb6');\n",
              "          const dataTable =\n",
              "            await google.colab.kernel.invokeFunction('convertToInteractive',\n",
              "                                                     [key], {});\n",
              "          if (!dataTable) return;\n",
              "\n",
              "          const docLinkHtml = 'Like what you see? Visit the ' +\n",
              "            '<a target=\"_blank\" href=https://colab.research.google.com/notebooks/data_table.ipynb>data table notebook</a>'\n",
              "            + ' to learn more about interactive tables.';\n",
              "          element.innerHTML = '';\n",
              "          dataTable['output_type'] = 'display_data';\n",
              "          await google.colab.output.renderOutput(dataTable, element);\n",
              "          const docLink = document.createElement('div');\n",
              "          docLink.innerHTML = docLinkHtml;\n",
              "          element.appendChild(docLink);\n",
              "        }\n",
              "      </script>\n",
              "    </div>\n",
              "  </div>\n",
              "  "
            ]
          },
          "metadata": {},
          "execution_count": 26
        }
      ]
    },
    {
      "cell_type": "markdown",
      "metadata": {
        "id": "yI1rif3wHO0M"
      },
      "source": [
        "### Error or Accuracy Analysis: RMSE"
      ]
    },
    {
      "cell_type": "code",
      "source": [
        "from sklearn.metrics import mean_squared_error"
      ],
      "metadata": {
        "id": "dWJuIUtLPp_G"
      },
      "execution_count": 28,
      "outputs": []
    },
    {
      "cell_type": "code",
      "source": [
        "mse = mean_squared_error(y_df.actual, y_df.predicted)"
      ],
      "metadata": {
        "id": "sKezv_YEPyC5"
      },
      "execution_count": 29,
      "outputs": []
    },
    {
      "cell_type": "code",
      "source": [
        "mse"
      ],
      "metadata": {
        "colab": {
          "base_uri": "https://localhost:8080/"
        },
        "id": "ex0a_TBKP6mb",
        "outputId": "5a11070b-7d67-454a-c78f-31d3020a1e07"
      },
      "execution_count": 30,
      "outputs": [
        {
          "output_type": "execute_result",
          "data": {
            "text/plain": [
              "2.5489881819990146"
            ]
          },
          "metadata": {},
          "execution_count": 30
        }
      ]
    },
    {
      "cell_type": "markdown",
      "source": [
        "What is the RMSE?\n",
        "\n"
      ],
      "metadata": {
        "id": "Q7rkZqhfP-4x"
      }
    },
    {
      "cell_type": "code",
      "source": [
        "rmse = np.sqrt(mse)"
      ],
      "metadata": {
        "id": "UN6h0PaqQCeQ"
      },
      "execution_count": 31,
      "outputs": []
    },
    {
      "cell_type": "markdown",
      "source": [
        "RMSE has the same unit as Y\n",
        "\n",
        "It is relative\n",
        "\n",
        "for example you are predicting salary +/- 50000 is a good value\n",
        "\n",
        "Does not mean a lower number is better"
      ],
      "metadata": {
        "id": "_REdzXT0S8qH"
      }
    },
    {
      "cell_type": "code",
      "source": [
        "rmse"
      ],
      "metadata": {
        "colab": {
          "base_uri": "https://localhost:8080/"
        },
        "id": "VhJYrWurQIij",
        "outputId": "a7d6138a-c516-4d5b-dbe0-baa2b0a882eb"
      },
      "execution_count": 32,
      "outputs": [
        {
          "output_type": "execute_result",
          "data": {
            "text/plain": [
              "1.5965550983285903"
            ]
          },
          "metadata": {},
          "execution_count": 32
        }
      ]
    },
    {
      "cell_type": "markdown",
      "source": [
        "Intutively, if you use the model price = 7.6 - 0.49(age) \n",
        "\n",
        "There could be an average error of 1.59\n",
        "\n",
        "5.0 +/- 1.59\n",
        "\n",
        "We have only used age as a parameter to predict the price.\n",
        "\n"
      ],
      "metadata": {
        "id": "fxq8brd-QROg"
      }
    },
    {
      "cell_type": "markdown",
      "metadata": {
        "id": "0JKtwFFVHO0M"
      },
      "source": [
        "### What is R-quared?\n",
        "\n",
        "R-squared is a statistical measure that indicates how much of the variation of a dependent variable is explained by an independent variable in a regression model.\n",
        "\n",
        "How much %age that the model cannot explain vs explain.\n",
        "\n",
        "https://www.investopedia.com/terms/r/r-squared.asp\n",
        "\n",
        "\n",
        "Total Variance in Y = $\\sum_{i=1}^{N}(Y_{i} - \\bar{Y})^2$ \n",
        "\n",
        "where, \n",
        "\n",
        "- $\\bar{Y}$ is the mean of Y.\n",
        "\n",
        "Unexplained Variance = $\\sum_{i=1}^{N}(Y_{i} - (\\beta_{0} + \\beta_{1} X_{i}))^2$  \n",
        "\n",
        "\n",
        "$R^{2}$ is given by:\n",
        "\n",
        "$R^{2}$ = $\\frac{Explained\\ Variance}{Total\\ Variance}$\n",
        "\n",
        "\n",
        "Notes:\n",
        "\n",
        "- R-squared values range from 0 to 1 and are commonly stated as percentages from 0% to 100%. \n",
        "- What is a “good” R-squared value depends on the domain or context. In the field of social sciences, even a relatively low R-squared, such as 0.5, could be considered relatively strong. In other fields, the standards for a good R-squared reading can be much higher, such as 0.9 or above. In finance, an R-squared above 0.7 would generally be seen as showing a high level of correlation. [Source](https://www.investopedia.com/terms/r/r-squared.asp)\n",
        "\n",
        "\n",
        "Anything beyond 0.8 is a very good model\n",
        "0.6 is not that great\n",
        "\n",
        "In healthcare the corelation is much more important.\n",
        "\n"
      ]
    },
    {
      "cell_type": "code",
      "source": [
        "from sklearn.metrics import r2_score"
      ],
      "metadata": {
        "id": "-4NWemBaSP1k"
      },
      "execution_count": null,
      "outputs": []
    },
    {
      "cell_type": "code",
      "source": [
        "r2_score(y_df.actual, y_df.predicted)"
      ],
      "metadata": {
        "colab": {
          "base_uri": "https://localhost:8080/",
          "height": 165
        },
        "id": "aiWsyW3MSU6P",
        "outputId": "a833a4b2-9759-4ccc-ac45-d478b33746b4"
      },
      "execution_count": 37,
      "outputs": [
        {
          "output_type": "error",
          "ename": "TypeError",
          "evalue": "ignored",
          "traceback": [
            "\u001b[0;31m---------------------------------------------------------------------------\u001b[0m",
            "\u001b[0;31mTypeError\u001b[0m                                 Traceback (most recent call last)",
            "\u001b[0;32m<ipython-input-37-84fce0929e4f>\u001b[0m in \u001b[0;36m<cell line: 1>\u001b[0;34m()\u001b[0m\n\u001b[0;32m----> 1\u001b[0;31m \u001b[0mr2_score\u001b[0m\u001b[0;34m(\u001b[0m\u001b[0my_df\u001b[0m\u001b[0;34m.\u001b[0m\u001b[0mactual\u001b[0m\u001b[0;34m,\u001b[0m \u001b[0my_df\u001b[0m\u001b[0;34m.\u001b[0m\u001b[0mpredicted\u001b[0m\u001b[0;34m)\u001b[0m\u001b[0;34m\u001b[0m\u001b[0;34m\u001b[0m\u001b[0m\n\u001b[0m",
            "\u001b[0;31mTypeError\u001b[0m: 'tuple' object is not callable"
          ]
        }
      ]
    },
    {
      "cell_type": "code",
      "source": [
        "r2_score"
      ],
      "metadata": {
        "colab": {
          "base_uri": "https://localhost:8080/"
        },
        "id": "W7v9Gz5iSmVm",
        "outputId": "ad122135-2278-456e-effa-247b13174e19"
      },
      "execution_count": 36,
      "outputs": [
        {
          "output_type": "execute_result",
          "data": {
            "text/plain": [
              "(249    3.25\n",
              " 596    3.99\n",
              " 539    5.34\n",
              " 904    4.50\n",
              " 479    7.50\n",
              "        ... \n",
              " 110    5.25\n",
              " 28     8.50\n",
              " 812    3.95\n",
              " 681    2.70\n",
              " 360    1.80\n",
              " Name: actual, Length: 202, dtype: float64,\n",
              " 249    4.656282\n",
              " 596    4.656282\n",
              " 539    5.637933\n",
              " 904    4.165456\n",
              " 479    6.619583\n",
              "          ...   \n",
              " 110    5.147107\n",
              " 28     5.637933\n",
              " 812    4.656282\n",
              " 681    3.183806\n",
              " 360    3.674631\n",
              " Name: predicted, Length: 202, dtype: float64)"
            ]
          },
          "metadata": {},
          "execution_count": 36
        }
      ]
    },
    {
      "cell_type": "markdown",
      "metadata": {
        "id": "H0niwp_mHO0N"
      },
      "source": [
        "### Participants Exercise: 1\n",
        "\n",
        "Build a model by adding the following two parameters and measure accuracy in terms of RMSE and R2.\n",
        "\n",
        "- Age\n",
        "- KM_Driven"
      ]
    },
    {
      "cell_type": "markdown",
      "metadata": {
        "id": "9kOjLqfYHO0O"
      },
      "source": [
        "## 3. Building a model with more variables\n",
        "\n",
        "Based on most important questions that customers ask\n",
        "\n",
        "- Which model is it? (categorical feature)\n",
        "- How old the vehicle is?\n",
        "- How many kilometers it is driven?\n",
        "    "
      ]
    },
    {
      "cell_type": "markdown",
      "metadata": {
        "id": "48sK0H0pHO0O"
      },
      "source": [
        "### Feature Set Selection"
      ]
    },
    {
      "cell_type": "markdown",
      "metadata": {
        "id": "GgUVh61DHO0P"
      },
      "source": [
        "### How to encode categorical variables?\n",
        "\n",
        "OHE: One Hot Encoding\n",
        "\n",
        "https://machinelearningmastery.com/why-one-hot-encode-data-in-machine-learning/"
      ]
    },
    {
      "cell_type": "markdown",
      "metadata": {
        "id": "N7jdHfKJHO0Q"
      },
      "source": [
        "### Setting X and y variables"
      ]
    },
    {
      "cell_type": "markdown",
      "metadata": {
        "id": "IKk9LcNfHO0Q"
      },
      "source": [
        "### Data Splitting"
      ]
    },
    {
      "cell_type": "markdown",
      "metadata": {
        "id": "msBeP-f3HO0R"
      },
      "source": [
        "## 4. Multiple Linear Regression Model\n",
        "\n",
        "\n",
        "Simple linear regression is given by,\n",
        "\n",
        "$\\hat{Y} = \\beta_{0} + \\beta_{1}X_{1} + \\beta_{2}X_{2} + ... + \\beta_{n}X_{n}$\n",
        "\t\t\t\t\t\t\t\t\t\n",
        "- $\\beta_{0}$, $\\beta_{1}$...$\\beta_{n}$  are the regression coefficients"
      ]
    },
    {
      "cell_type": "markdown",
      "metadata": {
        "id": "99GKRZdNHO0R"
      },
      "source": [
        "### Understanding model parameters"
      ]
    },
    {
      "cell_type": "markdown",
      "metadata": {
        "id": "NAEKzAh0HO0R"
      },
      "source": [
        "### Predict on test set"
      ]
    },
    {
      "cell_type": "markdown",
      "metadata": {
        "id": "45ZWIICBHO0R"
      },
      "source": [
        "### Measuring Accuracy"
      ]
    },
    {
      "cell_type": "markdown",
      "metadata": {
        "id": "GVJO0QHGHO0S"
      },
      "source": [
        "### Participants Exercise: 2\n",
        "\n",
        "Build a model by adding the following five parameters and measure accuracy in terms of RMSE and R2.\n",
        "\n",
        "- Age\n",
        "- KM_Driven\n",
        "- Model\n",
        "- Transmission Type\n",
        "- Fuel Type"
      ]
    },
    {
      "cell_type": "markdown",
      "metadata": {
        "id": "srwrfrjQHO0S"
      },
      "source": [
        "## 4. Building model with all the variables"
      ]
    },
    {
      "cell_type": "markdown",
      "metadata": {
        "id": "7V6zqxk-HO0S"
      },
      "source": [
        "### Feature Set Selection"
      ]
    },
    {
      "cell_type": "markdown",
      "metadata": {
        "id": "OAkKenzZHO0S"
      },
      "source": [
        "### Encoding Categorical Variables\n"
      ]
    },
    {
      "cell_type": "markdown",
      "metadata": {
        "id": "G6nOK2PwHO0S"
      },
      "source": [
        "### Setting X and y variables"
      ]
    },
    {
      "cell_type": "markdown",
      "metadata": {
        "id": "QC01_NDMHO0T"
      },
      "source": [
        "### Data Splitting"
      ]
    },
    {
      "cell_type": "markdown",
      "metadata": {
        "id": "pkAp03ZKHO0T"
      },
      "source": [
        "### Build Model"
      ]
    },
    {
      "cell_type": "markdown",
      "metadata": {
        "id": "HP13SwyQHO0T"
      },
      "source": [
        "### Understanding model parameters"
      ]
    },
    {
      "cell_type": "markdown",
      "metadata": {
        "id": "IaOt7vwkHO0T"
      },
      "source": [
        "### Predict on test set"
      ]
    },
    {
      "cell_type": "markdown",
      "metadata": {
        "id": "P32iYJPvHO0T"
      },
      "source": [
        "### Measuring Accuracy: RMSE and R2"
      ]
    },
    {
      "cell_type": "markdown",
      "metadata": {
        "id": "fmViC0pIHO0T"
      },
      "source": [
        "### What are the reasons for the remaining error?\n",
        "\n",
        "1. More factors \n",
        "2. More samples \n",
        "3. Complex Models : Try other models\n",
        "4. Noise (randomness)\n",
        "   "
      ]
    },
    {
      "cell_type": "markdown",
      "metadata": {
        "id": "vVwo04FRHO0U"
      },
      "source": [
        "### Error Analysis: Deep Dive"
      ]
    },
    {
      "cell_type": "markdown",
      "metadata": {
        "id": "cUA_dbG9HO0U"
      },
      "source": [
        "### Participant Exercise: 3\n",
        "\n",
        "Take different training set, build model and measure the model accuracy. But, how to sample differenent training and test sets?\n",
        "- Change the random_state to different numbers while training and test splits and then measure the r2 values.\n",
        "- Repeat the above process for 5 different random_states and make a note of the r2 values."
      ]
    },
    {
      "cell_type": "markdown",
      "metadata": {
        "id": "XxlFK5_HHO0U"
      },
      "source": [
        "## 5. Storing the model"
      ]
    }
  ],
  "metadata": {
    "kernelspec": {
      "display_name": "Python 3",
      "language": "python",
      "name": "python3"
    },
    "language_info": {
      "codemirror_mode": {
        "name": "ipython",
        "version": 3
      },
      "file_extension": ".py",
      "mimetype": "text/x-python",
      "name": "python",
      "nbconvert_exporter": "python",
      "pygments_lexer": "ipython3",
      "version": "3.8.5"
    },
    "colab": {
      "provenance": []
    }
  },
  "nbformat": 4,
  "nbformat_minor": 0
}