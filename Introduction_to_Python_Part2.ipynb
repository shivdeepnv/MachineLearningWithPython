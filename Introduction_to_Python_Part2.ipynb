{
  "cells": [
    {
      "cell_type": "markdown",
      "metadata": {
        "id": "mQlJePc_hV2u"
      },
      "source": [
        "# Introduction to Python: Part 2\n",
        "\n",
        "Topics that will be discussed in this tutorial are:\n",
        "\n",
        "1. Useful built-in functions\n",
        "2. Working with collections\n",
        "3. Functional Programming\n",
        "4. Misclleneous Features"
      ]
    },
    {
      "cell_type": "markdown",
      "metadata": {
        "id": "lUftfpkvhV2z"
      },
      "source": [
        "## 1. Useful Built-in functions"
      ]
    },
    {
      "cell_type": "markdown",
      "metadata": {
        "id": "bj_M59lMhV20"
      },
      "source": [
        "### 1.a. Math Functions"
      ]
    },
    {
      "cell_type": "code",
      "execution_count": 15,
      "metadata": {
        "id": "bCb3rbQhhV20"
      },
      "outputs": [],
      "source": [
        "var1 = 0.05"
      ]
    },
    {
      "cell_type": "code",
      "execution_count": 12,
      "metadata": {
        "id": "UKp1pXFChV21",
        "outputId": "fe768461-0388-49f3-f434-d5bfeabbf5e1",
        "colab": {
          "base_uri": "https://localhost:8080/"
        }
      },
      "outputs": [
        {
          "output_type": "execute_result",
          "data": {
            "text/plain": [
              "0"
            ]
          },
          "metadata": {},
          "execution_count": 12
        }
      ],
      "source": [
        "round(var1)"
      ]
    },
    {
      "cell_type": "code",
      "execution_count": 13,
      "metadata": {
        "id": "AFl2Pr-zhV22",
        "outputId": "90941ae0-d3b3-4024-d75c-7a7f78333ac3",
        "colab": {
          "base_uri": "https://localhost:8080/"
        }
      },
      "outputs": [
        {
          "output_type": "execute_result",
          "data": {
            "text/plain": [
              "0.01"
            ]
          },
          "metadata": {},
          "execution_count": 13
        }
      ],
      "source": [
        "round( var1, 2 )"
      ]
    },
    {
      "cell_type": "code",
      "execution_count": 17,
      "metadata": {
        "id": "NB1mz6XyhV22",
        "outputId": "4a1645d9-d1b3-41b9-ef72-ae7543f094ff",
        "colab": {
          "base_uri": "https://localhost:8080/"
        }
      },
      "outputs": [
        {
          "output_type": "execute_result",
          "data": {
            "text/plain": [
              "3.125000000000001e-07"
            ]
          },
          "metadata": {},
          "execution_count": 17
        }
      ],
      "source": [
        "square = pow( var1 , 5 )\n",
        "square"
      ]
    },
    {
      "cell_type": "code",
      "execution_count": 18,
      "metadata": {
        "id": "6Gz91RFuhV22"
      },
      "outputs": [],
      "source": [
        "import math"
      ]
    },
    {
      "cell_type": "code",
      "execution_count": 19,
      "metadata": {
        "id": "6NkZYUT8hV23",
        "outputId": "5059317b-ee67-40eb-eae8-d336f79cfa25",
        "colab": {
          "base_uri": "https://localhost:8080/"
        }
      },
      "outputs": [
        {
          "output_type": "execute_result",
          "data": {
            "text/plain": [
              "0.0005590169943749475"
            ]
          },
          "metadata": {},
          "execution_count": 19
        }
      ],
      "source": [
        "math.sqrt(square)"
      ]
    },
    {
      "cell_type": "code",
      "execution_count": 20,
      "metadata": {
        "id": "ACqvUfyhhV23"
      },
      "outputs": [],
      "source": [
        "from math import sqrt"
      ]
    },
    {
      "cell_type": "code",
      "execution_count": 21,
      "metadata": {
        "id": "GjQCWfzihV23",
        "outputId": "a0317aa8-e4de-4d58-cea1-03a2361850f4",
        "colab": {
          "base_uri": "https://localhost:8080/"
        }
      },
      "outputs": [
        {
          "output_type": "execute_result",
          "data": {
            "text/plain": [
              "0.0005590169943749475"
            ]
          },
          "metadata": {},
          "execution_count": 21
        }
      ],
      "source": [
        "sqrt(square)"
      ]
    },
    {
      "cell_type": "markdown",
      "metadata": {
        "id": "QEPxUz-ehV24"
      },
      "source": [
        "### 1.b. Generate a sequence number\n",
        "\n",
        "*range()* function returns a sequence of numbers, in a given range.\n",
        "\n",
        "```\n",
        "range (start, stop) \n",
        "```"
      ]
    },
    {
      "cell_type": "code",
      "execution_count": 22,
      "metadata": {
        "id": "CqaLnawwhV25"
      },
      "outputs": [],
      "source": [
        "numbers = range( 0, 10 )"
      ]
    },
    {
      "cell_type": "code",
      "execution_count": 23,
      "metadata": {
        "id": "hMoojyEfhV26",
        "outputId": "eb845340-d3c6-42ec-92af-2feb63bd9a94",
        "colab": {
          "base_uri": "https://localhost:8080/"
        }
      },
      "outputs": [
        {
          "output_type": "execute_result",
          "data": {
            "text/plain": [
              "range(0, 10)"
            ]
          },
          "metadata": {},
          "execution_count": 23
        }
      ],
      "source": [
        "numbers"
      ]
    },
    {
      "cell_type": "code",
      "execution_count": 24,
      "metadata": {
        "id": "K6ZjbKc7hV26",
        "outputId": "90fdff56-f57a-494d-a5e0-0a856f26387c",
        "colab": {
          "base_uri": "https://localhost:8080/"
        }
      },
      "outputs": [
        {
          "output_type": "stream",
          "name": "stdout",
          "text": [
            "0 1 2 3 4 5 6 7 8 9 "
          ]
        }
      ],
      "source": [
        "for i in numbers: \n",
        "     print(i , end = \" \")"
      ]
    },
    {
      "cell_type": "code",
      "execution_count": 25,
      "metadata": {
        "id": "GStP4RXFhV27",
        "outputId": "202b4453-8c67-4377-d233-908398a09203",
        "colab": {
          "base_uri": "https://localhost:8080/"
        }
      },
      "outputs": [
        {
          "output_type": "execute_result",
          "data": {
            "text/plain": [
              "10"
            ]
          },
          "metadata": {},
          "execution_count": 25
        }
      ],
      "source": [
        "len( numbers )"
      ]
    },
    {
      "cell_type": "markdown",
      "metadata": {
        "id": "JiiAW3erhV27"
      },
      "source": [
        "### 1.c. Generate a random number"
      ]
    },
    {
      "cell_type": "code",
      "execution_count": 26,
      "metadata": {
        "id": "Jqb_8mnQhV28"
      },
      "outputs": [],
      "source": [
        "from random import randint"
      ]
    },
    {
      "cell_type": "code",
      "execution_count": 93,
      "metadata": {
        "id": "mB6a2YH3hV28",
        "outputId": "4a388edf-66e0-4096-8c65-711e7484adb9",
        "colab": {
          "base_uri": "https://localhost:8080/"
        }
      },
      "outputs": [
        {
          "output_type": "execute_result",
          "data": {
            "text/plain": [
              "12"
            ]
          },
          "metadata": {},
          "execution_count": 93
        }
      ],
      "source": [
        "\n",
        "var1 = randint(1,20)\n",
        "var1"
      ]
    },
    {
      "cell_type": "markdown",
      "metadata": {
        "id": "gLhjTabnhV28"
      },
      "source": [
        "## 2. Working with Collections"
      ]
    },
    {
      "cell_type": "markdown",
      "metadata": {
        "id": "pGKxaql-hV29"
      },
      "source": [
        "### 2.a. List - Collection of elements\n",
        "\n",
        "* List can contain heterogeneous types of elements\n",
        "* Element values can repeat"
      ]
    },
    {
      "cell_type": "code",
      "execution_count": 28,
      "metadata": {
        "id": "smc-iRz5hV29"
      },
      "outputs": [],
      "source": [
        "languages = ['c', 'c++', 'java', 'go', 'python']"
      ]
    },
    {
      "cell_type": "markdown",
      "metadata": {
        "id": "9AIlYo1ZhV29"
      },
      "source": [
        "#### Indexing and slicing a list"
      ]
    },
    {
      "cell_type": "code",
      "execution_count": 29,
      "metadata": {
        "id": "ILMLe2V4hV29",
        "outputId": "a2283fba-4cfa-4717-c217-691d0832f3c5",
        "colab": {
          "base_uri": "https://localhost:8080/",
          "height": 35
        }
      },
      "outputs": [
        {
          "output_type": "execute_result",
          "data": {
            "text/plain": [
              "'c'"
            ],
            "application/vnd.google.colaboratory.intrinsic+json": {
              "type": "string"
            }
          },
          "metadata": {},
          "execution_count": 29
        }
      ],
      "source": [
        "languages[0]"
      ]
    },
    {
      "cell_type": "code",
      "execution_count": 30,
      "metadata": {
        "id": "BgJIerNShV2-",
        "outputId": "6b85b9a1-2204-4af9-9ad5-d628285a683e",
        "colab": {
          "base_uri": "https://localhost:8080/"
        }
      },
      "outputs": [
        {
          "output_type": "execute_result",
          "data": {
            "text/plain": [
              "['c++', 'java']"
            ]
          },
          "metadata": {},
          "execution_count": 30
        }
      ],
      "source": [
        "languages[1:3]"
      ]
    },
    {
      "cell_type": "code",
      "execution_count": 31,
      "metadata": {
        "id": "cuplR8eChV2-",
        "outputId": "1c8b3a8c-66ee-4050-dc6b-145a64c02b06",
        "colab": {
          "base_uri": "https://localhost:8080/",
          "height": 35
        }
      },
      "outputs": [
        {
          "output_type": "execute_result",
          "data": {
            "text/plain": [
              "'python'"
            ],
            "application/vnd.google.colaboratory.intrinsic+json": {
              "type": "string"
            }
          },
          "metadata": {},
          "execution_count": 31
        }
      ],
      "source": [
        "## Accessing the last element\n",
        "languages[-1]"
      ]
    },
    {
      "cell_type": "code",
      "execution_count": 32,
      "metadata": {
        "id": "VDek6JjahV2-",
        "outputId": "105462cc-6974-46bc-e82a-5cfb61fb6d92",
        "colab": {
          "base_uri": "https://localhost:8080/"
        }
      },
      "outputs": [
        {
          "output_type": "execute_result",
          "data": {
            "text/plain": [
              "5"
            ]
          },
          "metadata": {},
          "execution_count": 32
        }
      ],
      "source": [
        "# how many elements in the list\n",
        "len( languages )"
      ]
    },
    {
      "cell_type": "markdown",
      "metadata": {
        "id": "nfgh98R6hV2-"
      },
      "source": [
        "#### Append to and remove from a list"
      ]
    },
    {
      "cell_type": "code",
      "execution_count": 94,
      "metadata": {
        "id": "OYCy9x13hV2_"
      },
      "outputs": [],
      "source": [
        "languages.append(\"lisp\")"
      ]
    },
    {
      "cell_type": "code",
      "execution_count": 34,
      "metadata": {
        "id": "qEL9nC72hV2_",
        "outputId": "ccff7ec1-7f7f-428c-fe2e-d4f32e0a6d2d",
        "colab": {
          "base_uri": "https://localhost:8080/"
        }
      },
      "outputs": [
        {
          "output_type": "execute_result",
          "data": {
            "text/plain": [
              "['c', 'c++', 'java', 'go', 'python', 'lisp']"
            ]
          },
          "metadata": {},
          "execution_count": 34
        }
      ],
      "source": [
        "languages"
      ]
    },
    {
      "cell_type": "code",
      "execution_count": 95,
      "metadata": {
        "id": "a_dP4GhBhV2_",
        "outputId": "2e608da0-913f-41f8-a160-2fbaa7c9b276",
        "colab": {
          "base_uri": "https://localhost:8080/"
        }
      },
      "outputs": [
        {
          "output_type": "execute_result",
          "data": {
            "text/plain": [
              "['c', 'c++', 'java', 'go', 'python']"
            ]
          },
          "metadata": {},
          "execution_count": 95
        }
      ],
      "source": [
        "languages.remove('lisp')\n",
        "\n",
        "languages"
      ]
    },
    {
      "cell_type": "markdown",
      "metadata": {
        "id": "piqtFpGghV2_"
      },
      "source": [
        "#### Concatenating two lists"
      ]
    },
    {
      "cell_type": "code",
      "execution_count": 37,
      "metadata": {
        "id": "zQZDkzLlhV3A"
      },
      "outputs": [],
      "source": [
        "old_languages = ['basic', 'fortran', 'pascal', 'cobol']"
      ]
    },
    {
      "cell_type": "code",
      "execution_count": 38,
      "metadata": {
        "id": "-ny5H_f1hV3A"
      },
      "outputs": [],
      "source": [
        "all_languages = languages + old_languages"
      ]
    },
    {
      "cell_type": "code",
      "execution_count": 39,
      "metadata": {
        "id": "hT7wo4s6hV3A",
        "outputId": "a90f40b8-73ab-40a1-f11a-ac9bf672248f",
        "colab": {
          "base_uri": "https://localhost:8080/"
        }
      },
      "outputs": [
        {
          "output_type": "execute_result",
          "data": {
            "text/plain": [
              "['c', 'c++', 'java', 'go', 'python', 'basic', 'fortran', 'pascal', 'cobol']"
            ]
          },
          "metadata": {},
          "execution_count": 39
        }
      ],
      "source": [
        "all_languages"
      ]
    },
    {
      "cell_type": "markdown",
      "metadata": {
        "id": "vncO-OKPhV3A"
      },
      "source": [
        "#### If an element exists in a list"
      ]
    },
    {
      "cell_type": "code",
      "execution_count": 40,
      "metadata": {
        "id": "Om-Pq0COhV3A",
        "outputId": "81b65692-e6fc-4341-e82a-be6de3fb662e",
        "colab": {
          "base_uri": "https://localhost:8080/"
        }
      },
      "outputs": [
        {
          "output_type": "execute_result",
          "data": {
            "text/plain": [
              "True"
            ]
          },
          "metadata": {},
          "execution_count": 40
        }
      ],
      "source": [
        "'basic' in all_languages"
      ]
    },
    {
      "cell_type": "code",
      "execution_count": 41,
      "metadata": {
        "id": "MXtBcpxVhV3B",
        "outputId": "a3972468-f0a3-4e98-c03a-4d897f6d05af",
        "colab": {
          "base_uri": "https://localhost:8080/"
        }
      },
      "outputs": [
        {
          "output_type": "execute_result",
          "data": {
            "text/plain": [
              "False"
            ]
          },
          "metadata": {},
          "execution_count": 41
        }
      ],
      "source": [
        "'lisp' in all_languages"
      ]
    },
    {
      "cell_type": "code",
      "execution_count": 42,
      "metadata": {
        "id": "envj6qMghV3B",
        "outputId": "b25d8f3e-1b11-4f81-c600-633385f9e660",
        "colab": {
          "base_uri": "https://localhost:8080/"
        }
      },
      "outputs": [
        {
          "output_type": "execute_result",
          "data": {
            "text/plain": [
              "4"
            ]
          },
          "metadata": {},
          "execution_count": 42
        }
      ],
      "source": [
        "all_languages.index( 'python' )"
      ]
    },
    {
      "cell_type": "code",
      "execution_count": 43,
      "metadata": {
        "id": "lzCnG67RhV3B"
      },
      "outputs": [],
      "source": [
        "all_languages.sort()"
      ]
    },
    {
      "cell_type": "code",
      "execution_count": 44,
      "metadata": {
        "id": "fgE8lkC5hV3C",
        "outputId": "77c7493e-02f2-4c83-917e-f7fec8bf98e5",
        "colab": {
          "base_uri": "https://localhost:8080/"
        }
      },
      "outputs": [
        {
          "output_type": "execute_result",
          "data": {
            "text/plain": [
              "['basic', 'c', 'c++', 'cobol', 'fortran', 'go', 'java', 'pascal', 'python']"
            ]
          },
          "metadata": {},
          "execution_count": 44
        }
      ],
      "source": [
        "all_languages"
      ]
    },
    {
      "cell_type": "markdown",
      "metadata": {
        "id": "yFz-7FZWhV3C"
      },
      "source": [
        "#### Iterating through a list"
      ]
    },
    {
      "cell_type": "code",
      "execution_count": 48,
      "metadata": {
        "id": "6BN2HoG0hV3C",
        "outputId": "eb8a1fb8-bab8-4910-85b4-dac7575bbcf1",
        "colab": {
          "base_uri": "https://localhost:8080/"
        }
      },
      "outputs": [
        {
          "output_type": "execute_result",
          "data": {
            "text/plain": [
              "[1,\n",
              " 2,\n",
              " 3,\n",
              " 4,\n",
              " 5,\n",
              " 6,\n",
              " 7,\n",
              " 8,\n",
              " 9,\n",
              " 10,\n",
              " 11,\n",
              " 12,\n",
              " 13,\n",
              " 14,\n",
              " 15,\n",
              " 16,\n",
              " 17,\n",
              " 18,\n",
              " 19,\n",
              " 20,\n",
              " 21,\n",
              " 22,\n",
              " 23,\n",
              " 24,\n",
              " 25,\n",
              " 26,\n",
              " 27,\n",
              " 28,\n",
              " 29,\n",
              " 30,\n",
              " 31,\n",
              " 32,\n",
              " 33,\n",
              " 34,\n",
              " 35,\n",
              " 36,\n",
              " 37,\n",
              " 38,\n",
              " 39,\n",
              " 40,\n",
              " 41,\n",
              " 42,\n",
              " 43,\n",
              " 44,\n",
              " 45,\n",
              " 46,\n",
              " 47,\n",
              " 48,\n",
              " 49,\n",
              " 50,\n",
              " 51,\n",
              " 52,\n",
              " 53,\n",
              " 54,\n",
              " 55,\n",
              " 56,\n",
              " 57,\n",
              " 58,\n",
              " 59,\n",
              " 60,\n",
              " 61,\n",
              " 62,\n",
              " 63,\n",
              " 64,\n",
              " 65,\n",
              " 66,\n",
              " 67,\n",
              " 68,\n",
              " 69,\n",
              " 70,\n",
              " 71,\n",
              " 72,\n",
              " 73,\n",
              " 74,\n",
              " 75,\n",
              " 76,\n",
              " 77,\n",
              " 78,\n",
              " 79,\n",
              " 80,\n",
              " 81,\n",
              " 82,\n",
              " 83,\n",
              " 84,\n",
              " 85,\n",
              " 86,\n",
              " 87,\n",
              " 88,\n",
              " 89,\n",
              " 90,\n",
              " 91,\n",
              " 92,\n",
              " 93,\n",
              " 94,\n",
              " 95,\n",
              " 96,\n",
              " 97,\n",
              " 98,\n",
              " 99]"
            ]
          },
          "metadata": {},
          "execution_count": 48
        }
      ],
      "source": [
        "numsList = list(range(1, 100))\n",
        "\n",
        "numsList"
      ]
    },
    {
      "cell_type": "code",
      "execution_count": 49,
      "metadata": {
        "id": "oM3tijYfhV3C"
      },
      "outputs": [],
      "source": [
        "# Sum all the values\n",
        "total = 0\n",
        "\n",
        "for i in numsList:\n",
        "    total += i"
      ]
    },
    {
      "cell_type": "code",
      "execution_count": 50,
      "metadata": {
        "id": "gOPh06xXhV3C",
        "outputId": "093bbaa4-868f-4e3b-b6b0-6dbc34f53db7",
        "colab": {
          "base_uri": "https://localhost:8080/"
        }
      },
      "outputs": [
        {
          "output_type": "execute_result",
          "data": {
            "text/plain": [
              "4950"
            ]
          },
          "metadata": {},
          "execution_count": 50
        }
      ],
      "source": [
        "total"
      ]
    },
    {
      "cell_type": "code",
      "execution_count": 51,
      "metadata": {
        "id": "D3lYili9hV3C",
        "outputId": "7284af73-f509-4b67-f7b0-ed237760128b",
        "colab": {
          "base_uri": "https://localhost:8080/"
        }
      },
      "outputs": [
        {
          "output_type": "execute_result",
          "data": {
            "text/plain": [
              "4950"
            ]
          },
          "metadata": {},
          "execution_count": 51
        }
      ],
      "source": [
        "sum(numsList)"
      ]
    },
    {
      "cell_type": "markdown",
      "metadata": {
        "collapsed": true,
        "id": "pB_7ePAchV3D"
      },
      "source": [
        "### 2.b. Tuples - Immutable List\n",
        "\n",
        "* Tuple is also a list but once created it can not be modified."
      ]
    },
    {
      "cell_type": "code",
      "execution_count": 96,
      "metadata": {
        "id": "qGAnHWW1hV3D"
      },
      "outputs": [],
      "source": [
        "topics = ( \"data science\", \"machine learning\", 'mlops' )"
      ]
    },
    {
      "cell_type": "code",
      "execution_count": 97,
      "metadata": {
        "id": "dXhZej8ahV3D",
        "outputId": "f0d1deaa-7035-445a-f168-66563aa4d03e",
        "colab": {
          "base_uri": "https://localhost:8080/"
        }
      },
      "outputs": [
        {
          "output_type": "execute_result",
          "data": {
            "text/plain": [
              "('data science', 'machine learning', 'mlops')"
            ]
          },
          "metadata": {},
          "execution_count": 97
        }
      ],
      "source": [
        "topics"
      ]
    },
    {
      "cell_type": "markdown",
      "metadata": {
        "id": "fuVoGL96hV3D"
      },
      "source": [
        "#### It is not allowed to change the tuple elements.."
      ]
    },
    {
      "cell_type": "code",
      "execution_count": 98,
      "metadata": {
        "id": "yoYSOsMmhV3D",
        "outputId": "8da33c25-5af7-42ee-883a-f72ee3b70750",
        "colab": {
          "base_uri": "https://localhost:8080/",
          "height": 165
        }
      },
      "outputs": [
        {
          "output_type": "error",
          "ename": "TypeError",
          "evalue": "ignored",
          "traceback": [
            "\u001b[0;31m---------------------------------------------------------------------------\u001b[0m",
            "\u001b[0;31mTypeError\u001b[0m                                 Traceback (most recent call last)",
            "\u001b[0;32m<ipython-input-98-8ab1893efe23>\u001b[0m in \u001b[0;36m<module>\u001b[0;34m\u001b[0m\n\u001b[0;32m----> 1\u001b[0;31m \u001b[0mtopics\u001b[0m\u001b[0;34m[\u001b[0m\u001b[0;36m1\u001b[0m\u001b[0;34m]\u001b[0m \u001b[0;34m=\u001b[0m \u001b[0;34m'deep learning'\u001b[0m\u001b[0;34m\u001b[0m\u001b[0;34m\u001b[0m\u001b[0m\n\u001b[0m",
            "\u001b[0;31mTypeError\u001b[0m: 'tuple' object does not support item assignment"
          ]
        }
      ],
      "source": [
        "topics[1] = 'deep learning'"
      ]
    },
    {
      "cell_type": "code",
      "execution_count": 55,
      "metadata": {
        "id": "frw_litihV3E"
      },
      "outputs": [],
      "source": [
        "langs = tuple( languages )"
      ]
    },
    {
      "cell_type": "code",
      "execution_count": 56,
      "metadata": {
        "id": "E48Qyl_9hV3G",
        "outputId": "a5792c87-ee68-4889-997b-d8c4a7c1d83a",
        "colab": {
          "base_uri": "https://localhost:8080/"
        }
      },
      "outputs": [
        {
          "output_type": "execute_result",
          "data": {
            "text/plain": [
              "('c', 'c++', 'java', 'go', 'python')"
            ]
          },
          "metadata": {},
          "execution_count": 56
        }
      ],
      "source": [
        "langs"
      ]
    },
    {
      "cell_type": "markdown",
      "metadata": {
        "collapsed": true,
        "id": "fIQq4qWIhV3H"
      },
      "source": [
        "### 2.c. Set - List of non-repeating items\n",
        "\n",
        "* Items can not repeat in set"
      ]
    },
    {
      "cell_type": "code",
      "execution_count": 57,
      "metadata": {
        "id": "BYwTaoIHhV3H"
      },
      "outputs": [],
      "source": [
        "b = {1, 2, 3, 4, 4, 5, 6}"
      ]
    },
    {
      "cell_type": "code",
      "execution_count": 58,
      "metadata": {
        "id": "o8UtT2JvhV3H",
        "outputId": "fc2da252-e0c4-4f88-bcb3-f66e19e08a3b",
        "colab": {
          "base_uri": "https://localhost:8080/"
        }
      },
      "outputs": [
        {
          "output_type": "execute_result",
          "data": {
            "text/plain": [
              "{1, 2, 3, 4, 5, 6}"
            ]
          },
          "metadata": {},
          "execution_count": 58
        }
      ],
      "source": [
        "b"
      ]
    },
    {
      "cell_type": "code",
      "execution_count": 60,
      "metadata": {
        "id": "F34ixP6PhV3H"
      },
      "outputs": [],
      "source": [
        "b.add( 7 )"
      ]
    },
    {
      "cell_type": "code",
      "execution_count": 61,
      "metadata": {
        "id": "bPYTrVRThV3H",
        "outputId": "f988ed3c-711e-4c46-9a8e-86dc39274ffd",
        "colab": {
          "base_uri": "https://localhost:8080/"
        }
      },
      "outputs": [
        {
          "output_type": "execute_result",
          "data": {
            "text/plain": [
              "{1, 2, 3, 4, 5, 6, 7}"
            ]
          },
          "metadata": {},
          "execution_count": 61
        }
      ],
      "source": [
        "b"
      ]
    },
    {
      "cell_type": "code",
      "execution_count": 62,
      "metadata": {
        "id": "KW8aMb6KhV3H"
      },
      "outputs": [],
      "source": [
        "c = {7, 8, 9, 0}"
      ]
    },
    {
      "cell_type": "markdown",
      "metadata": {
        "id": "xLo6IEOIhV3H"
      },
      "source": [
        "#### Applying set operations"
      ]
    },
    {
      "cell_type": "code",
      "execution_count": 63,
      "metadata": {
        "id": "yyiOM6OghV3I",
        "outputId": "8f916f8d-2243-4db5-f956-013c5d430c7d",
        "colab": {
          "base_uri": "https://localhost:8080/"
        }
      },
      "outputs": [
        {
          "output_type": "execute_result",
          "data": {
            "text/plain": [
              "{0, 1, 2, 3, 4, 5, 6, 7, 8, 9}"
            ]
          },
          "metadata": {},
          "execution_count": 63
        }
      ],
      "source": [
        "c.union( b )"
      ]
    },
    {
      "cell_type": "code",
      "execution_count": 64,
      "metadata": {
        "id": "ZzN4tIDmhV3I",
        "outputId": "7cd64a69-3342-43e7-b523-b248051ba8bc",
        "colab": {
          "base_uri": "https://localhost:8080/"
        }
      },
      "outputs": [
        {
          "output_type": "execute_result",
          "data": {
            "text/plain": [
              "{7}"
            ]
          },
          "metadata": {},
          "execution_count": 64
        }
      ],
      "source": [
        "b.intersection( c )"
      ]
    },
    {
      "cell_type": "code",
      "execution_count": 66,
      "metadata": {
        "id": "hGy--Yh_hV3I",
        "outputId": "f89e0f9e-b4d9-4748-fd84-b0d7a19c3381",
        "colab": {
          "base_uri": "https://localhost:8080/"
        }
      },
      "outputs": [
        {
          "output_type": "execute_result",
          "data": {
            "text/plain": [
              "{0, 8, 9}"
            ]
          },
          "metadata": {},
          "execution_count": 66
        }
      ],
      "source": [
        "c.difference( b )"
      ]
    },
    {
      "cell_type": "markdown",
      "metadata": {
        "id": "EaKA0K3NhV3I"
      },
      "source": [
        "### 2.d. Dictionary - a set of key-value pairs\n",
        "\n",
        "- A dictionary is a collection of key-value pairs. Each key-value pair maps the key to its associated value.\n",
        "\n",
        "You can define a dictionary by enclosing a comma-separated list of key-value pairs in curly braces ({}). A colon (:) separates each key from its associated value\n",
        "\n",
        "```\n",
        "d = {\n",
        "    <key>: <value>,\n",
        "    <key>: <value>,\n",
        "      .\n",
        "      .\n",
        "      .\n",
        "    <key>: <value>\n",
        "}\n",
        "```"
      ]
    },
    {
      "cell_type": "code",
      "execution_count": 68,
      "metadata": {
        "id": "nNZBFhYvhV3I",
        "outputId": "3774c018-1d9c-4740-89e8-c594e115f742",
        "colab": {
          "base_uri": "https://localhost:8080/"
        }
      },
      "outputs": [
        {
          "output_type": "execute_result",
          "data": {
            "text/plain": [
              "{'India': 'New Delhi',\n",
              " 'France': 'Paris',\n",
              " 'Japan': 'Tokyo',\n",
              " 'USA': 'Washingon D.C.',\n",
              " 'Germany': 'Berlin',\n",
              " 'Sweden': 'Oslo'}"
            ]
          },
          "metadata": {},
          "execution_count": 68
        }
      ],
      "source": [
        "capitals = {'India': 'New Delhi', \n",
        "            'France': 'Paris',\n",
        "            'Japan': 'Tokyo',\n",
        "            'USA': \"Washingon D.C.\",\n",
        "            \"Germany\": \"Berlin\",\n",
        "            \"Sweden\": \"Oslo\"} \n",
        "\n",
        "capitals"
      ]
    },
    {
      "cell_type": "code",
      "execution_count": 69,
      "metadata": {
        "id": "FhSmbUbmhV3I",
        "outputId": "1181f763-1474-4fe6-8275-04c340caf32a",
        "colab": {
          "base_uri": "https://localhost:8080/",
          "height": 35
        }
      },
      "outputs": [
        {
          "output_type": "execute_result",
          "data": {
            "text/plain": [
              "'New Delhi'"
            ],
            "application/vnd.google.colaboratory.intrinsic+json": {
              "type": "string"
            }
          },
          "metadata": {},
          "execution_count": 69
        }
      ],
      "source": [
        "capitals['India']"
      ]
    },
    {
      "cell_type": "code",
      "execution_count": 70,
      "metadata": {
        "id": "mXRTsB5-hV3J",
        "outputId": "9403424e-2ace-4d82-8768-b5c88e048e04",
        "colab": {
          "base_uri": "https://localhost:8080/",
          "height": 35
        }
      },
      "outputs": [
        {
          "output_type": "execute_result",
          "data": {
            "text/plain": [
              "'Oslo'"
            ],
            "application/vnd.google.colaboratory.intrinsic+json": {
              "type": "string"
            }
          },
          "metadata": {},
          "execution_count": 70
        }
      ],
      "source": [
        "capitals['Sweden']"
      ]
    },
    {
      "cell_type": "code",
      "execution_count": 71,
      "metadata": {
        "id": "0VqaJNb7hV3J"
      },
      "outputs": [],
      "source": [
        "capitals['Sweden'] = 'Stockholm'"
      ]
    },
    {
      "cell_type": "code",
      "execution_count": 72,
      "metadata": {
        "id": "JF0Il1K6hV3J",
        "outputId": "94be7b74-d8e0-41c0-ce13-0029b3ee7bfd",
        "colab": {
          "base_uri": "https://localhost:8080/"
        }
      },
      "outputs": [
        {
          "output_type": "execute_result",
          "data": {
            "text/plain": [
              "dict_keys(['India', 'France', 'Japan', 'USA', 'Germany', 'Sweden'])"
            ]
          },
          "metadata": {},
          "execution_count": 72
        }
      ],
      "source": [
        "capitals.keys()"
      ]
    },
    {
      "cell_type": "code",
      "execution_count": 73,
      "metadata": {
        "id": "7pgma_-ThV3J",
        "outputId": "4270e52c-fae4-457f-c17a-1832304a3f67",
        "colab": {
          "base_uri": "https://localhost:8080/"
        }
      },
      "outputs": [
        {
          "output_type": "execute_result",
          "data": {
            "text/plain": [
              "dict_values(['New Delhi', 'Paris', 'Tokyo', 'Washingon D.C.', 'Berlin', 'Stockholm'])"
            ]
          },
          "metadata": {},
          "execution_count": 73
        }
      ],
      "source": [
        "capitals.values()"
      ]
    },
    {
      "cell_type": "code",
      "execution_count": 74,
      "metadata": {
        "id": "0C8IeCmnhV3K"
      },
      "outputs": [],
      "source": [
        "capitals['China'] = \"Beijing\""
      ]
    },
    {
      "cell_type": "code",
      "execution_count": 75,
      "metadata": {
        "id": "dA2anypEhV3K",
        "outputId": "7c51b8d7-f365-4b9b-c5ea-95fb1104fc2f",
        "colab": {
          "base_uri": "https://localhost:8080/"
        }
      },
      "outputs": [
        {
          "output_type": "execute_result",
          "data": {
            "text/plain": [
              "{'India': 'New Delhi',\n",
              " 'France': 'Paris',\n",
              " 'Japan': 'Tokyo',\n",
              " 'USA': 'Washingon D.C.',\n",
              " 'Germany': 'Berlin',\n",
              " 'Sweden': 'Stockholm',\n",
              " 'China': 'Beijing'}"
            ]
          },
          "metadata": {},
          "execution_count": 75
        }
      ],
      "source": [
        "capitals"
      ]
    },
    {
      "cell_type": "code",
      "execution_count": 76,
      "metadata": {
        "id": "hv2KpZ7QhV3K",
        "outputId": "c3b8233a-e28c-4676-afc0-65885a86ebc9",
        "colab": {
          "base_uri": "https://localhost:8080/",
          "height": 35
        }
      },
      "outputs": [
        {
          "output_type": "execute_result",
          "data": {
            "text/plain": [
              "'Beijing'"
            ],
            "application/vnd.google.colaboratory.intrinsic+json": {
              "type": "string"
            }
          },
          "metadata": {},
          "execution_count": 76
        }
      ],
      "source": [
        "capitals.pop(\"China\")"
      ]
    },
    {
      "cell_type": "code",
      "execution_count": 77,
      "metadata": {
        "id": "1gb3ovJPhV3K",
        "outputId": "8bdd44aa-fd3d-44d1-c7a3-72d9bf8c1e8a",
        "colab": {
          "base_uri": "https://localhost:8080/"
        }
      },
      "outputs": [
        {
          "output_type": "execute_result",
          "data": {
            "text/plain": [
              "{'India': 'New Delhi',\n",
              " 'France': 'Paris',\n",
              " 'Japan': 'Tokyo',\n",
              " 'USA': 'Washingon D.C.',\n",
              " 'Germany': 'Berlin',\n",
              " 'Sweden': 'Stockholm'}"
            ]
          },
          "metadata": {},
          "execution_count": 77
        }
      ],
      "source": [
        "capitals"
      ]
    },
    {
      "cell_type": "markdown",
      "metadata": {
        "id": "5-6TpOoKhV3K"
      },
      "source": [
        "### 2.e. Joining two lists"
      ]
    },
    {
      "cell_type": "code",
      "execution_count": 78,
      "metadata": {
        "id": "MnvpkmVBhV3L"
      },
      "outputs": [],
      "source": [
        "# Join two lists and create an dictionary... \n",
        "countries = [\"India\", \"Australia\", 'England', \"New Zeland\"]\n",
        "names = [\"Rohit Sharma\", \"Aaron Finch\", \"Jos Buttler\", \"Kane Williamson\"]"
      ]
    },
    {
      "cell_type": "code",
      "execution_count": 79,
      "metadata": {
        "id": "7_--qsUrhV3L"
      },
      "outputs": [],
      "source": [
        "captains = dict( zip( countries, names ) )"
      ]
    },
    {
      "cell_type": "code",
      "execution_count": 80,
      "metadata": {
        "id": "3vCr85buhV3L",
        "outputId": "80cb0287-930b-4902-d87c-d1e0c7b88d46",
        "colab": {
          "base_uri": "https://localhost:8080/"
        }
      },
      "outputs": [
        {
          "output_type": "execute_result",
          "data": {
            "text/plain": [
              "{'India': 'Rohit Sharma',\n",
              " 'Australia': 'Aaron Finch',\n",
              " 'England': 'Jos Buttler',\n",
              " 'New Zeland': 'Kane Williamson'}"
            ]
          },
          "metadata": {},
          "execution_count": 80
        }
      ],
      "source": [
        "captains"
      ]
    },
    {
      "cell_type": "markdown",
      "metadata": {
        "id": "Bcl6wF5YhV3L"
      },
      "source": [
        "## Ex3: Participant Exercise\n",
        "\n"
      ]
    },
    {
      "cell_type": "markdown",
      "metadata": {
        "id": "OiH-EFTQhV3L"
      },
      "source": [
        "1. Creata a list with the following 10 student names \n",
        "\n",
        "    - Krishnaa J., Jyoti Adhya, C. Haradas, Korravai Parikh, Saurandhri Vaknis, Sambridhi Holkar, Sita Padhy, Ambika Sanyal, Nehal Vadekar, Sarama Upalekar\n",
        "\n",
        "2. Create two lists named \"math_scores\" and \"science_scores\" \n",
        "3. Populate the above two variables with randomly generated numbers between 20 and 90\n",
        "4. Both the scores should have exactly 10 items only. Assume that the names and scores are mapped in the same sequence.\n",
        "5. Write a function which takes math and science score of each individual returns the total score and grade\n",
        "    - Grade is Pass if both the scores are greater than equal to 50\n",
        "    - Grade is Fail if any one of the scores is less than 50\n",
        "    - The function should return a tuple with total score and grade e.g. (110, \"Pass\")\n",
        "    \n",
        "5. Iterate through the student names and invoke the above function\n",
        "6. Store all information in a dictionary with names as keys and results (tuple with total score and grade) as values.\n",
        "7. Print the dictionary"
      ]
    },
    {
      "cell_type": "markdown",
      "source": [
        "Shivdeep's Solution: \n",
        "\n",
        "Referred to https://github.com/kanhab97 for the approach. \n"
      ],
      "metadata": {
        "id": "iY5t_yH06OJu"
      }
    },
    {
      "cell_type": "code",
      "source": [
        "import random\n",
        "students = 'Krishnaa J.', 'Jyoti Adhya', 'C. Haradas', 'Korravai Parikh', 'Saurandhri Vaknis', 'Sambridhi Holkar', 'Sita Padhy', 'Ambika Sanyal', 'Nehal Vadekar', 'Sarama Upalekar'\n",
        "math_scores = random.sample(range(20, 90), 10)\n",
        "science_scores  = random.sample(range(20, 90), 10)\n",
        "print(math_scores)\n",
        "print(science_scores)"
      ],
      "metadata": {
        "id": "cMjRB_2LoyPG",
        "outputId": "3b341fc4-b5df-4a6a-93d4-2c653c491303",
        "colab": {
          "base_uri": "https://localhost:8080/"
        }
      },
      "execution_count": 5,
      "outputs": [
        {
          "output_type": "stream",
          "name": "stdout",
          "text": [
            "[83, 52, 62, 59, 32, 43, 25, 58, 46, 67]\n",
            "[56, 48, 42, 89, 75, 81, 72, 64, 52, 62]\n"
          ]
        }
      ]
    },
    {
      "cell_type": "code",
      "source": [
        "Zip_Tuple=zip(students,math_scores,science_scores)"
      ],
      "metadata": {
        "id": "dQC-z2v4stBx"
      },
      "execution_count": 6,
      "outputs": []
    },
    {
      "cell_type": "code",
      "source": [
        "print(Zip_Tuple)"
      ],
      "metadata": {
        "id": "t3c1Edpg4Fyc",
        "outputId": "d7874dd9-6b25-4cf5-80f5-2ca8ff717c59",
        "colab": {
          "base_uri": "https://localhost:8080/"
        }
      },
      "execution_count": 16,
      "outputs": [
        {
          "output_type": "stream",
          "name": "stdout",
          "text": [
            "<zip object at 0x7f28cd560440>\n"
          ]
        }
      ]
    },
    {
      "cell_type": "code",
      "source": [
        "def gradeCalc(math,sci):\n",
        "  tot=math+sci\n",
        "  if math > 50 and sci > 50:\n",
        "    grade='pass'\n",
        "  elif math < 50 or sci < 50:\n",
        "    grade='fail'\n",
        "  return ((tot, grade))"
      ],
      "metadata": {
        "id": "l1mq0u3m5SSr"
      },
      "execution_count": 18,
      "outputs": []
    },
    {
      "cell_type": "code",
      "source": [
        "Dict={}\n",
        "\n",
        "for name, mat,sc in Zip_Tuple:\n",
        "    temp=gradeCalc(mat,sc)\n",
        "    Dict[name]=temp"
      ],
      "metadata": {
        "id": "-hgfNPRG59C8"
      },
      "execution_count": 19,
      "outputs": []
    },
    {
      "cell_type": "code",
      "source": [
        "Dict"
      ],
      "metadata": {
        "id": "YkiLJld96EM_",
        "outputId": "e9dc0fae-a1d6-4a56-da71-10fb7bbd6a2a",
        "colab": {
          "base_uri": "https://localhost:8080/"
        }
      },
      "execution_count": 20,
      "outputs": [
        {
          "output_type": "execute_result",
          "data": {
            "text/plain": [
              "{'Krishnaa J.': (139, 'pass'),\n",
              " 'Jyoti Adhya': (100, 'fail'),\n",
              " 'C. Haradas': (104, 'fail'),\n",
              " 'Korravai Parikh': (148, 'pass'),\n",
              " 'Saurandhri Vaknis': (107, 'fail'),\n",
              " 'Sambridhi Holkar': (124, 'fail'),\n",
              " 'Sita Padhy': (97, 'fail'),\n",
              " 'Ambika Sanyal': (122, 'pass'),\n",
              " 'Nehal Vadekar': (98, 'fail'),\n",
              " 'Sarama Upalekar': (129, 'pass')}"
            ]
          },
          "metadata": {},
          "execution_count": 20
        }
      ]
    },
    {
      "cell_type": "markdown",
      "metadata": {
        "id": "zMlhrm-6hV3M"
      },
      "source": [
        "## 4. Important Features"
      ]
    },
    {
      "cell_type": "markdown",
      "metadata": {
        "id": "ZirXmMswhV3M"
      },
      "source": [
        "### 4.a. Lambda Functions\n",
        "\n",
        "* Lambda functions in python are key features. These are functions that can be passed as parameters to another functions.\n",
        "* The functions can be anonymous and defined inline, while passing as a parameter.\n",
        "* Primariliy used to deal with collections, to apply a function or operations on each individual elements of python"
      ]
    },
    {
      "cell_type": "code",
      "execution_count": 21,
      "metadata": {
        "id": "ale_QtPShV3N"
      },
      "outputs": [],
      "source": [
        "sqr = lambda x: x * x"
      ]
    },
    {
      "cell_type": "code",
      "execution_count": 22,
      "metadata": {
        "id": "tMA_J-u9hV3N",
        "outputId": "3e0cde6d-22c7-4ce3-fe79-f76dacf52f29",
        "colab": {
          "base_uri": "https://localhost:8080/"
        }
      },
      "outputs": [
        {
          "output_type": "execute_result",
          "data": {
            "text/plain": [
              "4"
            ]
          },
          "metadata": {},
          "execution_count": 22
        }
      ],
      "source": [
        "sqr( 2 )"
      ]
    },
    {
      "cell_type": "markdown",
      "metadata": {
        "id": "zdveg4vGhV3N"
      },
      "source": [
        "### 4.b. List Comprehension\n",
        "\n",
        "- Iterating with a single line of code"
      ]
    },
    {
      "cell_type": "code",
      "execution_count": 23,
      "metadata": {
        "id": "_bdT8oIRhV3N",
        "outputId": "0762cc02-6ba1-4d05-b42f-92f986d520ed",
        "colab": {
          "base_uri": "https://localhost:8080/"
        }
      },
      "outputs": [
        {
          "output_type": "execute_result",
          "data": {
            "text/plain": [
              "[0, 1, 2, 3, 4, 5, 6, 7, 8, 9]"
            ]
          },
          "metadata": {},
          "execution_count": 23
        }
      ],
      "source": [
        "nums = list(range(0, 10))\n",
        "\n",
        "nums"
      ]
    },
    {
      "cell_type": "code",
      "execution_count": 24,
      "metadata": {
        "id": "TnOFNwp5hV3N",
        "outputId": "490c8fc5-a90e-42a4-e505-d07ab4201046",
        "colab": {
          "base_uri": "https://localhost:8080/"
        }
      },
      "outputs": [
        {
          "output_type": "stream",
          "name": "stdout",
          "text": [
            "[0, 1, 4, 9, 16, 25, 36, 49, 64, 81]\n"
          ]
        }
      ],
      "source": [
        "squares = []\n",
        "\n",
        "for x in nums:\n",
        "    squares.append( sqr(x) )\n",
        "\n",
        "print( squares )    "
      ]
    },
    {
      "cell_type": "code",
      "execution_count": 25,
      "metadata": {
        "id": "LsiXIaTnhV3O"
      },
      "outputs": [],
      "source": [
        "a_squares = [x * x for x in nums]"
      ]
    },
    {
      "cell_type": "code",
      "execution_count": 26,
      "metadata": {
        "id": "ZCA1MnXfhV3O",
        "outputId": "5e167aea-a00f-49fa-9ef5-5a5b508717a0",
        "colab": {
          "base_uri": "https://localhost:8080/"
        }
      },
      "outputs": [
        {
          "output_type": "execute_result",
          "data": {
            "text/plain": [
              "[0, 1, 4, 9, 16, 25, 36, 49, 64, 81]"
            ]
          },
          "metadata": {},
          "execution_count": 26
        }
      ],
      "source": [
        "a_squares"
      ]
    },
    {
      "cell_type": "code",
      "execution_count": 27,
      "metadata": {
        "id": "f_HgaJxahV3O"
      },
      "outputs": [],
      "source": [
        "b_squares = [sqr(x) for x in nums]"
      ]
    },
    {
      "cell_type": "code",
      "execution_count": 28,
      "metadata": {
        "id": "NqaByK_jhV3O",
        "outputId": "695afff5-4134-4010-cb8d-97eb49e199fa",
        "colab": {
          "base_uri": "https://localhost:8080/"
        }
      },
      "outputs": [
        {
          "output_type": "execute_result",
          "data": {
            "text/plain": [
              "[0, 1, 4, 9, 16, 25, 36, 49, 64, 81]"
            ]
          },
          "metadata": {},
          "execution_count": 28
        }
      ],
      "source": [
        "b_squares"
      ]
    },
    {
      "cell_type": "markdown",
      "metadata": {
        "id": "MZU3lmwzhV3O"
      },
      "source": [
        "### 4.c. map() function\n",
        "\n",
        "- map() function allows to process or transform all the items iteratively without using an explicit for loop.\n",
        "\n",
        "```\n",
        "map(function, iterable[, iterable1, iterable2,..., iterableN])\n",
        "```"
      ]
    },
    {
      "cell_type": "code",
      "execution_count": 29,
      "metadata": {
        "id": "l86gQ77YhV3P"
      },
      "outputs": [],
      "source": [
        "c_squares = map(sqr, nums)"
      ]
    },
    {
      "cell_type": "code",
      "execution_count": 30,
      "metadata": {
        "id": "MJXw0HbchV3P",
        "outputId": "7e873805-e293-411d-c995-940e3de9922d",
        "colab": {
          "base_uri": "https://localhost:8080/"
        }
      },
      "outputs": [
        {
          "output_type": "execute_result",
          "data": {
            "text/plain": [
              "[0, 1, 4, 9, 16, 25, 36, 49, 64, 81]"
            ]
          },
          "metadata": {},
          "execution_count": 30
        }
      ],
      "source": [
        "list(c_squares)"
      ]
    },
    {
      "cell_type": "code",
      "execution_count": 31,
      "metadata": {
        "id": "-RkrPAfKhV3P"
      },
      "outputs": [],
      "source": [
        "d_squares = map(lambda x: x * x, nums)"
      ]
    },
    {
      "cell_type": "code",
      "execution_count": 32,
      "metadata": {
        "id": "Sd45ZzPJhV3P",
        "outputId": "97aa103a-ee0a-49bb-c4f6-9722482bff90",
        "colab": {
          "base_uri": "https://localhost:8080/"
        }
      },
      "outputs": [
        {
          "output_type": "execute_result",
          "data": {
            "text/plain": [
              "[0, 1, 4, 9, 16, 25, 36, 49, 64, 81]"
            ]
          },
          "metadata": {},
          "execution_count": 32
        }
      ],
      "source": [
        "list(d_squares)"
      ]
    },
    {
      "cell_type": "markdown",
      "metadata": {
        "id": "xlZkKwvmhV3P"
      },
      "source": [
        "#### Filter out the even numbers"
      ]
    },
    {
      "cell_type": "code",
      "execution_count": 33,
      "metadata": {
        "id": "V_Goby3DhV3P"
      },
      "outputs": [],
      "source": [
        "evens = filter( lambda x : x % 2 == 0, nums )"
      ]
    },
    {
      "cell_type": "code",
      "execution_count": 34,
      "metadata": {
        "id": "_Zh-TB23hV3Q",
        "outputId": "10e4c993-2cf0-4fee-882c-806153c4f9c3",
        "colab": {
          "base_uri": "https://localhost:8080/"
        }
      },
      "outputs": [
        {
          "output_type": "execute_result",
          "data": {
            "text/plain": [
              "[0, 2, 4, 6, 8]"
            ]
          },
          "metadata": {},
          "execution_count": 34
        }
      ],
      "source": [
        "list( evens )"
      ]
    },
    {
      "cell_type": "code",
      "execution_count": 35,
      "metadata": {
        "id": "DaRw8jShhV3Q"
      },
      "outputs": [],
      "source": [
        "def isEven(x):\n",
        "    if x % 2 == 0:\n",
        "        return True\n",
        "    else:\n",
        "        return False"
      ]
    },
    {
      "cell_type": "code",
      "execution_count": 36,
      "metadata": {
        "id": "OKHISABjhV3Q"
      },
      "outputs": [],
      "source": [
        "a_evens = filter( isEven, nums )"
      ]
    },
    {
      "cell_type": "code",
      "execution_count": 37,
      "metadata": {
        "id": "7dIOfVPShV3Q",
        "outputId": "6a6b7218-f39b-4ef2-9174-65d97ddcaa7d",
        "colab": {
          "base_uri": "https://localhost:8080/"
        }
      },
      "outputs": [
        {
          "output_type": "execute_result",
          "data": {
            "text/plain": [
              "[0, 2, 4, 6, 8]"
            ]
          },
          "metadata": {},
          "execution_count": 37
        }
      ],
      "source": [
        "list(a_evens)"
      ]
    },
    {
      "cell_type": "markdown",
      "metadata": {
        "id": "6cQINRuZhV3Q"
      },
      "source": [
        "### 4.d. map() - Iterate through two collections"
      ]
    },
    {
      "cell_type": "code",
      "execution_count": 38,
      "metadata": {
        "id": "REQ6yLxYhV3Q"
      },
      "outputs": [],
      "source": [
        "firstList = [1, 4, 9, 16, 25, 36, 49, 64, 81]\n",
        "secondList = [1, 2, 3, 4, 5, 6, 7, 8, 9]\n",
        "\n",
        "divisions = map(lambda x, y: x/y, firstList, secondList)"
      ]
    },
    {
      "cell_type": "code",
      "execution_count": 39,
      "metadata": {
        "id": "bEnqKnFIhV3R",
        "outputId": "806f9c94-dee3-4d9e-96f5-c28b24333395",
        "colab": {
          "base_uri": "https://localhost:8080/"
        }
      },
      "outputs": [
        {
          "output_type": "execute_result",
          "data": {
            "text/plain": [
              "[1.0, 2.0, 3.0, 4.0, 5.0, 6.0, 7.0, 8.0, 9.0]"
            ]
          },
          "metadata": {},
          "execution_count": 39
        }
      ],
      "source": [
        "list(divisions)"
      ]
    },
    {
      "cell_type": "markdown",
      "metadata": {
        "id": "00jgaHnFhV3R"
      },
      "source": [
        "## Ex4: Participant Exercise\n",
        "\n",
        "1. The variable **daily_prices** contains information about a stock open and close prices for 10 days\n",
        "2. Calculate the daily gains and create a dictionary which stores the date and daily gains as shown below\n",
        "\n",
        "```\n",
        "[{'Date': '17-05-2016', 'Gain': -0.32},\n",
        " {'Date': '16-05-2016', 'Gain': 0.33},\n",
        " {'Date': '13-05-2016', 'Gain': -0.02},\n",
        " {'Date': '12-05-2016', 'Gain': 0.1},\n",
        " {'Date': '11-05-2016', 'Gain': -0.33},\n",
        " {'Date': '10-05-2016', 'Gain': 1.05},\n",
        " {'Date': '09-05-2016', 'Gain': 0.77},\n",
        " {'Date': '06-05-2016', 'Gain': -0.89},\n",
        " {'Date': '05-05-2016', 'Gain': 0.12},\n",
        " {'Date': '04-05-2016', 'Gain': -0.12}]\n",
        "```\n",
        "\n",
        "3. The gain should be calculated as (Close - Open) *100 / Open.\n",
        "4. The gain value should be rounded to 2 decimal places\n",
        "5. Accomplish the above task using both the approaches: List comprehension and map() function"
      ]
    },
    {
      "cell_type": "code",
      "execution_count": 40,
      "metadata": {
        "id": "QCW2wmU3hV3R"
      },
      "outputs": [],
      "source": [
        "daily_prices = [ {'Date': '17-05-2016', 'Open': 1218.0, 'Close': 1214.05005},\n",
        "                 {'Date': '16-05-2016', 'Open': 1210.0, 'Close': 1213.94995},\n",
        "                 {'Date': '13-05-2016', 'Open': 1207.0, 'Close': 1206.69995},\n",
        "                 {'Date': '12-05-2016', 'Open': 1208.94995, 'Close': 1210.19995},\n",
        "                 {'Date': '11-05-2016', 'Open': 1205.0, 'Close': 1201.05005},\n",
        "                 {'Date': '10-05-2016', 'Open': 1200.0, 'Close': 1212.55005},\n",
        "                 {'Date': '09-05-2016', 'Open': 1190.0, 'Close': 1199.1500199999998},\n",
        "                 {'Date': '06-05-2016', 'Open': 1192.0, 'Close': 1181.44995},\n",
        "                 {'Date': '05-05-2016', 'Open': 1191.0, 'Close': 1192.44995},\n",
        "                 {'Date': '04-05-2016', 'Open': 1191.0, 'Close': 1189.55005} ]"
      ]
    },
    {
      "cell_type": "markdown",
      "source": [
        "Shivdeep's Solution:\n",
        "March 07, 2023\n",
        "\n",
        "> List Comprehension Method\n",
        "\n",
        "\n"
      ],
      "metadata": {
        "id": "pQ4xbVF0EQ_1"
      }
    },
    {
      "cell_type": "code",
      "source": [
        "##gain = [x * x for x in nums]\n",
        "daily_prices[1]"
      ],
      "metadata": {
        "id": "HMtwDUQIEQII",
        "outputId": "4041b78a-36eb-496d-f597-5c9823ce5d97",
        "colab": {
          "base_uri": "https://localhost:8080/"
        }
      },
      "execution_count": 48,
      "outputs": [
        {
          "output_type": "execute_result",
          "data": {
            "text/plain": [
              "{'Date': '16-05-2016', 'Open': 1210.0, 'Close': 1213.94995}"
            ]
          },
          "metadata": {},
          "execution_count": 48
        }
      ]
    },
    {
      "cell_type": "code",
      "source": [
        "def f(i):\n",
        "    dict1={}\n",
        "    temp1=round((i['Close']-i['Open'])*100/i['Open'],2)\n",
        "    dict1['Date']=i['Date']\n",
        "    dict1['Gain']=temp1\n",
        "    return(dict1)\n",
        "\n",
        "List1 = [f(x) for x in daily_prices]\n",
        "\n",
        "List1"
      ],
      "metadata": {
        "id": "yltDOFtrIKWZ",
        "outputId": "ff05809c-fce9-4f21-9e9c-73d2297c05e9",
        "colab": {
          "base_uri": "https://localhost:8080/"
        }
      },
      "execution_count": 51,
      "outputs": [
        {
          "output_type": "execute_result",
          "data": {
            "text/plain": [
              "[{'Date': '17-05-2016', 'Gain': -0.32},\n",
              " {'Date': '16-05-2016', 'Gain': 0.33},\n",
              " {'Date': '13-05-2016', 'Gain': -0.02},\n",
              " {'Date': '12-05-2016', 'Gain': 0.1},\n",
              " {'Date': '11-05-2016', 'Gain': -0.33},\n",
              " {'Date': '10-05-2016', 'Gain': 1.05},\n",
              " {'Date': '09-05-2016', 'Gain': 0.77},\n",
              " {'Date': '06-05-2016', 'Gain': -0.89},\n",
              " {'Date': '05-05-2016', 'Gain': 0.12},\n",
              " {'Date': '04-05-2016', 'Gain': -0.12}]"
            ]
          },
          "metadata": {},
          "execution_count": 51
        }
      ]
    }
  ],
  "metadata": {
    "anaconda-cloud": {},
    "kernelspec": {
      "display_name": "Python 3",
      "language": "python",
      "name": "python3"
    },
    "language_info": {
      "codemirror_mode": {
        "name": "ipython",
        "version": 3
      },
      "file_extension": ".py",
      "mimetype": "text/x-python",
      "name": "python",
      "nbconvert_exporter": "python",
      "pygments_lexer": "ipython3",
      "version": "3.8.3"
    },
    "colab": {
      "provenance": []
    }
  },
  "nbformat": 4,
  "nbformat_minor": 0
}