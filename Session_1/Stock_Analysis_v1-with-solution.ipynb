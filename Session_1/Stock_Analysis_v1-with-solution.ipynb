{
  "cells": [
    {
      "cell_type": "markdown",
      "metadata": {
        "id": "9c7OdLVapICm"
      },
      "source": [
        "# Analysis of Stocks - Daily Returns"
      ]
    },
    {
      "cell_type": "markdown",
      "metadata": {
        "id": "YSfjgO4hpICo"
      },
      "source": [
        "##  Objective \n",
        "\n",
        "### The key statistical concepts that will be explored this notebook are:\n",
        "\n",
        "- Probability Distribution\n",
        "- Normal Distribution\n",
        "- Significance of mean and standard deviation\n",
        "- Confidence Interval\n",
        "- Outlier events\n",
        "\n",
        "### Datasets \n",
        "\n",
        "We will use the following real world data for this notebook.\n",
        "\n",
        "- Daily stock prices of **ICICI Bank and Yes Bank**\n",
        "- For the period of **01 October 2022 to 07 March 2023**\n",
        "- The dails stock price data can be downloaded from **BSE India Site**\n",
        "\n",
        "https://www.bseindia.com/markets/equity/EQReports/StockPrcHistori.html?flag=0\n",
        "\n",
        "#### We will explore some of the basic insights like:\n",
        "\n",
        "- What is the value at risk (VaR)?\n",
        "\n",
        "Value at risk (VaR) is a measure of the risk of loss for investments. It estimates how much a set of investments might lose (with a given probability), given normal market conditions, in a set time period such as a day. (https://en.wikipedia.org/wiki/Value_at_risk)\n",
        "\n",
        "- What is the probability of making a certain percetage of profit or loss if invested in a stock for a specified duration of time?\n",
        "\n",
        "- How basic statistical analysis helps answer the above questions?"
      ]
    },
    {
      "cell_type": "code",
      "source": [],
      "metadata": {
        "id": "HKi2he74zHxm"
      },
      "execution_count": null,
      "outputs": []
    },
    {
      "cell_type": "markdown",
      "metadata": {
        "id": "Qg0GUAl2pICo"
      },
      "source": [
        "## Read the dataset\n",
        "\n",
        "- Explore the pandas, seaborn documentation page\n",
        "\n",
        "    - [Pandas Home Page](https://pandas.pydata.org/)\n",
        "    - [Matplotlib Home Page](https://matplotlib.org/)\n",
        "    - [Seaborn Home Page](https://seaborn.pydata.org/)\n"
      ]
    },
    {
      "cell_type": "code",
      "execution_count": null,
      "metadata": {
        "id": "Y0DUkHmopICp"
      },
      "outputs": [],
      "source": [
        "import pandas as pd\n",
        "import matplotlib as mplot\n",
        "import matplotlib.pyplot as plt\n",
        "import seaborn as sn"
      ]
    },
    {
      "cell_type": "markdown",
      "metadata": {
        "id": "AxNrSBeypICr"
      },
      "source": [
        "### Check the library versions"
      ]
    },
    {
      "cell_type": "code",
      "execution_count": null,
      "metadata": {
        "colab": {
          "base_uri": "https://localhost:8080/",
          "height": 35
        },
        "id": "B6lZE4a3pICr",
        "outputId": "08fd27ee-cc50-43d4-dff8-e545b0b952ff"
      },
      "outputs": [
        {
          "output_type": "execute_result",
          "data": {
            "text/plain": [
              "'1.4.4'"
            ],
            "application/vnd.google.colaboratory.intrinsic+json": {
              "type": "string"
            }
          },
          "metadata": {},
          "execution_count": 3
        }
      ],
      "source": [
        "pd.__version__"
      ]
    },
    {
      "cell_type": "code",
      "execution_count": null,
      "metadata": {
        "colab": {
          "base_uri": "https://localhost:8080/",
          "height": 35
        },
        "id": "gNrcg-OHpICr",
        "outputId": "087fe08a-d4e7-4e01-a322-6a586becdd7a"
      },
      "outputs": [
        {
          "output_type": "execute_result",
          "data": {
            "text/plain": [
              "'3.7.1'"
            ],
            "application/vnd.google.colaboratory.intrinsic+json": {
              "type": "string"
            }
          },
          "metadata": {},
          "execution_count": 4
        }
      ],
      "source": [
        "mplot.__version__"
      ]
    },
    {
      "cell_type": "code",
      "execution_count": null,
      "metadata": {
        "colab": {
          "base_uri": "https://localhost:8080/",
          "height": 35
        },
        "id": "xQlmzbespICs",
        "outputId": "a0fd77b3-ef85-4a25-cd99-cd92c49a4c3a"
      },
      "outputs": [
        {
          "output_type": "execute_result",
          "data": {
            "text/plain": [
              "'0.12.2'"
            ],
            "application/vnd.google.colaboratory.intrinsic+json": {
              "type": "string"
            }
          },
          "metadata": {},
          "execution_count": 5
        }
      ],
      "source": [
        "sn.__version__"
      ]
    },
    {
      "cell_type": "markdown",
      "metadata": {
        "id": "0Ve5gnB0pICs"
      },
      "source": [
        "### Load ICICI Bank Data"
      ]
    },
    {
      "cell_type": "markdown",
      "metadata": {
        "id": "xFzLlAdCpICs"
      },
      "source": [
        "- Read different kinds of data formats\n",
        "\n",
        "https://pandas.pydata.org/docs/user_guide/io.html"
      ]
    },
    {
      "cell_type": "code",
      "execution_count": null,
      "metadata": {
        "id": "FZx2k4uJpICs"
      },
      "outputs": [],
      "source": [
        "icici_df = pd.read_csv( 'https://raw.githubusercontent.com/manaranjanp/MLCourseV1/main/Session_1/ICICI.csv', \n",
        "                       parse_dates=['Date'] )"
      ]
    },
    {
      "cell_type": "code",
      "execution_count": null,
      "metadata": {
        "id": "SXgX18JXpICt"
      },
      "outputs": [],
      "source": [
        "type(icici_df)"
      ]
    },
    {
      "cell_type": "markdown",
      "metadata": {
        "id": "FonO592gpICt"
      },
      "source": [
        "A DataFrame is a data structure that organizes data into a 2-dimensional table of rows and columns, much like a spreadsheet. DataFrames are one of the most common data structures used in modern data analytics because they are a flexible and intuitive way of storing and working with data.\n",
        "\n",
        "Source: [What is a DataFrame](https://www.databricks.com/glossary/what-are-dataframes#:~:text=What%20is%20a%20DataFrame%3F,storing%20and%20working%20with%20data.)"
      ]
    },
    {
      "cell_type": "markdown",
      "metadata": {
        "id": "kbsc6QFYpICt"
      },
      "source": [
        "#### Show few records"
      ]
    },
    {
      "cell_type": "code",
      "execution_count": null,
      "metadata": {
        "colab": {
          "base_uri": "https://localhost:8080/",
          "height": 297
        },
        "id": "tQXeQ7lmpICt",
        "outputId": "a1d44a08-dd7d-4efe-cd3e-9b783b5c255c"
      },
      "outputs": [
        {
          "output_type": "execute_result",
          "data": {
            "text/plain": [
              "        Date  Open Price  High Price  Low Price  Close Price         WAP  \\\n",
              "0 2023-03-06      873.80      876.50     865.60       867.95  871.256330   \n",
              "1 2023-03-03      855.05      873.00     849.85       868.80  865.532334   \n",
              "2 2023-03-02      854.30      861.85     851.00       853.95  857.834905   \n",
              "3 2023-03-01      861.55      861.90     852.00       856.05  857.317703   \n",
              "4 2023-02-28      856.30      857.85     850.05       854.65  853.431155   \n",
              "\n",
              "   No.of Shares  No. of Trades  Total Turnover (Rs.)  Deliverable Quantity  \\\n",
              "0        165396           7772           144102312.0               76949.0   \n",
              "1        177353           5219           153504756.0               73785.0   \n",
              "2         89942           3357            77155387.0               38971.0   \n",
              "3         95709           3624            82053020.0               31041.0   \n",
              "4        159604           7878           136211026.0               66312.0   \n",
              "\n",
              "   % Deli. Qty to Traded Qty  Spread High-Low  Spread Close-Open  \n",
              "0                      46.52            10.90              -5.85  \n",
              "1                      41.60            23.15              13.75  \n",
              "2                      43.33            10.85              -0.35  \n",
              "3                      32.43             9.90              -5.50  \n",
              "4                      41.55             7.80              -1.65  "
            ],
            "text/html": [
              "\n",
              "  <div id=\"df-fb6f67a5-d41c-4173-a0e5-8ebca3d0f1a7\">\n",
              "    <div class=\"colab-df-container\">\n",
              "      <div>\n",
              "<style scoped>\n",
              "    .dataframe tbody tr th:only-of-type {\n",
              "        vertical-align: middle;\n",
              "    }\n",
              "\n",
              "    .dataframe tbody tr th {\n",
              "        vertical-align: top;\n",
              "    }\n",
              "\n",
              "    .dataframe thead th {\n",
              "        text-align: right;\n",
              "    }\n",
              "</style>\n",
              "<table border=\"1\" class=\"dataframe\">\n",
              "  <thead>\n",
              "    <tr style=\"text-align: right;\">\n",
              "      <th></th>\n",
              "      <th>Date</th>\n",
              "      <th>Open Price</th>\n",
              "      <th>High Price</th>\n",
              "      <th>Low Price</th>\n",
              "      <th>Close Price</th>\n",
              "      <th>WAP</th>\n",
              "      <th>No.of Shares</th>\n",
              "      <th>No. of Trades</th>\n",
              "      <th>Total Turnover (Rs.)</th>\n",
              "      <th>Deliverable Quantity</th>\n",
              "      <th>% Deli. Qty to Traded Qty</th>\n",
              "      <th>Spread High-Low</th>\n",
              "      <th>Spread Close-Open</th>\n",
              "    </tr>\n",
              "  </thead>\n",
              "  <tbody>\n",
              "    <tr>\n",
              "      <th>0</th>\n",
              "      <td>2023-03-06</td>\n",
              "      <td>873.80</td>\n",
              "      <td>876.50</td>\n",
              "      <td>865.60</td>\n",
              "      <td>867.95</td>\n",
              "      <td>871.256330</td>\n",
              "      <td>165396</td>\n",
              "      <td>7772</td>\n",
              "      <td>144102312.0</td>\n",
              "      <td>76949.0</td>\n",
              "      <td>46.52</td>\n",
              "      <td>10.90</td>\n",
              "      <td>-5.85</td>\n",
              "    </tr>\n",
              "    <tr>\n",
              "      <th>1</th>\n",
              "      <td>2023-03-03</td>\n",
              "      <td>855.05</td>\n",
              "      <td>873.00</td>\n",
              "      <td>849.85</td>\n",
              "      <td>868.80</td>\n",
              "      <td>865.532334</td>\n",
              "      <td>177353</td>\n",
              "      <td>5219</td>\n",
              "      <td>153504756.0</td>\n",
              "      <td>73785.0</td>\n",
              "      <td>41.60</td>\n",
              "      <td>23.15</td>\n",
              "      <td>13.75</td>\n",
              "    </tr>\n",
              "    <tr>\n",
              "      <th>2</th>\n",
              "      <td>2023-03-02</td>\n",
              "      <td>854.30</td>\n",
              "      <td>861.85</td>\n",
              "      <td>851.00</td>\n",
              "      <td>853.95</td>\n",
              "      <td>857.834905</td>\n",
              "      <td>89942</td>\n",
              "      <td>3357</td>\n",
              "      <td>77155387.0</td>\n",
              "      <td>38971.0</td>\n",
              "      <td>43.33</td>\n",
              "      <td>10.85</td>\n",
              "      <td>-0.35</td>\n",
              "    </tr>\n",
              "    <tr>\n",
              "      <th>3</th>\n",
              "      <td>2023-03-01</td>\n",
              "      <td>861.55</td>\n",
              "      <td>861.90</td>\n",
              "      <td>852.00</td>\n",
              "      <td>856.05</td>\n",
              "      <td>857.317703</td>\n",
              "      <td>95709</td>\n",
              "      <td>3624</td>\n",
              "      <td>82053020.0</td>\n",
              "      <td>31041.0</td>\n",
              "      <td>32.43</td>\n",
              "      <td>9.90</td>\n",
              "      <td>-5.50</td>\n",
              "    </tr>\n",
              "    <tr>\n",
              "      <th>4</th>\n",
              "      <td>2023-02-28</td>\n",
              "      <td>856.30</td>\n",
              "      <td>857.85</td>\n",
              "      <td>850.05</td>\n",
              "      <td>854.65</td>\n",
              "      <td>853.431155</td>\n",
              "      <td>159604</td>\n",
              "      <td>7878</td>\n",
              "      <td>136211026.0</td>\n",
              "      <td>66312.0</td>\n",
              "      <td>41.55</td>\n",
              "      <td>7.80</td>\n",
              "      <td>-1.65</td>\n",
              "    </tr>\n",
              "  </tbody>\n",
              "</table>\n",
              "</div>\n",
              "      <button class=\"colab-df-convert\" onclick=\"convertToInteractive('df-fb6f67a5-d41c-4173-a0e5-8ebca3d0f1a7')\"\n",
              "              title=\"Convert this dataframe to an interactive table.\"\n",
              "              style=\"display:none;\">\n",
              "        \n",
              "  <svg xmlns=\"http://www.w3.org/2000/svg\" height=\"24px\"viewBox=\"0 0 24 24\"\n",
              "       width=\"24px\">\n",
              "    <path d=\"M0 0h24v24H0V0z\" fill=\"none\"/>\n",
              "    <path d=\"M18.56 5.44l.94 2.06.94-2.06 2.06-.94-2.06-.94-.94-2.06-.94 2.06-2.06.94zm-11 1L8.5 8.5l.94-2.06 2.06-.94-2.06-.94L8.5 2.5l-.94 2.06-2.06.94zm10 10l.94 2.06.94-2.06 2.06-.94-2.06-.94-.94-2.06-.94 2.06-2.06.94z\"/><path d=\"M17.41 7.96l-1.37-1.37c-.4-.4-.92-.59-1.43-.59-.52 0-1.04.2-1.43.59L10.3 9.45l-7.72 7.72c-.78.78-.78 2.05 0 2.83L4 21.41c.39.39.9.59 1.41.59.51 0 1.02-.2 1.41-.59l7.78-7.78 2.81-2.81c.8-.78.8-2.07 0-2.86zM5.41 20L4 18.59l7.72-7.72 1.47 1.35L5.41 20z\"/>\n",
              "  </svg>\n",
              "      </button>\n",
              "      \n",
              "  <style>\n",
              "    .colab-df-container {\n",
              "      display:flex;\n",
              "      flex-wrap:wrap;\n",
              "      gap: 12px;\n",
              "    }\n",
              "\n",
              "    .colab-df-convert {\n",
              "      background-color: #E8F0FE;\n",
              "      border: none;\n",
              "      border-radius: 50%;\n",
              "      cursor: pointer;\n",
              "      display: none;\n",
              "      fill: #1967D2;\n",
              "      height: 32px;\n",
              "      padding: 0 0 0 0;\n",
              "      width: 32px;\n",
              "    }\n",
              "\n",
              "    .colab-df-convert:hover {\n",
              "      background-color: #E2EBFA;\n",
              "      box-shadow: 0px 1px 2px rgba(60, 64, 67, 0.3), 0px 1px 3px 1px rgba(60, 64, 67, 0.15);\n",
              "      fill: #174EA6;\n",
              "    }\n",
              "\n",
              "    [theme=dark] .colab-df-convert {\n",
              "      background-color: #3B4455;\n",
              "      fill: #D2E3FC;\n",
              "    }\n",
              "\n",
              "    [theme=dark] .colab-df-convert:hover {\n",
              "      background-color: #434B5C;\n",
              "      box-shadow: 0px 1px 3px 1px rgba(0, 0, 0, 0.15);\n",
              "      filter: drop-shadow(0px 1px 2px rgba(0, 0, 0, 0.3));\n",
              "      fill: #FFFFFF;\n",
              "    }\n",
              "  </style>\n",
              "\n",
              "      <script>\n",
              "        const buttonEl =\n",
              "          document.querySelector('#df-fb6f67a5-d41c-4173-a0e5-8ebca3d0f1a7 button.colab-df-convert');\n",
              "        buttonEl.style.display =\n",
              "          google.colab.kernel.accessAllowed ? 'block' : 'none';\n",
              "\n",
              "        async function convertToInteractive(key) {\n",
              "          const element = document.querySelector('#df-fb6f67a5-d41c-4173-a0e5-8ebca3d0f1a7');\n",
              "          const dataTable =\n",
              "            await google.colab.kernel.invokeFunction('convertToInteractive',\n",
              "                                                     [key], {});\n",
              "          if (!dataTable) return;\n",
              "\n",
              "          const docLinkHtml = 'Like what you see? Visit the ' +\n",
              "            '<a target=\"_blank\" href=https://colab.research.google.com/notebooks/data_table.ipynb>data table notebook</a>'\n",
              "            + ' to learn more about interactive tables.';\n",
              "          element.innerHTML = '';\n",
              "          dataTable['output_type'] = 'display_data';\n",
              "          await google.colab.output.renderOutput(dataTable, element);\n",
              "          const docLink = document.createElement('div');\n",
              "          docLink.innerHTML = docLinkHtml;\n",
              "          element.appendChild(docLink);\n",
              "        }\n",
              "      </script>\n",
              "    </div>\n",
              "  </div>\n",
              "  "
            ]
          },
          "metadata": {},
          "execution_count": 7
        }
      ],
      "source": [
        "icici_df.head( 5 )"
      ]
    },
    {
      "cell_type": "markdown",
      "metadata": {
        "id": "rIuTO9FYpICt"
      },
      "source": [
        "#### How many rows and columns?"
      ]
    },
    {
      "cell_type": "code",
      "execution_count": null,
      "metadata": {
        "colab": {
          "base_uri": "https://localhost:8080/"
        },
        "id": "n2HiO62wpICt",
        "outputId": "a20ddf6b-6c7e-4618-807c-13ff2d9c0b55"
      },
      "outputs": [
        {
          "output_type": "execute_result",
          "data": {
            "text/plain": [
              "(107, 13)"
            ]
          },
          "metadata": {},
          "execution_count": 9
        }
      ],
      "source": [
        "icici_df.shape"
      ]
    },
    {
      "cell_type": "code",
      "execution_count": null,
      "metadata": {
        "colab": {
          "base_uri": "https://localhost:8080/"
        },
        "id": "KZhKz8jJpICu",
        "outputId": "d3d378ff-cdd4-43a2-a27c-3e290c1f474a"
      },
      "outputs": [
        {
          "output_type": "stream",
          "name": "stdout",
          "text": [
            "<class 'pandas.core.frame.DataFrame'>\n",
            "RangeIndex: 107 entries, 0 to 106\n",
            "Data columns (total 13 columns):\n",
            " #   Column                     Non-Null Count  Dtype         \n",
            "---  ------                     --------------  -----         \n",
            " 0   Date                       107 non-null    datetime64[ns]\n",
            " 1   Open Price                 107 non-null    float64       \n",
            " 2   High Price                 107 non-null    float64       \n",
            " 3   Low Price                  107 non-null    float64       \n",
            " 4   Close Price                107 non-null    float64       \n",
            " 5   WAP                        107 non-null    float64       \n",
            " 6   No.of Shares               107 non-null    int64         \n",
            " 7   No. of Trades              107 non-null    int64         \n",
            " 8   Total Turnover (Rs.)       107 non-null    float64       \n",
            " 9   Deliverable Quantity       105 non-null    float64       \n",
            " 10  % Deli. Qty to Traded Qty  105 non-null    float64       \n",
            " 11  Spread High-Low            107 non-null    float64       \n",
            " 12  Spread Close-Open          107 non-null    float64       \n",
            "dtypes: datetime64[ns](1), float64(10), int64(2)\n",
            "memory usage: 11.0 KB\n"
          ]
        }
      ],
      "source": [
        "icici_df.info()"
      ]
    },
    {
      "cell_type": "markdown",
      "metadata": {
        "id": "QBZNNHihpICu"
      },
      "source": [
        "### Time Series Data\n",
        "\n",
        "This data is time series based. It makes sense to index the data based on timestamp."
      ]
    },
    {
      "cell_type": "code",
      "execution_count": null,
      "metadata": {
        "id": "WhVz2ZhSpICu"
      },
      "outputs": [],
      "source": [
        "icici_df = icici_df.set_index(['Date'], drop=True)"
      ]
    },
    {
      "cell_type": "code",
      "execution_count": null,
      "metadata": {
        "colab": {
          "base_uri": "https://localhost:8080/",
          "height": 386
        },
        "id": "_tkgaQsFpICu",
        "outputId": "976eaa72-4969-4203-dd87-eab8f39d7d8f"
      },
      "outputs": [
        {
          "output_type": "execute_result",
          "data": {
            "text/plain": [
              "            Open Price  High Price  Low Price  Close Price         WAP  \\\n",
              "Date                                                                     \n",
              "2023-03-06      873.80      876.50     865.60       867.95  871.256330   \n",
              "2023-03-03      855.05      873.00     849.85       868.80  865.532334   \n",
              "2023-03-02      854.30      861.85     851.00       853.95  857.834905   \n",
              "2023-03-01      861.55      861.90     852.00       856.05  857.317703   \n",
              "2023-02-28      856.30      857.85     850.05       854.65  853.431155   \n",
              "\n",
              "            No.of Shares  No. of Trades  Total Turnover (Rs.)  \\\n",
              "Date                                                            \n",
              "2023-03-06        165396           7772           144102312.0   \n",
              "2023-03-03        177353           5219           153504756.0   \n",
              "2023-03-02         89942           3357            77155387.0   \n",
              "2023-03-01         95709           3624            82053020.0   \n",
              "2023-02-28        159604           7878           136211026.0   \n",
              "\n",
              "            Deliverable Quantity  % Deli. Qty to Traded Qty  Spread High-Low  \\\n",
              "Date                                                                           \n",
              "2023-03-06               76949.0                      46.52            10.90   \n",
              "2023-03-03               73785.0                      41.60            23.15   \n",
              "2023-03-02               38971.0                      43.33            10.85   \n",
              "2023-03-01               31041.0                      32.43             9.90   \n",
              "2023-02-28               66312.0                      41.55             7.80   \n",
              "\n",
              "            Spread Close-Open  \n",
              "Date                           \n",
              "2023-03-06              -5.85  \n",
              "2023-03-03              13.75  \n",
              "2023-03-02              -0.35  \n",
              "2023-03-01              -5.50  \n",
              "2023-02-28              -1.65  "
            ],
            "text/html": [
              "\n",
              "  <div id=\"df-04cb9e8c-1b11-4f7b-a3fe-af0fb0b90b2a\">\n",
              "    <div class=\"colab-df-container\">\n",
              "      <div>\n",
              "<style scoped>\n",
              "    .dataframe tbody tr th:only-of-type {\n",
              "        vertical-align: middle;\n",
              "    }\n",
              "\n",
              "    .dataframe tbody tr th {\n",
              "        vertical-align: top;\n",
              "    }\n",
              "\n",
              "    .dataframe thead th {\n",
              "        text-align: right;\n",
              "    }\n",
              "</style>\n",
              "<table border=\"1\" class=\"dataframe\">\n",
              "  <thead>\n",
              "    <tr style=\"text-align: right;\">\n",
              "      <th></th>\n",
              "      <th>Open Price</th>\n",
              "      <th>High Price</th>\n",
              "      <th>Low Price</th>\n",
              "      <th>Close Price</th>\n",
              "      <th>WAP</th>\n",
              "      <th>No.of Shares</th>\n",
              "      <th>No. of Trades</th>\n",
              "      <th>Total Turnover (Rs.)</th>\n",
              "      <th>Deliverable Quantity</th>\n",
              "      <th>% Deli. Qty to Traded Qty</th>\n",
              "      <th>Spread High-Low</th>\n",
              "      <th>Spread Close-Open</th>\n",
              "    </tr>\n",
              "    <tr>\n",
              "      <th>Date</th>\n",
              "      <th></th>\n",
              "      <th></th>\n",
              "      <th></th>\n",
              "      <th></th>\n",
              "      <th></th>\n",
              "      <th></th>\n",
              "      <th></th>\n",
              "      <th></th>\n",
              "      <th></th>\n",
              "      <th></th>\n",
              "      <th></th>\n",
              "      <th></th>\n",
              "    </tr>\n",
              "  </thead>\n",
              "  <tbody>\n",
              "    <tr>\n",
              "      <th>2023-03-06</th>\n",
              "      <td>873.80</td>\n",
              "      <td>876.50</td>\n",
              "      <td>865.60</td>\n",
              "      <td>867.95</td>\n",
              "      <td>871.256330</td>\n",
              "      <td>165396</td>\n",
              "      <td>7772</td>\n",
              "      <td>144102312.0</td>\n",
              "      <td>76949.0</td>\n",
              "      <td>46.52</td>\n",
              "      <td>10.90</td>\n",
              "      <td>-5.85</td>\n",
              "    </tr>\n",
              "    <tr>\n",
              "      <th>2023-03-03</th>\n",
              "      <td>855.05</td>\n",
              "      <td>873.00</td>\n",
              "      <td>849.85</td>\n",
              "      <td>868.80</td>\n",
              "      <td>865.532334</td>\n",
              "      <td>177353</td>\n",
              "      <td>5219</td>\n",
              "      <td>153504756.0</td>\n",
              "      <td>73785.0</td>\n",
              "      <td>41.60</td>\n",
              "      <td>23.15</td>\n",
              "      <td>13.75</td>\n",
              "    </tr>\n",
              "    <tr>\n",
              "      <th>2023-03-02</th>\n",
              "      <td>854.30</td>\n",
              "      <td>861.85</td>\n",
              "      <td>851.00</td>\n",
              "      <td>853.95</td>\n",
              "      <td>857.834905</td>\n",
              "      <td>89942</td>\n",
              "      <td>3357</td>\n",
              "      <td>77155387.0</td>\n",
              "      <td>38971.0</td>\n",
              "      <td>43.33</td>\n",
              "      <td>10.85</td>\n",
              "      <td>-0.35</td>\n",
              "    </tr>\n",
              "    <tr>\n",
              "      <th>2023-03-01</th>\n",
              "      <td>861.55</td>\n",
              "      <td>861.90</td>\n",
              "      <td>852.00</td>\n",
              "      <td>856.05</td>\n",
              "      <td>857.317703</td>\n",
              "      <td>95709</td>\n",
              "      <td>3624</td>\n",
              "      <td>82053020.0</td>\n",
              "      <td>31041.0</td>\n",
              "      <td>32.43</td>\n",
              "      <td>9.90</td>\n",
              "      <td>-5.50</td>\n",
              "    </tr>\n",
              "    <tr>\n",
              "      <th>2023-02-28</th>\n",
              "      <td>856.30</td>\n",
              "      <td>857.85</td>\n",
              "      <td>850.05</td>\n",
              "      <td>854.65</td>\n",
              "      <td>853.431155</td>\n",
              "      <td>159604</td>\n",
              "      <td>7878</td>\n",
              "      <td>136211026.0</td>\n",
              "      <td>66312.0</td>\n",
              "      <td>41.55</td>\n",
              "      <td>7.80</td>\n",
              "      <td>-1.65</td>\n",
              "    </tr>\n",
              "  </tbody>\n",
              "</table>\n",
              "</div>\n",
              "      <button class=\"colab-df-convert\" onclick=\"convertToInteractive('df-04cb9e8c-1b11-4f7b-a3fe-af0fb0b90b2a')\"\n",
              "              title=\"Convert this dataframe to an interactive table.\"\n",
              "              style=\"display:none;\">\n",
              "        \n",
              "  <svg xmlns=\"http://www.w3.org/2000/svg\" height=\"24px\"viewBox=\"0 0 24 24\"\n",
              "       width=\"24px\">\n",
              "    <path d=\"M0 0h24v24H0V0z\" fill=\"none\"/>\n",
              "    <path d=\"M18.56 5.44l.94 2.06.94-2.06 2.06-.94-2.06-.94-.94-2.06-.94 2.06-2.06.94zm-11 1L8.5 8.5l.94-2.06 2.06-.94-2.06-.94L8.5 2.5l-.94 2.06-2.06.94zm10 10l.94 2.06.94-2.06 2.06-.94-2.06-.94-.94-2.06-.94 2.06-2.06.94z\"/><path d=\"M17.41 7.96l-1.37-1.37c-.4-.4-.92-.59-1.43-.59-.52 0-1.04.2-1.43.59L10.3 9.45l-7.72 7.72c-.78.78-.78 2.05 0 2.83L4 21.41c.39.39.9.59 1.41.59.51 0 1.02-.2 1.41-.59l7.78-7.78 2.81-2.81c.8-.78.8-2.07 0-2.86zM5.41 20L4 18.59l7.72-7.72 1.47 1.35L5.41 20z\"/>\n",
              "  </svg>\n",
              "      </button>\n",
              "      \n",
              "  <style>\n",
              "    .colab-df-container {\n",
              "      display:flex;\n",
              "      flex-wrap:wrap;\n",
              "      gap: 12px;\n",
              "    }\n",
              "\n",
              "    .colab-df-convert {\n",
              "      background-color: #E8F0FE;\n",
              "      border: none;\n",
              "      border-radius: 50%;\n",
              "      cursor: pointer;\n",
              "      display: none;\n",
              "      fill: #1967D2;\n",
              "      height: 32px;\n",
              "      padding: 0 0 0 0;\n",
              "      width: 32px;\n",
              "    }\n",
              "\n",
              "    .colab-df-convert:hover {\n",
              "      background-color: #E2EBFA;\n",
              "      box-shadow: 0px 1px 2px rgba(60, 64, 67, 0.3), 0px 1px 3px 1px rgba(60, 64, 67, 0.15);\n",
              "      fill: #174EA6;\n",
              "    }\n",
              "\n",
              "    [theme=dark] .colab-df-convert {\n",
              "      background-color: #3B4455;\n",
              "      fill: #D2E3FC;\n",
              "    }\n",
              "\n",
              "    [theme=dark] .colab-df-convert:hover {\n",
              "      background-color: #434B5C;\n",
              "      box-shadow: 0px 1px 3px 1px rgba(0, 0, 0, 0.15);\n",
              "      filter: drop-shadow(0px 1px 2px rgba(0, 0, 0, 0.3));\n",
              "      fill: #FFFFFF;\n",
              "    }\n",
              "  </style>\n",
              "\n",
              "      <script>\n",
              "        const buttonEl =\n",
              "          document.querySelector('#df-04cb9e8c-1b11-4f7b-a3fe-af0fb0b90b2a button.colab-df-convert');\n",
              "        buttonEl.style.display =\n",
              "          google.colab.kernel.accessAllowed ? 'block' : 'none';\n",
              "\n",
              "        async function convertToInteractive(key) {\n",
              "          const element = document.querySelector('#df-04cb9e8c-1b11-4f7b-a3fe-af0fb0b90b2a');\n",
              "          const dataTable =\n",
              "            await google.colab.kernel.invokeFunction('convertToInteractive',\n",
              "                                                     [key], {});\n",
              "          if (!dataTable) return;\n",
              "\n",
              "          const docLinkHtml = 'Like what you see? Visit the ' +\n",
              "            '<a target=\"_blank\" href=https://colab.research.google.com/notebooks/data_table.ipynb>data table notebook</a>'\n",
              "            + ' to learn more about interactive tables.';\n",
              "          element.innerHTML = '';\n",
              "          dataTable['output_type'] = 'display_data';\n",
              "          await google.colab.output.renderOutput(dataTable, element);\n",
              "          const docLink = document.createElement('div');\n",
              "          docLink.innerHTML = docLinkHtml;\n",
              "          element.appendChild(docLink);\n",
              "        }\n",
              "      </script>\n",
              "    </div>\n",
              "  </div>\n",
              "  "
            ]
          },
          "metadata": {},
          "execution_count": 12
        }
      ],
      "source": [
        "icici_df.head(5)"
      ]
    },
    {
      "cell_type": "markdown",
      "metadata": {
        "id": "s_UhFfxepICu"
      },
      "source": [
        "#### Sort the data based on ascending order of timestamp"
      ]
    },
    {
      "cell_type": "code",
      "execution_count": null,
      "metadata": {
        "id": "fDBt-zFwpICu"
      },
      "outputs": [],
      "source": [
        "icici_df.sort_index(ascending = True, inplace=True)"
      ]
    },
    {
      "cell_type": "markdown",
      "metadata": {
        "id": "KZqJlBRGpICv"
      },
      "source": [
        "### Slicing and indexing\n",
        "\n",
        "- How to slice, dice, and get subsets of pandas rows and columns."
      ]
    },
    {
      "cell_type": "code",
      "execution_count": null,
      "metadata": {
        "colab": {
          "base_uri": "https://localhost:8080/",
          "height": 386
        },
        "id": "qw1rkqfppICv",
        "outputId": "c8d10b6b-ada2-46c1-a7ef-44f9938d1c7e"
      },
      "outputs": [
        {
          "output_type": "execute_result",
          "data": {
            "text/plain": [
              "            Open Price  High Price  Low Price  Close Price         WAP  \\\n",
              "Date                                                                     \n",
              "2022-10-03       860.0      860.50     846.05       848.05  851.947326   \n",
              "2022-10-04       862.0      872.35     862.00       867.65  868.406652   \n",
              "2022-10-06       870.0      891.50     870.00       885.35  883.572212   \n",
              "2022-10-07       876.4      884.40     873.15       882.00  877.454049   \n",
              "2022-10-10       869.1      889.65     869.10       881.50  882.149263   \n",
              "\n",
              "            No.of Shares  No. of Trades  Total Turnover (Rs.)  \\\n",
              "Date                                                            \n",
              "2022-10-03        221153          10664           188410707.0   \n",
              "2022-10-04        479617           6845           416502593.0   \n",
              "2022-10-06        347955          11178           307443369.0   \n",
              "2022-10-07        117485           3509           103087689.0   \n",
              "2022-10-10        652092          12228           575242477.0   \n",
              "\n",
              "            Deliverable Quantity  % Deli. Qty to Traded Qty  Spread High-Low  \\\n",
              "Date                                                                           \n",
              "2022-10-03               96202.0                      43.50            14.45   \n",
              "2022-10-04              392664.0                      81.87            10.35   \n",
              "2022-10-06              237511.0                      68.26            21.50   \n",
              "2022-10-07               64226.0                      54.67            11.25   \n",
              "2022-10-10              548131.0                      84.06            20.55   \n",
              "\n",
              "            Spread Close-Open  \n",
              "Date                           \n",
              "2022-10-03             -11.95  \n",
              "2022-10-04               5.65  \n",
              "2022-10-06              15.35  \n",
              "2022-10-07               5.60  \n",
              "2022-10-10              12.40  "
            ],
            "text/html": [
              "\n",
              "  <div id=\"df-66b0e6b4-018a-43d7-ac26-f8abb79130d9\">\n",
              "    <div class=\"colab-df-container\">\n",
              "      <div>\n",
              "<style scoped>\n",
              "    .dataframe tbody tr th:only-of-type {\n",
              "        vertical-align: middle;\n",
              "    }\n",
              "\n",
              "    .dataframe tbody tr th {\n",
              "        vertical-align: top;\n",
              "    }\n",
              "\n",
              "    .dataframe thead th {\n",
              "        text-align: right;\n",
              "    }\n",
              "</style>\n",
              "<table border=\"1\" class=\"dataframe\">\n",
              "  <thead>\n",
              "    <tr style=\"text-align: right;\">\n",
              "      <th></th>\n",
              "      <th>Open Price</th>\n",
              "      <th>High Price</th>\n",
              "      <th>Low Price</th>\n",
              "      <th>Close Price</th>\n",
              "      <th>WAP</th>\n",
              "      <th>No.of Shares</th>\n",
              "      <th>No. of Trades</th>\n",
              "      <th>Total Turnover (Rs.)</th>\n",
              "      <th>Deliverable Quantity</th>\n",
              "      <th>% Deli. Qty to Traded Qty</th>\n",
              "      <th>Spread High-Low</th>\n",
              "      <th>Spread Close-Open</th>\n",
              "    </tr>\n",
              "    <tr>\n",
              "      <th>Date</th>\n",
              "      <th></th>\n",
              "      <th></th>\n",
              "      <th></th>\n",
              "      <th></th>\n",
              "      <th></th>\n",
              "      <th></th>\n",
              "      <th></th>\n",
              "      <th></th>\n",
              "      <th></th>\n",
              "      <th></th>\n",
              "      <th></th>\n",
              "      <th></th>\n",
              "    </tr>\n",
              "  </thead>\n",
              "  <tbody>\n",
              "    <tr>\n",
              "      <th>2022-10-03</th>\n",
              "      <td>860.0</td>\n",
              "      <td>860.50</td>\n",
              "      <td>846.05</td>\n",
              "      <td>848.05</td>\n",
              "      <td>851.947326</td>\n",
              "      <td>221153</td>\n",
              "      <td>10664</td>\n",
              "      <td>188410707.0</td>\n",
              "      <td>96202.0</td>\n",
              "      <td>43.50</td>\n",
              "      <td>14.45</td>\n",
              "      <td>-11.95</td>\n",
              "    </tr>\n",
              "    <tr>\n",
              "      <th>2022-10-04</th>\n",
              "      <td>862.0</td>\n",
              "      <td>872.35</td>\n",
              "      <td>862.00</td>\n",
              "      <td>867.65</td>\n",
              "      <td>868.406652</td>\n",
              "      <td>479617</td>\n",
              "      <td>6845</td>\n",
              "      <td>416502593.0</td>\n",
              "      <td>392664.0</td>\n",
              "      <td>81.87</td>\n",
              "      <td>10.35</td>\n",
              "      <td>5.65</td>\n",
              "    </tr>\n",
              "    <tr>\n",
              "      <th>2022-10-06</th>\n",
              "      <td>870.0</td>\n",
              "      <td>891.50</td>\n",
              "      <td>870.00</td>\n",
              "      <td>885.35</td>\n",
              "      <td>883.572212</td>\n",
              "      <td>347955</td>\n",
              "      <td>11178</td>\n",
              "      <td>307443369.0</td>\n",
              "      <td>237511.0</td>\n",
              "      <td>68.26</td>\n",
              "      <td>21.50</td>\n",
              "      <td>15.35</td>\n",
              "    </tr>\n",
              "    <tr>\n",
              "      <th>2022-10-07</th>\n",
              "      <td>876.4</td>\n",
              "      <td>884.40</td>\n",
              "      <td>873.15</td>\n",
              "      <td>882.00</td>\n",
              "      <td>877.454049</td>\n",
              "      <td>117485</td>\n",
              "      <td>3509</td>\n",
              "      <td>103087689.0</td>\n",
              "      <td>64226.0</td>\n",
              "      <td>54.67</td>\n",
              "      <td>11.25</td>\n",
              "      <td>5.60</td>\n",
              "    </tr>\n",
              "    <tr>\n",
              "      <th>2022-10-10</th>\n",
              "      <td>869.1</td>\n",
              "      <td>889.65</td>\n",
              "      <td>869.10</td>\n",
              "      <td>881.50</td>\n",
              "      <td>882.149263</td>\n",
              "      <td>652092</td>\n",
              "      <td>12228</td>\n",
              "      <td>575242477.0</td>\n",
              "      <td>548131.0</td>\n",
              "      <td>84.06</td>\n",
              "      <td>20.55</td>\n",
              "      <td>12.40</td>\n",
              "    </tr>\n",
              "  </tbody>\n",
              "</table>\n",
              "</div>\n",
              "      <button class=\"colab-df-convert\" onclick=\"convertToInteractive('df-66b0e6b4-018a-43d7-ac26-f8abb79130d9')\"\n",
              "              title=\"Convert this dataframe to an interactive table.\"\n",
              "              style=\"display:none;\">\n",
              "        \n",
              "  <svg xmlns=\"http://www.w3.org/2000/svg\" height=\"24px\"viewBox=\"0 0 24 24\"\n",
              "       width=\"24px\">\n",
              "    <path d=\"M0 0h24v24H0V0z\" fill=\"none\"/>\n",
              "    <path d=\"M18.56 5.44l.94 2.06.94-2.06 2.06-.94-2.06-.94-.94-2.06-.94 2.06-2.06.94zm-11 1L8.5 8.5l.94-2.06 2.06-.94-2.06-.94L8.5 2.5l-.94 2.06-2.06.94zm10 10l.94 2.06.94-2.06 2.06-.94-2.06-.94-.94-2.06-.94 2.06-2.06.94z\"/><path d=\"M17.41 7.96l-1.37-1.37c-.4-.4-.92-.59-1.43-.59-.52 0-1.04.2-1.43.59L10.3 9.45l-7.72 7.72c-.78.78-.78 2.05 0 2.83L4 21.41c.39.39.9.59 1.41.59.51 0 1.02-.2 1.41-.59l7.78-7.78 2.81-2.81c.8-.78.8-2.07 0-2.86zM5.41 20L4 18.59l7.72-7.72 1.47 1.35L5.41 20z\"/>\n",
              "  </svg>\n",
              "      </button>\n",
              "      \n",
              "  <style>\n",
              "    .colab-df-container {\n",
              "      display:flex;\n",
              "      flex-wrap:wrap;\n",
              "      gap: 12px;\n",
              "    }\n",
              "\n",
              "    .colab-df-convert {\n",
              "      background-color: #E8F0FE;\n",
              "      border: none;\n",
              "      border-radius: 50%;\n",
              "      cursor: pointer;\n",
              "      display: none;\n",
              "      fill: #1967D2;\n",
              "      height: 32px;\n",
              "      padding: 0 0 0 0;\n",
              "      width: 32px;\n",
              "    }\n",
              "\n",
              "    .colab-df-convert:hover {\n",
              "      background-color: #E2EBFA;\n",
              "      box-shadow: 0px 1px 2px rgba(60, 64, 67, 0.3), 0px 1px 3px 1px rgba(60, 64, 67, 0.15);\n",
              "      fill: #174EA6;\n",
              "    }\n",
              "\n",
              "    [theme=dark] .colab-df-convert {\n",
              "      background-color: #3B4455;\n",
              "      fill: #D2E3FC;\n",
              "    }\n",
              "\n",
              "    [theme=dark] .colab-df-convert:hover {\n",
              "      background-color: #434B5C;\n",
              "      box-shadow: 0px 1px 3px 1px rgba(0, 0, 0, 0.15);\n",
              "      filter: drop-shadow(0px 1px 2px rgba(0, 0, 0, 0.3));\n",
              "      fill: #FFFFFF;\n",
              "    }\n",
              "  </style>\n",
              "\n",
              "      <script>\n",
              "        const buttonEl =\n",
              "          document.querySelector('#df-66b0e6b4-018a-43d7-ac26-f8abb79130d9 button.colab-df-convert');\n",
              "        buttonEl.style.display =\n",
              "          google.colab.kernel.accessAllowed ? 'block' : 'none';\n",
              "\n",
              "        async function convertToInteractive(key) {\n",
              "          const element = document.querySelector('#df-66b0e6b4-018a-43d7-ac26-f8abb79130d9');\n",
              "          const dataTable =\n",
              "            await google.colab.kernel.invokeFunction('convertToInteractive',\n",
              "                                                     [key], {});\n",
              "          if (!dataTable) return;\n",
              "\n",
              "          const docLinkHtml = 'Like what you see? Visit the ' +\n",
              "            '<a target=\"_blank\" href=https://colab.research.google.com/notebooks/data_table.ipynb>data table notebook</a>'\n",
              "            + ' to learn more about interactive tables.';\n",
              "          element.innerHTML = '';\n",
              "          dataTable['output_type'] = 'display_data';\n",
              "          await google.colab.output.renderOutput(dataTable, element);\n",
              "          const docLink = document.createElement('div');\n",
              "          docLink.innerHTML = docLinkHtml;\n",
              "          element.appendChild(docLink);\n",
              "        }\n",
              "      </script>\n",
              "    </div>\n",
              "  </div>\n",
              "  "
            ]
          },
          "metadata": {},
          "execution_count": 14
        }
      ],
      "source": [
        "icici_df[0:5]"
      ]
    },
    {
      "cell_type": "code",
      "execution_count": null,
      "metadata": {
        "colab": {
          "base_uri": "https://localhost:8080/",
          "height": 386
        },
        "id": "lvAtlGxDpICv",
        "outputId": "62f36789-6d01-4619-bc48-79571ac69b02"
      },
      "outputs": [
        {
          "output_type": "execute_result",
          "data": {
            "text/plain": [
              "            Open Price  High Price  Low Price  Close Price         WAP  \\\n",
              "Date                                                                     \n",
              "2023-02-28      856.30      857.85     850.05       854.65  853.431155   \n",
              "2023-03-01      861.55      861.90     852.00       856.05  857.317703   \n",
              "2023-03-02      854.30      861.85     851.00       853.95  857.834905   \n",
              "2023-03-03      855.05      873.00     849.85       868.80  865.532334   \n",
              "2023-03-06      873.80      876.50     865.60       867.95  871.256330   \n",
              "\n",
              "            No.of Shares  No. of Trades  Total Turnover (Rs.)  \\\n",
              "Date                                                            \n",
              "2023-02-28        159604           7878           136211026.0   \n",
              "2023-03-01         95709           3624            82053020.0   \n",
              "2023-03-02         89942           3357            77155387.0   \n",
              "2023-03-03        177353           5219           153504756.0   \n",
              "2023-03-06        165396           7772           144102312.0   \n",
              "\n",
              "            Deliverable Quantity  % Deli. Qty to Traded Qty  Spread High-Low  \\\n",
              "Date                                                                           \n",
              "2023-02-28               66312.0                      41.55             7.80   \n",
              "2023-03-01               31041.0                      32.43             9.90   \n",
              "2023-03-02               38971.0                      43.33            10.85   \n",
              "2023-03-03               73785.0                      41.60            23.15   \n",
              "2023-03-06               76949.0                      46.52            10.90   \n",
              "\n",
              "            Spread Close-Open  \n",
              "Date                           \n",
              "2023-02-28              -1.65  \n",
              "2023-03-01              -5.50  \n",
              "2023-03-02              -0.35  \n",
              "2023-03-03              13.75  \n",
              "2023-03-06              -5.85  "
            ],
            "text/html": [
              "\n",
              "  <div id=\"df-e28c13d0-5180-4c88-a6a3-795e26b93d62\">\n",
              "    <div class=\"colab-df-container\">\n",
              "      <div>\n",
              "<style scoped>\n",
              "    .dataframe tbody tr th:only-of-type {\n",
              "        vertical-align: middle;\n",
              "    }\n",
              "\n",
              "    .dataframe tbody tr th {\n",
              "        vertical-align: top;\n",
              "    }\n",
              "\n",
              "    .dataframe thead th {\n",
              "        text-align: right;\n",
              "    }\n",
              "</style>\n",
              "<table border=\"1\" class=\"dataframe\">\n",
              "  <thead>\n",
              "    <tr style=\"text-align: right;\">\n",
              "      <th></th>\n",
              "      <th>Open Price</th>\n",
              "      <th>High Price</th>\n",
              "      <th>Low Price</th>\n",
              "      <th>Close Price</th>\n",
              "      <th>WAP</th>\n",
              "      <th>No.of Shares</th>\n",
              "      <th>No. of Trades</th>\n",
              "      <th>Total Turnover (Rs.)</th>\n",
              "      <th>Deliverable Quantity</th>\n",
              "      <th>% Deli. Qty to Traded Qty</th>\n",
              "      <th>Spread High-Low</th>\n",
              "      <th>Spread Close-Open</th>\n",
              "    </tr>\n",
              "    <tr>\n",
              "      <th>Date</th>\n",
              "      <th></th>\n",
              "      <th></th>\n",
              "      <th></th>\n",
              "      <th></th>\n",
              "      <th></th>\n",
              "      <th></th>\n",
              "      <th></th>\n",
              "      <th></th>\n",
              "      <th></th>\n",
              "      <th></th>\n",
              "      <th></th>\n",
              "      <th></th>\n",
              "    </tr>\n",
              "  </thead>\n",
              "  <tbody>\n",
              "    <tr>\n",
              "      <th>2023-02-28</th>\n",
              "      <td>856.30</td>\n",
              "      <td>857.85</td>\n",
              "      <td>850.05</td>\n",
              "      <td>854.65</td>\n",
              "      <td>853.431155</td>\n",
              "      <td>159604</td>\n",
              "      <td>7878</td>\n",
              "      <td>136211026.0</td>\n",
              "      <td>66312.0</td>\n",
              "      <td>41.55</td>\n",
              "      <td>7.80</td>\n",
              "      <td>-1.65</td>\n",
              "    </tr>\n",
              "    <tr>\n",
              "      <th>2023-03-01</th>\n",
              "      <td>861.55</td>\n",
              "      <td>861.90</td>\n",
              "      <td>852.00</td>\n",
              "      <td>856.05</td>\n",
              "      <td>857.317703</td>\n",
              "      <td>95709</td>\n",
              "      <td>3624</td>\n",
              "      <td>82053020.0</td>\n",
              "      <td>31041.0</td>\n",
              "      <td>32.43</td>\n",
              "      <td>9.90</td>\n",
              "      <td>-5.50</td>\n",
              "    </tr>\n",
              "    <tr>\n",
              "      <th>2023-03-02</th>\n",
              "      <td>854.30</td>\n",
              "      <td>861.85</td>\n",
              "      <td>851.00</td>\n",
              "      <td>853.95</td>\n",
              "      <td>857.834905</td>\n",
              "      <td>89942</td>\n",
              "      <td>3357</td>\n",
              "      <td>77155387.0</td>\n",
              "      <td>38971.0</td>\n",
              "      <td>43.33</td>\n",
              "      <td>10.85</td>\n",
              "      <td>-0.35</td>\n",
              "    </tr>\n",
              "    <tr>\n",
              "      <th>2023-03-03</th>\n",
              "      <td>855.05</td>\n",
              "      <td>873.00</td>\n",
              "      <td>849.85</td>\n",
              "      <td>868.80</td>\n",
              "      <td>865.532334</td>\n",
              "      <td>177353</td>\n",
              "      <td>5219</td>\n",
              "      <td>153504756.0</td>\n",
              "      <td>73785.0</td>\n",
              "      <td>41.60</td>\n",
              "      <td>23.15</td>\n",
              "      <td>13.75</td>\n",
              "    </tr>\n",
              "    <tr>\n",
              "      <th>2023-03-06</th>\n",
              "      <td>873.80</td>\n",
              "      <td>876.50</td>\n",
              "      <td>865.60</td>\n",
              "      <td>867.95</td>\n",
              "      <td>871.256330</td>\n",
              "      <td>165396</td>\n",
              "      <td>7772</td>\n",
              "      <td>144102312.0</td>\n",
              "      <td>76949.0</td>\n",
              "      <td>46.52</td>\n",
              "      <td>10.90</td>\n",
              "      <td>-5.85</td>\n",
              "    </tr>\n",
              "  </tbody>\n",
              "</table>\n",
              "</div>\n",
              "      <button class=\"colab-df-convert\" onclick=\"convertToInteractive('df-e28c13d0-5180-4c88-a6a3-795e26b93d62')\"\n",
              "              title=\"Convert this dataframe to an interactive table.\"\n",
              "              style=\"display:none;\">\n",
              "        \n",
              "  <svg xmlns=\"http://www.w3.org/2000/svg\" height=\"24px\"viewBox=\"0 0 24 24\"\n",
              "       width=\"24px\">\n",
              "    <path d=\"M0 0h24v24H0V0z\" fill=\"none\"/>\n",
              "    <path d=\"M18.56 5.44l.94 2.06.94-2.06 2.06-.94-2.06-.94-.94-2.06-.94 2.06-2.06.94zm-11 1L8.5 8.5l.94-2.06 2.06-.94-2.06-.94L8.5 2.5l-.94 2.06-2.06.94zm10 10l.94 2.06.94-2.06 2.06-.94-2.06-.94-.94-2.06-.94 2.06-2.06.94z\"/><path d=\"M17.41 7.96l-1.37-1.37c-.4-.4-.92-.59-1.43-.59-.52 0-1.04.2-1.43.59L10.3 9.45l-7.72 7.72c-.78.78-.78 2.05 0 2.83L4 21.41c.39.39.9.59 1.41.59.51 0 1.02-.2 1.41-.59l7.78-7.78 2.81-2.81c.8-.78.8-2.07 0-2.86zM5.41 20L4 18.59l7.72-7.72 1.47 1.35L5.41 20z\"/>\n",
              "  </svg>\n",
              "      </button>\n",
              "      \n",
              "  <style>\n",
              "    .colab-df-container {\n",
              "      display:flex;\n",
              "      flex-wrap:wrap;\n",
              "      gap: 12px;\n",
              "    }\n",
              "\n",
              "    .colab-df-convert {\n",
              "      background-color: #E8F0FE;\n",
              "      border: none;\n",
              "      border-radius: 50%;\n",
              "      cursor: pointer;\n",
              "      display: none;\n",
              "      fill: #1967D2;\n",
              "      height: 32px;\n",
              "      padding: 0 0 0 0;\n",
              "      width: 32px;\n",
              "    }\n",
              "\n",
              "    .colab-df-convert:hover {\n",
              "      background-color: #E2EBFA;\n",
              "      box-shadow: 0px 1px 2px rgba(60, 64, 67, 0.3), 0px 1px 3px 1px rgba(60, 64, 67, 0.15);\n",
              "      fill: #174EA6;\n",
              "    }\n",
              "\n",
              "    [theme=dark] .colab-df-convert {\n",
              "      background-color: #3B4455;\n",
              "      fill: #D2E3FC;\n",
              "    }\n",
              "\n",
              "    [theme=dark] .colab-df-convert:hover {\n",
              "      background-color: #434B5C;\n",
              "      box-shadow: 0px 1px 3px 1px rgba(0, 0, 0, 0.15);\n",
              "      filter: drop-shadow(0px 1px 2px rgba(0, 0, 0, 0.3));\n",
              "      fill: #FFFFFF;\n",
              "    }\n",
              "  </style>\n",
              "\n",
              "      <script>\n",
              "        const buttonEl =\n",
              "          document.querySelector('#df-e28c13d0-5180-4c88-a6a3-795e26b93d62 button.colab-df-convert');\n",
              "        buttonEl.style.display =\n",
              "          google.colab.kernel.accessAllowed ? 'block' : 'none';\n",
              "\n",
              "        async function convertToInteractive(key) {\n",
              "          const element = document.querySelector('#df-e28c13d0-5180-4c88-a6a3-795e26b93d62');\n",
              "          const dataTable =\n",
              "            await google.colab.kernel.invokeFunction('convertToInteractive',\n",
              "                                                     [key], {});\n",
              "          if (!dataTable) return;\n",
              "\n",
              "          const docLinkHtml = 'Like what you see? Visit the ' +\n",
              "            '<a target=\"_blank\" href=https://colab.research.google.com/notebooks/data_table.ipynb>data table notebook</a>'\n",
              "            + ' to learn more about interactive tables.';\n",
              "          element.innerHTML = '';\n",
              "          dataTable['output_type'] = 'display_data';\n",
              "          await google.colab.output.renderOutput(dataTable, element);\n",
              "          const docLink = document.createElement('div');\n",
              "          docLink.innerHTML = docLinkHtml;\n",
              "          element.appendChild(docLink);\n",
              "        }\n",
              "      </script>\n",
              "    </div>\n",
              "  </div>\n",
              "  "
            ]
          },
          "metadata": {},
          "execution_count": 15
        }
      ],
      "source": [
        "icici_df[-5:]"
      ]
    },
    {
      "cell_type": "markdown",
      "metadata": {
        "id": "uUBa8DT_pICv"
      },
      "source": [
        "### Select columns"
      ]
    },
    {
      "cell_type": "code",
      "execution_count": null,
      "metadata": {
        "id": "uglslTnRpICv"
      },
      "outputs": [],
      "source": [
        "icici_df = icici_df[['Close Price', 'Open Price']]"
      ]
    },
    {
      "cell_type": "code",
      "execution_count": null,
      "metadata": {
        "colab": {
          "base_uri": "https://localhost:8080/",
          "height": 238
        },
        "id": "zO-n7m8mpICv",
        "outputId": "dcf9194f-e5cc-43ad-81b0-b439f4afaacc"
      },
      "outputs": [
        {
          "output_type": "execute_result",
          "data": {
            "text/plain": [
              "            Close Price  Open Price\n",
              "Date                               \n",
              "2022-10-03       848.05       860.0\n",
              "2022-10-04       867.65       862.0\n",
              "2022-10-06       885.35       870.0\n",
              "2022-10-07       882.00       876.4\n",
              "2022-10-10       881.50       869.1"
            ],
            "text/html": [
              "\n",
              "  <div id=\"df-f49551c4-ba42-43e1-8cd3-312cc7980784\">\n",
              "    <div class=\"colab-df-container\">\n",
              "      <div>\n",
              "<style scoped>\n",
              "    .dataframe tbody tr th:only-of-type {\n",
              "        vertical-align: middle;\n",
              "    }\n",
              "\n",
              "    .dataframe tbody tr th {\n",
              "        vertical-align: top;\n",
              "    }\n",
              "\n",
              "    .dataframe thead th {\n",
              "        text-align: right;\n",
              "    }\n",
              "</style>\n",
              "<table border=\"1\" class=\"dataframe\">\n",
              "  <thead>\n",
              "    <tr style=\"text-align: right;\">\n",
              "      <th></th>\n",
              "      <th>Close Price</th>\n",
              "      <th>Open Price</th>\n",
              "    </tr>\n",
              "    <tr>\n",
              "      <th>Date</th>\n",
              "      <th></th>\n",
              "      <th></th>\n",
              "    </tr>\n",
              "  </thead>\n",
              "  <tbody>\n",
              "    <tr>\n",
              "      <th>2022-10-03</th>\n",
              "      <td>848.05</td>\n",
              "      <td>860.0</td>\n",
              "    </tr>\n",
              "    <tr>\n",
              "      <th>2022-10-04</th>\n",
              "      <td>867.65</td>\n",
              "      <td>862.0</td>\n",
              "    </tr>\n",
              "    <tr>\n",
              "      <th>2022-10-06</th>\n",
              "      <td>885.35</td>\n",
              "      <td>870.0</td>\n",
              "    </tr>\n",
              "    <tr>\n",
              "      <th>2022-10-07</th>\n",
              "      <td>882.00</td>\n",
              "      <td>876.4</td>\n",
              "    </tr>\n",
              "    <tr>\n",
              "      <th>2022-10-10</th>\n",
              "      <td>881.50</td>\n",
              "      <td>869.1</td>\n",
              "    </tr>\n",
              "  </tbody>\n",
              "</table>\n",
              "</div>\n",
              "      <button class=\"colab-df-convert\" onclick=\"convertToInteractive('df-f49551c4-ba42-43e1-8cd3-312cc7980784')\"\n",
              "              title=\"Convert this dataframe to an interactive table.\"\n",
              "              style=\"display:none;\">\n",
              "        \n",
              "  <svg xmlns=\"http://www.w3.org/2000/svg\" height=\"24px\"viewBox=\"0 0 24 24\"\n",
              "       width=\"24px\">\n",
              "    <path d=\"M0 0h24v24H0V0z\" fill=\"none\"/>\n",
              "    <path d=\"M18.56 5.44l.94 2.06.94-2.06 2.06-.94-2.06-.94-.94-2.06-.94 2.06-2.06.94zm-11 1L8.5 8.5l.94-2.06 2.06-.94-2.06-.94L8.5 2.5l-.94 2.06-2.06.94zm10 10l.94 2.06.94-2.06 2.06-.94-2.06-.94-.94-2.06-.94 2.06-2.06.94z\"/><path d=\"M17.41 7.96l-1.37-1.37c-.4-.4-.92-.59-1.43-.59-.52 0-1.04.2-1.43.59L10.3 9.45l-7.72 7.72c-.78.78-.78 2.05 0 2.83L4 21.41c.39.39.9.59 1.41.59.51 0 1.02-.2 1.41-.59l7.78-7.78 2.81-2.81c.8-.78.8-2.07 0-2.86zM5.41 20L4 18.59l7.72-7.72 1.47 1.35L5.41 20z\"/>\n",
              "  </svg>\n",
              "      </button>\n",
              "      \n",
              "  <style>\n",
              "    .colab-df-container {\n",
              "      display:flex;\n",
              "      flex-wrap:wrap;\n",
              "      gap: 12px;\n",
              "    }\n",
              "\n",
              "    .colab-df-convert {\n",
              "      background-color: #E8F0FE;\n",
              "      border: none;\n",
              "      border-radius: 50%;\n",
              "      cursor: pointer;\n",
              "      display: none;\n",
              "      fill: #1967D2;\n",
              "      height: 32px;\n",
              "      padding: 0 0 0 0;\n",
              "      width: 32px;\n",
              "    }\n",
              "\n",
              "    .colab-df-convert:hover {\n",
              "      background-color: #E2EBFA;\n",
              "      box-shadow: 0px 1px 2px rgba(60, 64, 67, 0.3), 0px 1px 3px 1px rgba(60, 64, 67, 0.15);\n",
              "      fill: #174EA6;\n",
              "    }\n",
              "\n",
              "    [theme=dark] .colab-df-convert {\n",
              "      background-color: #3B4455;\n",
              "      fill: #D2E3FC;\n",
              "    }\n",
              "\n",
              "    [theme=dark] .colab-df-convert:hover {\n",
              "      background-color: #434B5C;\n",
              "      box-shadow: 0px 1px 3px 1px rgba(0, 0, 0, 0.15);\n",
              "      filter: drop-shadow(0px 1px 2px rgba(0, 0, 0, 0.3));\n",
              "      fill: #FFFFFF;\n",
              "    }\n",
              "  </style>\n",
              "\n",
              "      <script>\n",
              "        const buttonEl =\n",
              "          document.querySelector('#df-f49551c4-ba42-43e1-8cd3-312cc7980784 button.colab-df-convert');\n",
              "        buttonEl.style.display =\n",
              "          google.colab.kernel.accessAllowed ? 'block' : 'none';\n",
              "\n",
              "        async function convertToInteractive(key) {\n",
              "          const element = document.querySelector('#df-f49551c4-ba42-43e1-8cd3-312cc7980784');\n",
              "          const dataTable =\n",
              "            await google.colab.kernel.invokeFunction('convertToInteractive',\n",
              "                                                     [key], {});\n",
              "          if (!dataTable) return;\n",
              "\n",
              "          const docLinkHtml = 'Like what you see? Visit the ' +\n",
              "            '<a target=\"_blank\" href=https://colab.research.google.com/notebooks/data_table.ipynb>data table notebook</a>'\n",
              "            + ' to learn more about interactive tables.';\n",
              "          element.innerHTML = '';\n",
              "          dataTable['output_type'] = 'display_data';\n",
              "          await google.colab.output.renderOutput(dataTable, element);\n",
              "          const docLink = document.createElement('div');\n",
              "          docLink.innerHTML = docLinkHtml;\n",
              "          element.appendChild(docLink);\n",
              "        }\n",
              "      </script>\n",
              "    </div>\n",
              "  </div>\n",
              "  "
            ]
          },
          "metadata": {},
          "execution_count": 17
        }
      ],
      "source": [
        "icici_df[0:5]"
      ]
    },
    {
      "cell_type": "markdown",
      "metadata": {
        "id": "FsjoeRHwpICv"
      },
      "source": [
        "### Load Yes Bank Data"
      ]
    },
    {
      "cell_type": "code",
      "execution_count": null,
      "metadata": {
        "colab": {
          "base_uri": "https://localhost:8080/",
          "height": 238
        },
        "id": "CKfLrHBKpICv",
        "outputId": "9d372f47-5681-4294-94cf-9547723c404e"
      },
      "outputs": [
        {
          "output_type": "execute_result",
          "data": {
            "text/plain": [
              "            Close Price  Open Price\n",
              "Date                               \n",
              "2022-10-03        15.40       15.65\n",
              "2022-10-04        16.20       15.60\n",
              "2022-10-06        16.50       16.30\n",
              "2022-10-07        16.50       16.65\n",
              "2022-10-10        16.45       16.35"
            ],
            "text/html": [
              "\n",
              "  <div id=\"df-8e29310f-e842-4068-bbc9-d4f9032f16c6\">\n",
              "    <div class=\"colab-df-container\">\n",
              "      <div>\n",
              "<style scoped>\n",
              "    .dataframe tbody tr th:only-of-type {\n",
              "        vertical-align: middle;\n",
              "    }\n",
              "\n",
              "    .dataframe tbody tr th {\n",
              "        vertical-align: top;\n",
              "    }\n",
              "\n",
              "    .dataframe thead th {\n",
              "        text-align: right;\n",
              "    }\n",
              "</style>\n",
              "<table border=\"1\" class=\"dataframe\">\n",
              "  <thead>\n",
              "    <tr style=\"text-align: right;\">\n",
              "      <th></th>\n",
              "      <th>Close Price</th>\n",
              "      <th>Open Price</th>\n",
              "    </tr>\n",
              "    <tr>\n",
              "      <th>Date</th>\n",
              "      <th></th>\n",
              "      <th></th>\n",
              "    </tr>\n",
              "  </thead>\n",
              "  <tbody>\n",
              "    <tr>\n",
              "      <th>2022-10-03</th>\n",
              "      <td>15.40</td>\n",
              "      <td>15.65</td>\n",
              "    </tr>\n",
              "    <tr>\n",
              "      <th>2022-10-04</th>\n",
              "      <td>16.20</td>\n",
              "      <td>15.60</td>\n",
              "    </tr>\n",
              "    <tr>\n",
              "      <th>2022-10-06</th>\n",
              "      <td>16.50</td>\n",
              "      <td>16.30</td>\n",
              "    </tr>\n",
              "    <tr>\n",
              "      <th>2022-10-07</th>\n",
              "      <td>16.50</td>\n",
              "      <td>16.65</td>\n",
              "    </tr>\n",
              "    <tr>\n",
              "      <th>2022-10-10</th>\n",
              "      <td>16.45</td>\n",
              "      <td>16.35</td>\n",
              "    </tr>\n",
              "  </tbody>\n",
              "</table>\n",
              "</div>\n",
              "      <button class=\"colab-df-convert\" onclick=\"convertToInteractive('df-8e29310f-e842-4068-bbc9-d4f9032f16c6')\"\n",
              "              title=\"Convert this dataframe to an interactive table.\"\n",
              "              style=\"display:none;\">\n",
              "        \n",
              "  <svg xmlns=\"http://www.w3.org/2000/svg\" height=\"24px\"viewBox=\"0 0 24 24\"\n",
              "       width=\"24px\">\n",
              "    <path d=\"M0 0h24v24H0V0z\" fill=\"none\"/>\n",
              "    <path d=\"M18.56 5.44l.94 2.06.94-2.06 2.06-.94-2.06-.94-.94-2.06-.94 2.06-2.06.94zm-11 1L8.5 8.5l.94-2.06 2.06-.94-2.06-.94L8.5 2.5l-.94 2.06-2.06.94zm10 10l.94 2.06.94-2.06 2.06-.94-2.06-.94-.94-2.06-.94 2.06-2.06.94z\"/><path d=\"M17.41 7.96l-1.37-1.37c-.4-.4-.92-.59-1.43-.59-.52 0-1.04.2-1.43.59L10.3 9.45l-7.72 7.72c-.78.78-.78 2.05 0 2.83L4 21.41c.39.39.9.59 1.41.59.51 0 1.02-.2 1.41-.59l7.78-7.78 2.81-2.81c.8-.78.8-2.07 0-2.86zM5.41 20L4 18.59l7.72-7.72 1.47 1.35L5.41 20z\"/>\n",
              "  </svg>\n",
              "      </button>\n",
              "      \n",
              "  <style>\n",
              "    .colab-df-container {\n",
              "      display:flex;\n",
              "      flex-wrap:wrap;\n",
              "      gap: 12px;\n",
              "    }\n",
              "\n",
              "    .colab-df-convert {\n",
              "      background-color: #E8F0FE;\n",
              "      border: none;\n",
              "      border-radius: 50%;\n",
              "      cursor: pointer;\n",
              "      display: none;\n",
              "      fill: #1967D2;\n",
              "      height: 32px;\n",
              "      padding: 0 0 0 0;\n",
              "      width: 32px;\n",
              "    }\n",
              "\n",
              "    .colab-df-convert:hover {\n",
              "      background-color: #E2EBFA;\n",
              "      box-shadow: 0px 1px 2px rgba(60, 64, 67, 0.3), 0px 1px 3px 1px rgba(60, 64, 67, 0.15);\n",
              "      fill: #174EA6;\n",
              "    }\n",
              "\n",
              "    [theme=dark] .colab-df-convert {\n",
              "      background-color: #3B4455;\n",
              "      fill: #D2E3FC;\n",
              "    }\n",
              "\n",
              "    [theme=dark] .colab-df-convert:hover {\n",
              "      background-color: #434B5C;\n",
              "      box-shadow: 0px 1px 3px 1px rgba(0, 0, 0, 0.15);\n",
              "      filter: drop-shadow(0px 1px 2px rgba(0, 0, 0, 0.3));\n",
              "      fill: #FFFFFF;\n",
              "    }\n",
              "  </style>\n",
              "\n",
              "      <script>\n",
              "        const buttonEl =\n",
              "          document.querySelector('#df-8e29310f-e842-4068-bbc9-d4f9032f16c6 button.colab-df-convert');\n",
              "        buttonEl.style.display =\n",
              "          google.colab.kernel.accessAllowed ? 'block' : 'none';\n",
              "\n",
              "        async function convertToInteractive(key) {\n",
              "          const element = document.querySelector('#df-8e29310f-e842-4068-bbc9-d4f9032f16c6');\n",
              "          const dataTable =\n",
              "            await google.colab.kernel.invokeFunction('convertToInteractive',\n",
              "                                                     [key], {});\n",
              "          if (!dataTable) return;\n",
              "\n",
              "          const docLinkHtml = 'Like what you see? Visit the ' +\n",
              "            '<a target=\"_blank\" href=https://colab.research.google.com/notebooks/data_table.ipynb>data table notebook</a>'\n",
              "            + ' to learn more about interactive tables.';\n",
              "          element.innerHTML = '';\n",
              "          dataTable['output_type'] = 'display_data';\n",
              "          await google.colab.output.renderOutput(dataTable, element);\n",
              "          const docLink = document.createElement('div');\n",
              "          docLink.innerHTML = docLinkHtml;\n",
              "          element.appendChild(docLink);\n",
              "        }\n",
              "      </script>\n",
              "    </div>\n",
              "  </div>\n",
              "  "
            ]
          },
          "metadata": {},
          "execution_count": 18
        }
      ],
      "source": [
        "# Read the csv file\n",
        "yes_df = pd.read_csv('https://raw.githubusercontent.com/manaranjanp/MLCourseV1/main/Session_1/Yes.csv',\n",
        "                     parse_dates=['Date'] )\n",
        "\n",
        "# Set the time index \n",
        "yes_df = yes_df.set_index(['Date'], drop=True)\n",
        "\n",
        "# Sort the records based on time\n",
        "yes_df.sort_index(ascending = True, inplace=True)\n",
        "\n",
        "# Select only Close and Open Price columns for further analysis\n",
        "yes_df = yes_df[['Close Price', 'Open Price']]\n",
        "\n",
        "# Print Few Records\n",
        "yes_df.head( 5 )"
      ]
    },
    {
      "cell_type": "markdown",
      "metadata": {
        "id": "ORhk5ks6pICw"
      },
      "source": [
        "### Calculate daily gains\n",
        "\n",
        "\n",
        "- Calculate daily gain or loss in terms of percentage \n",
        "\n",
        "$$ gain = {(Close Price - Open Price) * 100 \\over Open Price} $$\n"
      ]
    },
    {
      "cell_type": "code",
      "execution_count": null,
      "metadata": {
        "id": "q6Ws2NrdpICw"
      },
      "outputs": [],
      "source": [
        "icici_df[\"gain\"] = ((icici_df['Close Price'] - icici_df['Open Price']) * 100 /\n",
        "                    icici_df['Open Price'])"
      ]
    },
    {
      "cell_type": "code",
      "execution_count": null,
      "metadata": {
        "colab": {
          "base_uri": "https://localhost:8080/",
          "height": 238
        },
        "id": "4AeE7yV6pICw",
        "outputId": "a0ac458c-8103-42e8-d2d8-2a27c2c5b14b"
      },
      "outputs": [
        {
          "output_type": "execute_result",
          "data": {
            "text/plain": [
              "            Close Price  Open Price      gain\n",
              "Date                                         \n",
              "2022-10-03       848.05       860.0 -1.389535\n",
              "2022-10-04       867.65       862.0  0.655452\n",
              "2022-10-06       885.35       870.0  1.764368\n",
              "2022-10-07       882.00       876.4  0.638978\n",
              "2022-10-10       881.50       869.1  1.426763"
            ],
            "text/html": [
              "\n",
              "  <div id=\"df-e5afa63f-3dc6-4d5a-8bfe-a34b9d45a970\">\n",
              "    <div class=\"colab-df-container\">\n",
              "      <div>\n",
              "<style scoped>\n",
              "    .dataframe tbody tr th:only-of-type {\n",
              "        vertical-align: middle;\n",
              "    }\n",
              "\n",
              "    .dataframe tbody tr th {\n",
              "        vertical-align: top;\n",
              "    }\n",
              "\n",
              "    .dataframe thead th {\n",
              "        text-align: right;\n",
              "    }\n",
              "</style>\n",
              "<table border=\"1\" class=\"dataframe\">\n",
              "  <thead>\n",
              "    <tr style=\"text-align: right;\">\n",
              "      <th></th>\n",
              "      <th>Close Price</th>\n",
              "      <th>Open Price</th>\n",
              "      <th>gain</th>\n",
              "    </tr>\n",
              "    <tr>\n",
              "      <th>Date</th>\n",
              "      <th></th>\n",
              "      <th></th>\n",
              "      <th></th>\n",
              "    </tr>\n",
              "  </thead>\n",
              "  <tbody>\n",
              "    <tr>\n",
              "      <th>2022-10-03</th>\n",
              "      <td>848.05</td>\n",
              "      <td>860.0</td>\n",
              "      <td>-1.389535</td>\n",
              "    </tr>\n",
              "    <tr>\n",
              "      <th>2022-10-04</th>\n",
              "      <td>867.65</td>\n",
              "      <td>862.0</td>\n",
              "      <td>0.655452</td>\n",
              "    </tr>\n",
              "    <tr>\n",
              "      <th>2022-10-06</th>\n",
              "      <td>885.35</td>\n",
              "      <td>870.0</td>\n",
              "      <td>1.764368</td>\n",
              "    </tr>\n",
              "    <tr>\n",
              "      <th>2022-10-07</th>\n",
              "      <td>882.00</td>\n",
              "      <td>876.4</td>\n",
              "      <td>0.638978</td>\n",
              "    </tr>\n",
              "    <tr>\n",
              "      <th>2022-10-10</th>\n",
              "      <td>881.50</td>\n",
              "      <td>869.1</td>\n",
              "      <td>1.426763</td>\n",
              "    </tr>\n",
              "  </tbody>\n",
              "</table>\n",
              "</div>\n",
              "      <button class=\"colab-df-convert\" onclick=\"convertToInteractive('df-e5afa63f-3dc6-4d5a-8bfe-a34b9d45a970')\"\n",
              "              title=\"Convert this dataframe to an interactive table.\"\n",
              "              style=\"display:none;\">\n",
              "        \n",
              "  <svg xmlns=\"http://www.w3.org/2000/svg\" height=\"24px\"viewBox=\"0 0 24 24\"\n",
              "       width=\"24px\">\n",
              "    <path d=\"M0 0h24v24H0V0z\" fill=\"none\"/>\n",
              "    <path d=\"M18.56 5.44l.94 2.06.94-2.06 2.06-.94-2.06-.94-.94-2.06-.94 2.06-2.06.94zm-11 1L8.5 8.5l.94-2.06 2.06-.94-2.06-.94L8.5 2.5l-.94 2.06-2.06.94zm10 10l.94 2.06.94-2.06 2.06-.94-2.06-.94-.94-2.06-.94 2.06-2.06.94z\"/><path d=\"M17.41 7.96l-1.37-1.37c-.4-.4-.92-.59-1.43-.59-.52 0-1.04.2-1.43.59L10.3 9.45l-7.72 7.72c-.78.78-.78 2.05 0 2.83L4 21.41c.39.39.9.59 1.41.59.51 0 1.02-.2 1.41-.59l7.78-7.78 2.81-2.81c.8-.78.8-2.07 0-2.86zM5.41 20L4 18.59l7.72-7.72 1.47 1.35L5.41 20z\"/>\n",
              "  </svg>\n",
              "      </button>\n",
              "      \n",
              "  <style>\n",
              "    .colab-df-container {\n",
              "      display:flex;\n",
              "      flex-wrap:wrap;\n",
              "      gap: 12px;\n",
              "    }\n",
              "\n",
              "    .colab-df-convert {\n",
              "      background-color: #E8F0FE;\n",
              "      border: none;\n",
              "      border-radius: 50%;\n",
              "      cursor: pointer;\n",
              "      display: none;\n",
              "      fill: #1967D2;\n",
              "      height: 32px;\n",
              "      padding: 0 0 0 0;\n",
              "      width: 32px;\n",
              "    }\n",
              "\n",
              "    .colab-df-convert:hover {\n",
              "      background-color: #E2EBFA;\n",
              "      box-shadow: 0px 1px 2px rgba(60, 64, 67, 0.3), 0px 1px 3px 1px rgba(60, 64, 67, 0.15);\n",
              "      fill: #174EA6;\n",
              "    }\n",
              "\n",
              "    [theme=dark] .colab-df-convert {\n",
              "      background-color: #3B4455;\n",
              "      fill: #D2E3FC;\n",
              "    }\n",
              "\n",
              "    [theme=dark] .colab-df-convert:hover {\n",
              "      background-color: #434B5C;\n",
              "      box-shadow: 0px 1px 3px 1px rgba(0, 0, 0, 0.15);\n",
              "      filter: drop-shadow(0px 1px 2px rgba(0, 0, 0, 0.3));\n",
              "      fill: #FFFFFF;\n",
              "    }\n",
              "  </style>\n",
              "\n",
              "      <script>\n",
              "        const buttonEl =\n",
              "          document.querySelector('#df-e5afa63f-3dc6-4d5a-8bfe-a34b9d45a970 button.colab-df-convert');\n",
              "        buttonEl.style.display =\n",
              "          google.colab.kernel.accessAllowed ? 'block' : 'none';\n",
              "\n",
              "        async function convertToInteractive(key) {\n",
              "          const element = document.querySelector('#df-e5afa63f-3dc6-4d5a-8bfe-a34b9d45a970');\n",
              "          const dataTable =\n",
              "            await google.colab.kernel.invokeFunction('convertToInteractive',\n",
              "                                                     [key], {});\n",
              "          if (!dataTable) return;\n",
              "\n",
              "          const docLinkHtml = 'Like what you see? Visit the ' +\n",
              "            '<a target=\"_blank\" href=https://colab.research.google.com/notebooks/data_table.ipynb>data table notebook</a>'\n",
              "            + ' to learn more about interactive tables.';\n",
              "          element.innerHTML = '';\n",
              "          dataTable['output_type'] = 'display_data';\n",
              "          await google.colab.output.renderOutput(dataTable, element);\n",
              "          const docLink = document.createElement('div');\n",
              "          docLink.innerHTML = docLinkHtml;\n",
              "          element.appendChild(docLink);\n",
              "        }\n",
              "      </script>\n",
              "    </div>\n",
              "  </div>\n",
              "  "
            ]
          },
          "metadata": {},
          "execution_count": 20
        }
      ],
      "source": [
        "icici_df.head( 5 )"
      ]
    },
    {
      "cell_type": "code",
      "execution_count": null,
      "metadata": {
        "id": "rH0e3XRUpICw"
      },
      "outputs": [],
      "source": [
        "yes_df[\"gain\"] = ((yes_df['Close Price'] - yes_df['Open Price']) * 100 / \n",
        "                  yes_df['Open Price'])"
      ]
    },
    {
      "cell_type": "code",
      "execution_count": null,
      "metadata": {
        "colab": {
          "base_uri": "https://localhost:8080/",
          "height": 238
        },
        "id": "5ByB3ZMCpICw",
        "outputId": "98b82c48-6023-4a55-f669-87a2a3d31339"
      },
      "outputs": [
        {
          "output_type": "execute_result",
          "data": {
            "text/plain": [
              "            Close Price  Open Price      gain\n",
              "Date                                         \n",
              "2022-10-03        15.40       15.65 -1.597444\n",
              "2022-10-04        16.20       15.60  3.846154\n",
              "2022-10-06        16.50       16.30  1.226994\n",
              "2022-10-07        16.50       16.65 -0.900901\n",
              "2022-10-10        16.45       16.35  0.611621"
            ],
            "text/html": [
              "\n",
              "  <div id=\"df-9a2ab997-ab29-45fe-83b4-520a26a91ae4\">\n",
              "    <div class=\"colab-df-container\">\n",
              "      <div>\n",
              "<style scoped>\n",
              "    .dataframe tbody tr th:only-of-type {\n",
              "        vertical-align: middle;\n",
              "    }\n",
              "\n",
              "    .dataframe tbody tr th {\n",
              "        vertical-align: top;\n",
              "    }\n",
              "\n",
              "    .dataframe thead th {\n",
              "        text-align: right;\n",
              "    }\n",
              "</style>\n",
              "<table border=\"1\" class=\"dataframe\">\n",
              "  <thead>\n",
              "    <tr style=\"text-align: right;\">\n",
              "      <th></th>\n",
              "      <th>Close Price</th>\n",
              "      <th>Open Price</th>\n",
              "      <th>gain</th>\n",
              "    </tr>\n",
              "    <tr>\n",
              "      <th>Date</th>\n",
              "      <th></th>\n",
              "      <th></th>\n",
              "      <th></th>\n",
              "    </tr>\n",
              "  </thead>\n",
              "  <tbody>\n",
              "    <tr>\n",
              "      <th>2022-10-03</th>\n",
              "      <td>15.40</td>\n",
              "      <td>15.65</td>\n",
              "      <td>-1.597444</td>\n",
              "    </tr>\n",
              "    <tr>\n",
              "      <th>2022-10-04</th>\n",
              "      <td>16.20</td>\n",
              "      <td>15.60</td>\n",
              "      <td>3.846154</td>\n",
              "    </tr>\n",
              "    <tr>\n",
              "      <th>2022-10-06</th>\n",
              "      <td>16.50</td>\n",
              "      <td>16.30</td>\n",
              "      <td>1.226994</td>\n",
              "    </tr>\n",
              "    <tr>\n",
              "      <th>2022-10-07</th>\n",
              "      <td>16.50</td>\n",
              "      <td>16.65</td>\n",
              "      <td>-0.900901</td>\n",
              "    </tr>\n",
              "    <tr>\n",
              "      <th>2022-10-10</th>\n",
              "      <td>16.45</td>\n",
              "      <td>16.35</td>\n",
              "      <td>0.611621</td>\n",
              "    </tr>\n",
              "  </tbody>\n",
              "</table>\n",
              "</div>\n",
              "      <button class=\"colab-df-convert\" onclick=\"convertToInteractive('df-9a2ab997-ab29-45fe-83b4-520a26a91ae4')\"\n",
              "              title=\"Convert this dataframe to an interactive table.\"\n",
              "              style=\"display:none;\">\n",
              "        \n",
              "  <svg xmlns=\"http://www.w3.org/2000/svg\" height=\"24px\"viewBox=\"0 0 24 24\"\n",
              "       width=\"24px\">\n",
              "    <path d=\"M0 0h24v24H0V0z\" fill=\"none\"/>\n",
              "    <path d=\"M18.56 5.44l.94 2.06.94-2.06 2.06-.94-2.06-.94-.94-2.06-.94 2.06-2.06.94zm-11 1L8.5 8.5l.94-2.06 2.06-.94-2.06-.94L8.5 2.5l-.94 2.06-2.06.94zm10 10l.94 2.06.94-2.06 2.06-.94-2.06-.94-.94-2.06-.94 2.06-2.06.94z\"/><path d=\"M17.41 7.96l-1.37-1.37c-.4-.4-.92-.59-1.43-.59-.52 0-1.04.2-1.43.59L10.3 9.45l-7.72 7.72c-.78.78-.78 2.05 0 2.83L4 21.41c.39.39.9.59 1.41.59.51 0 1.02-.2 1.41-.59l7.78-7.78 2.81-2.81c.8-.78.8-2.07 0-2.86zM5.41 20L4 18.59l7.72-7.72 1.47 1.35L5.41 20z\"/>\n",
              "  </svg>\n",
              "      </button>\n",
              "      \n",
              "  <style>\n",
              "    .colab-df-container {\n",
              "      display:flex;\n",
              "      flex-wrap:wrap;\n",
              "      gap: 12px;\n",
              "    }\n",
              "\n",
              "    .colab-df-convert {\n",
              "      background-color: #E8F0FE;\n",
              "      border: none;\n",
              "      border-radius: 50%;\n",
              "      cursor: pointer;\n",
              "      display: none;\n",
              "      fill: #1967D2;\n",
              "      height: 32px;\n",
              "      padding: 0 0 0 0;\n",
              "      width: 32px;\n",
              "    }\n",
              "\n",
              "    .colab-df-convert:hover {\n",
              "      background-color: #E2EBFA;\n",
              "      box-shadow: 0px 1px 2px rgba(60, 64, 67, 0.3), 0px 1px 3px 1px rgba(60, 64, 67, 0.15);\n",
              "      fill: #174EA6;\n",
              "    }\n",
              "\n",
              "    [theme=dark] .colab-df-convert {\n",
              "      background-color: #3B4455;\n",
              "      fill: #D2E3FC;\n",
              "    }\n",
              "\n",
              "    [theme=dark] .colab-df-convert:hover {\n",
              "      background-color: #434B5C;\n",
              "      box-shadow: 0px 1px 3px 1px rgba(0, 0, 0, 0.15);\n",
              "      filter: drop-shadow(0px 1px 2px rgba(0, 0, 0, 0.3));\n",
              "      fill: #FFFFFF;\n",
              "    }\n",
              "  </style>\n",
              "\n",
              "      <script>\n",
              "        const buttonEl =\n",
              "          document.querySelector('#df-9a2ab997-ab29-45fe-83b4-520a26a91ae4 button.colab-df-convert');\n",
              "        buttonEl.style.display =\n",
              "          google.colab.kernel.accessAllowed ? 'block' : 'none';\n",
              "\n",
              "        async function convertToInteractive(key) {\n",
              "          const element = document.querySelector('#df-9a2ab997-ab29-45fe-83b4-520a26a91ae4');\n",
              "          const dataTable =\n",
              "            await google.colab.kernel.invokeFunction('convertToInteractive',\n",
              "                                                     [key], {});\n",
              "          if (!dataTable) return;\n",
              "\n",
              "          const docLinkHtml = 'Like what you see? Visit the ' +\n",
              "            '<a target=\"_blank\" href=https://colab.research.google.com/notebooks/data_table.ipynb>data table notebook</a>'\n",
              "            + ' to learn more about interactive tables.';\n",
              "          element.innerHTML = '';\n",
              "          dataTable['output_type'] = 'display_data';\n",
              "          await google.colab.output.renderOutput(dataTable, element);\n",
              "          const docLink = document.createElement('div');\n",
              "          docLink.innerHTML = docLinkHtml;\n",
              "          element.appendChild(docLink);\n",
              "        }\n",
              "      </script>\n",
              "    </div>\n",
              "  </div>\n",
              "  "
            ]
          },
          "metadata": {},
          "execution_count": 22
        }
      ],
      "source": [
        "yes_df[0:5]"
      ]
    },
    {
      "cell_type": "markdown",
      "metadata": {
        "id": "ob07jJWXpICx"
      },
      "source": [
        "## Plotting Historical Price Trends "
      ]
    },
    {
      "cell_type": "markdown",
      "metadata": {
        "id": "5WNVkJyJpICx"
      },
      "source": [
        "For plotting the price trends we will plot the close price on time scale.\n",
        "The figure size can be set using figsize\n",
        "\n",
        "**figsize(width, height)**\n",
        "    - Width, height in inches.\n",
        "\n",
        "https://matplotlib.org/stable/api/_as_gen/matplotlib.pyplot.figure.html"
      ]
    },
    {
      "cell_type": "code",
      "execution_count": null,
      "metadata": {
        "colab": {
          "base_uri": "https://localhost:8080/",
          "height": 378
        },
        "id": "YYtFjH51pICx",
        "outputId": "728aa5ff-d014-43ae-9501-2cb8bd78fae7"
      },
      "outputs": [
        {
          "output_type": "display_data",
          "data": {
            "text/plain": [
              "<Figure size 864x432 with 1 Axes>"
            ],
            "image/png": "[encoded data removed]"
          },
          "metadata": {
            "needs_background": "light"
          }
        }
      ],
      "source": [
        "plt.figure(figsize = (12, 6))\n",
        "plt.plot(icici_df['Close Price'], color = 'r');"
      ]
    },
    {
      "cell_type": "code",
      "execution_count": null,
      "metadata": {
        "colab": {
          "base_uri": "https://localhost:8080/",
          "height": 374
        },
        "id": "ZJrC4wVApICx",
        "outputId": "8ebc9be6-8412-4f8a-c7c7-f3fabeeac207"
      },
      "outputs": [
        {
          "output_type": "display_data",
          "data": {
            "text/plain": [
              "<Figure size 864x432 with 1 Axes>"
            ],
            "image/png": "[encoded data removed]"
          },
          "metadata": {
            "needs_background": "light"
          }
        }
      ],
      "source": [
        "plt.figure(figsize = (12, 6))\n",
        "plt.plot(yes_df['Close Price'], color = 'r');"
      ]
    },
    {
      "cell_type": "markdown",
      "metadata": {
        "id": "LkAL3C-ipICx"
      },
      "source": [
        "- From December 2022, the stock prices have fallen and reached the october 2022 levels.\n",
        "\n",
        "- But our focus will be on daily gains here .e.g how much gain or loss if remain invested for a day."
      ]
    },
    {
      "cell_type": "markdown",
      "metadata": {
        "id": "TEz7V9qGpICx"
      },
      "source": [
        "## Plotting Daily Gains\n",
        "\n",
        "How much the stock price changes every day. Is there any pattern in the change of price?"
      ]
    },
    {
      "cell_type": "code",
      "execution_count": null,
      "metadata": {
        "colab": {
          "base_uri": "https://localhost:8080/",
          "height": 269
        },
        "id": "AFgmH-x5pICx",
        "outputId": "6caaf083-f192-44fb-fd63-77e27622ba98"
      },
      "outputs": [
        {
          "output_type": "display_data",
          "data": {
            "text/plain": [
              "<Figure size 864x288 with 1 Axes>"
            ],
            "image/png": "[encoded data removed]"
          },
          "metadata": {
            "needs_background": "light"
          }
        }
      ],
      "source": [
        "plt.figure(figsize = (12, 4))\n",
        "plt.plot( icici_df.gain, 'r' );"
      ]
    },
    {
      "cell_type": "code",
      "execution_count": null,
      "metadata": {
        "colab": {
          "base_uri": "https://localhost:8080/",
          "height": 265
        },
        "id": "Mq-hZO74pICy",
        "outputId": "de877efc-4e2a-4a80-887c-faf181b0771d"
      },
      "outputs": [
        {
          "output_type": "display_data",
          "data": {
            "text/plain": [
              "<Figure size 864x288 with 1 Axes>"
            ],
            "image/png": "[encoded data removed]"
          },
          "metadata": {
            "needs_background": "light"
          }
        }
      ],
      "source": [
        "plt.figure(figsize = (12, 4))\n",
        "plt.plot( yes_df.gain, 'b' );"
      ]
    },
    {
      "cell_type": "markdown",
      "metadata": {
        "id": "ySZQCoOmpICy"
      },
      "source": [
        "### Calculating min and max gains"
      ]
    },
    {
      "cell_type": "code",
      "execution_count": null,
      "metadata": {
        "colab": {
          "base_uri": "https://localhost:8080/"
        },
        "id": "4Bq5kRL4pICy",
        "outputId": "74a4628c-20da-42b1-85b9-ae19660adbcc"
      },
      "outputs": [
        {
          "output_type": "execute_result",
          "data": {
            "text/plain": [
              "(-3.31545587518284, 2.7010167799887834)"
            ]
          },
          "metadata": {},
          "execution_count": 30
        }
      ],
      "source": [
        "icici_df.gain.min(), icici_df.gain.max()"
      ]
    },
    {
      "cell_type": "code",
      "execution_count": null,
      "metadata": {
        "colab": {
          "base_uri": "https://localhost:8080/"
        },
        "id": "N0TinAFMpICy",
        "outputId": "29ff3c69-f7fa-446b-adb7-a8d5f2bf815a"
      },
      "outputs": [
        {
          "output_type": "execute_result",
          "data": {
            "text/plain": [
              "(-8.488612836438913, 12.607449856733522)"
            ]
          },
          "metadata": {},
          "execution_count": 31
        }
      ],
      "source": [
        "yes_df.gain.min(), yes_df.gain.max()"
      ]
    },
    {
      "cell_type": "markdown",
      "metadata": {
        "id": "0zf1El-TpICy"
      },
      "source": [
        "### What is stock volatility?\n",
        "- Volatility is the rate at which the price of a stock increases or decreases over a particular period.\n",
        "\n",
        "- Higher stock price volatility often means higher risk and helps an investor to estimate the fluctuations that may happen in the future.\n",
        "\n",
        "Source: [Stock Volatility](https://www.fidelity.com.sg/beginners/your-guide-to-stock-investing/understanding-stock-market-volatility-and-how-it-could-help-you#:~:text=Volatility%20is%20the%20standard%20deviation,said%20to%20have%20high%20volatility.)"
      ]
    },
    {
      "cell_type": "markdown",
      "metadata": {
        "id": "w81R97btpICz"
      },
      "source": [
        "### Plotting frequency of various gain values\n",
        "\n",
        "- How many times (in terms of frequency) we are observing different values of gain or loss? \n",
        "    - Frequenecy of -2% to -1% loss \n",
        "    - Frequenecy of -1% to 0% loss \n",
        "    - Frequenecy of 0% to 1% gain \n",
        "    - Frequenecy of 1% to 2% gain\n",
        "    - and so on\n",
        "\n",
        "- Do we observe very high gain or loss very frequently or this is a rare event?\n",
        "\n",
        "- A **histogram** can show the frequency of data items in successive numerical intervals of equal size. "
      ]
    },
    {
      "cell_type": "code",
      "execution_count": null,
      "metadata": {
        "colab": {
          "base_uri": "https://localhost:8080/",
          "height": 268
        },
        "id": "u3HmHlv0pICz",
        "outputId": "a034ef5e-f138-4f05-c973-47d124b5710f"
      },
      "outputs": [
        {
          "output_type": "display_data",
          "data": {
            "text/plain": [
              "<Figure size 864x288 with 1 Axes>"
            ],
            "image/png": "[encoded data removed]"
          },
          "metadata": {
            "needs_background": "light"
          }
        }
      ],
      "source": [
        "plt.figure(figsize = (12, 4))\n",
        "plt.hist(icici_df.gain);"
      ]
    },
    {
      "cell_type": "markdown",
      "metadata": {
        "id": "CIiyr310pICz"
      },
      "source": [
        "- The bin intervals are calculated by dividing the difference of max and min value by 10. By default it creates 10 equal sized bins.\n",
        "- We can create our own bins to make the histogram more readable.\n",
        "- Create bins from -4.0 to +4.0 with bin size of 1.0 and show frequencey for each bin"
      ]
    },
    {
      "cell_type": "code",
      "execution_count": null,
      "metadata": {
        "colab": {
          "base_uri": "https://localhost:8080/",
          "height": 265
        },
        "id": "tzsCLSqBpICz",
        "outputId": "46d6e1be-45b0-4d1c-d443-288940d121d2"
      },
      "outputs": [
        {
          "output_type": "display_data",
          "data": {
            "text/plain": [
              "<Figure size 864x288 with 1 Axes>"
            ],
            "image/png": "[encoded data removed]"
          },
          "metadata": {
            "needs_background": "light"
          }
        }
      ],
      "source": [
        "plt.figure(figsize = (12, 4))\n",
        "plt.hist(icici_df.gain, bins = range(-4, 4, 1));"
      ]
    },
    {
      "cell_type": "markdown",
      "metadata": {
        "id": "8Vf2gpA7pICz"
      },
      "source": [
        "#### Note:\n",
        "\n",
        "- What is the probability of the stock making a gain of (0% to 1%)?\n",
        "- What is the probability of the stock making a loss of (0% to -1%)?"
      ]
    },
    {
      "cell_type": "code",
      "execution_count": null,
      "metadata": {
        "colab": {
          "base_uri": "https://localhost:8080/",
          "height": 374
        },
        "id": "ZSD3ZIzEpICz",
        "outputId": "ebed71a8-1aa6-4cf7-b6af-08e7dae41fe1"
      },
      "outputs": [
        {
          "output_type": "display_data",
          "data": {
            "text/plain": [
              "<Figure size 864x432 with 1 Axes>"
            ],
            "image/png": "[encoded data removed]"
          },
          "metadata": {
            "needs_background": "light"
          }
        }
      ],
      "source": [
        "plt.figure(figsize = (12, 6))\n",
        "plt.hist(yes_df.gain, bins = range(-9, 13, 1));\n",
        "plt.xticks(range(-9, 13, 1));"
      ]
    },
    {
      "cell_type": "markdown",
      "metadata": {
        "id": "hpJ6gdJYpIC0"
      },
      "source": [
        "### Plotting Distribution Plots\n",
        "\n",
        "In the probability distribution curve, the x-axis indicates the possible values and y-axis indicates the probability of that value occuring."
      ]
    },
    {
      "cell_type": "code",
      "execution_count": null,
      "metadata": {
        "colab": {
          "base_uri": "https://localhost:8080/",
          "height": 279
        },
        "id": "5T2Lec5fpIC0",
        "outputId": "0997a96f-22a1-49d1-f868-dcfecb44f33b"
      },
      "outputs": [
        {
          "output_type": "display_data",
          "data": {
            "text/plain": [
              "<Figure size 432x288 with 1 Axes>"
            ],
            "image/png": "[encoded data removed]"
          },
          "metadata": {
            "needs_background": "light"
          }
        }
      ],
      "source": [
        "sn.kdeplot(icici_df.gain);"
      ]
    },
    {
      "cell_type": "code",
      "execution_count": null,
      "metadata": {
        "colab": {
          "base_uri": "https://localhost:8080/",
          "height": 350
        },
        "id": "eM0Bd6MfpIC0",
        "outputId": "d62acf7f-5791-401f-c5a7-161a54c6f312"
      },
      "outputs": [
        {
          "output_type": "display_data",
          "data": {
            "text/plain": [
              "<Figure size 864x360 with 1 Axes>"
            ],
            "image/png": "[encoded data removed]"
          },
          "metadata": {
            "needs_background": "light"
          }
        }
      ],
      "source": [
        "plt.figure(figsize = (12, 5))\n",
        "sn.kdeplot(icici_df.gain, label = 'ICICI Bank' );\n",
        "sn.kdeplot(yes_df.gain, label = 'Yes Bank' );\n",
        "plt.title(\"Volatility of Stocks\")\n",
        "plt.legend();"
      ]
    },
    {
      "cell_type": "markdown",
      "metadata": {
        "id": "Y0URHw1ipIC0"
      },
      "source": [
        "#### Note:\n",
        "   - Yes Bank has higher dispersion than ICICI Bank, which indicates it is higher volatile.\n",
        "   - But can we measure volatility?"
      ]
    },
    {
      "cell_type": "markdown",
      "metadata": {
        "id": "Z4mnE7Y8pIC0"
      },
      "source": [
        "## Probability Distributions\n",
        "\n",
        "- **Probability distribution**  describes the probabilities of occurrence of different possible outcomes.\n",
        "\n",
        "- It describes all the possible values and likelihoods that a random variable can take within a given range. This range will be bounded between the minimum and maximum possible values.\n",
        "\n",
        "- There are several probability distributions:\n",
        "\n",
        "    - Normal Distribution\n",
        "    - Binnomial Distribution\n",
        "    - Exponential Distribution\n",
        "    - Poisson Distribution\n",
        "\n",
        "- Probability plots is the most widely used approach to determine whether your data follow a particular distribution. This process is simple to do visually.\n",
        "\n",
        "[Examples of different distributions](https://statdist.com/)"
      ]
    },
    {
      "cell_type": "markdown",
      "metadata": {
        "id": "Vyhi4R9RpIC0"
      },
      "source": [
        "## What is Normal Distribution?\n",
        "\n",
        "The normal distribution, also known as the Gaussian distribution, is the most important probability distribution in statistics for independent, random variables. Most people recognize its familiar bell-shaped curve in statistical reports.\n",
        "\n",
        "- The normal distribution is a continuous probability distribution that is symmetrical around its mean, most of the observations cluster around the central peak, and the probabilities for values further away from the mean taper off equally in both directions. \n",
        "- Extreme values in both tails of the distribution are similarly unlikely. While the normal distribution is symmetrical, not all symmetrical distributions are normal\n",
        "\n",
        "Source: https://statisticsbyjim.com/basics/normal-distribution/\n",
        "\n",
        "References:\n",
        "\n",
        "https://en.wikipedia.org/wiki/Normal_distribution\n",
        "\n",
        "https://courses.lumenlearning.com/math4libarts/chapter/understanding-normal-distribution/\n",
        "\n",
        "<img src=\"https://github.com/manaranjanp/MLCourseV1/blob/main/Session_1/normal.png?raw=1\" alt=\"Normal Distribution\" width=\"500\"/>\n",
        "\n",
        "Source: https://en.wikipedia.org/wiki/Normal_distribution"
      ]
    },
    {
      "cell_type": "markdown",
      "metadata": {
        "id": "ozJWAbs2pIC1"
      },
      "source": [
        "### Calculate Mean, Standard Deviation of Daily Returns for ICICI Bank\n",
        "\n",
        "The normal distribution is parameterized by two parameters: the mean of the distribution $\\mu$ and the variance $\\sigma^2$. \n",
        "\n",
        "The sample mean of a normal distribution is given by, \n",
        "\n",
        "$\\bar x = \\frac{1}{n}\\sum_{i=1}^{n}x_{i}$\n",
        "\n",
        "Variance is given by, \n",
        "\n",
        "$\\sigma^2 = \\frac{1}{n}\\sqrt \\sum_{i=1}^{n}(x_{i}-\\bar x)^2$. \n",
        "\n",
        "And standard deviation is square root of variance and is denoted by $\\sigma$.\n",
        "\n",
        "- In investing, standard deviation is used as an indicator of market volatility and thus of risk. The more unpredictable the price action and the wider the range, the greater the risk."
      ]
    },
    {
      "cell_type": "code",
      "execution_count": null,
      "metadata": {
        "colab": {
          "base_uri": "https://localhost:8080/"
        },
        "id": "kuqVh7ejpIC1",
        "outputId": "ad6af36f-1b4f-4447-a2b5-d715aa945b82"
      },
      "outputs": [
        {
          "output_type": "execute_result",
          "data": {
            "text/plain": [
              "-0.08787483804793539"
            ]
          },
          "metadata": {},
          "execution_count": 37
        }
      ],
      "source": [
        "icici_df.gain.mean()"
      ]
    },
    {
      "cell_type": "code",
      "execution_count": null,
      "metadata": {
        "colab": {
          "base_uri": "https://localhost:8080/"
        },
        "id": "LKPTRUwBpIC1",
        "outputId": "65bdc2ab-45cf-473f-c6dc-34647490d226"
      },
      "outputs": [
        {
          "output_type": "execute_result",
          "data": {
            "text/plain": [
              "1.1200765129090908"
            ]
          },
          "metadata": {},
          "execution_count": 38
        }
      ],
      "source": [
        "icici_df.gain.std()"
      ]
    },
    {
      "cell_type": "markdown",
      "metadata": {
        "id": "TLGO5FI_pIC2"
      },
      "source": [
        "### Confidence Interval\n",
        "\n",
        "- Confidence interval is a range of values, bounded above and below the mean value.\n",
        "\n",
        "- It is the probability that a parameter will fall between a set of values for a certain proportion of times. \n",
        "\n",
        "- Most often used confidence intervals are either 90% or 95% or 99%."
      ]
    },
    {
      "cell_type": "code",
      "execution_count": null,
      "metadata": {
        "id": "5Ia0Xg0UpIC2"
      },
      "outputs": [],
      "source": [
        "from scipy import stats"
      ]
    },
    {
      "cell_type": "code",
      "execution_count": null,
      "metadata": {
        "id": "We3S8WSzpIC2"
      },
      "outputs": [],
      "source": [
        "icici_ci_90 = stats.norm.interval(0.90,\n",
        "                                  loc=icici_df.gain.mean(),\n",
        "                                  scale=icici_df.gain.std())"
      ]
    },
    {
      "cell_type": "code",
      "execution_count": null,
      "metadata": {
        "colab": {
          "base_uri": "https://localhost:8080/"
        },
        "id": "Y_ba9O5HpIC2",
        "outputId": "fe512f60-5727-4283-f73b-af130406f8a5"
      },
      "outputs": [
        {
          "output_type": "execute_result",
          "data": {
            "text/plain": [
              "(-1.9302367527696118, 1.75448707667374)"
            ]
          },
          "metadata": {},
          "execution_count": 41
        }
      ],
      "source": [
        "icici_ci_90"
      ]
    },
    {
      "cell_type": "code",
      "execution_count": null,
      "metadata": {
        "colab": {
          "base_uri": "https://localhost:8080/",
          "height": 206
        },
        "id": "3XTUhHC0pIC3",
        "outputId": "3f2d92bc-c563-4a4f-8af1-9e6e8494a269"
      },
      "outputs": [
        {
          "output_type": "execute_result",
          "data": {
            "text/plain": [
              "            Close Price  Open Price      gain\n",
              "Date                                         \n",
              "2022-12-21       892.35      922.95 -3.315456\n",
              "2023-01-05       879.00      902.00 -2.549889\n",
              "2023-01-25       855.30      873.00 -2.027491\n",
              "2023-01-27       817.55      841.00 -2.788347"
            ],
            "text/html": [
              "\n",
              "  <div id=\"df-2901eb8a-bc7a-492a-90fa-d02532f01f44\">\n",
              "    <div class=\"colab-df-container\">\n",
              "      <div>\n",
              "<style scoped>\n",
              "    .dataframe tbody tr th:only-of-type {\n",
              "        vertical-align: middle;\n",
              "    }\n",
              "\n",
              "    .dataframe tbody tr th {\n",
              "        vertical-align: top;\n",
              "    }\n",
              "\n",
              "    .dataframe thead th {\n",
              "        text-align: right;\n",
              "    }\n",
              "</style>\n",
              "<table border=\"1\" class=\"dataframe\">\n",
              "  <thead>\n",
              "    <tr style=\"text-align: right;\">\n",
              "      <th></th>\n",
              "      <th>Close Price</th>\n",
              "      <th>Open Price</th>\n",
              "      <th>gain</th>\n",
              "    </tr>\n",
              "    <tr>\n",
              "      <th>Date</th>\n",
              "      <th></th>\n",
              "      <th></th>\n",
              "      <th></th>\n",
              "    </tr>\n",
              "  </thead>\n",
              "  <tbody>\n",
              "    <tr>\n",
              "      <th>2022-12-21</th>\n",
              "      <td>892.35</td>\n",
              "      <td>922.95</td>\n",
              "      <td>-3.315456</td>\n",
              "    </tr>\n",
              "    <tr>\n",
              "      <th>2023-01-05</th>\n",
              "      <td>879.00</td>\n",
              "      <td>902.00</td>\n",
              "      <td>-2.549889</td>\n",
              "    </tr>\n",
              "    <tr>\n",
              "      <th>2023-01-25</th>\n",
              "      <td>855.30</td>\n",
              "      <td>873.00</td>\n",
              "      <td>-2.027491</td>\n",
              "    </tr>\n",
              "    <tr>\n",
              "      <th>2023-01-27</th>\n",
              "      <td>817.55</td>\n",
              "      <td>841.00</td>\n",
              "      <td>-2.788347</td>\n",
              "    </tr>\n",
              "  </tbody>\n",
              "</table>\n",
              "</div>\n",
              "      <button class=\"colab-df-convert\" onclick=\"convertToInteractive('df-2901eb8a-bc7a-492a-90fa-d02532f01f44')\"\n",
              "              title=\"Convert this dataframe to an interactive table.\"\n",
              "              style=\"display:none;\">\n",
              "        \n",
              "  <svg xmlns=\"http://www.w3.org/2000/svg\" height=\"24px\"viewBox=\"0 0 24 24\"\n",
              "       width=\"24px\">\n",
              "    <path d=\"M0 0h24v24H0V0z\" fill=\"none\"/>\n",
              "    <path d=\"M18.56 5.44l.94 2.06.94-2.06 2.06-.94-2.06-.94-.94-2.06-.94 2.06-2.06.94zm-11 1L8.5 8.5l.94-2.06 2.06-.94-2.06-.94L8.5 2.5l-.94 2.06-2.06.94zm10 10l.94 2.06.94-2.06 2.06-.94-2.06-.94-.94-2.06-.94 2.06-2.06.94z\"/><path d=\"M17.41 7.96l-1.37-1.37c-.4-.4-.92-.59-1.43-.59-.52 0-1.04.2-1.43.59L10.3 9.45l-7.72 7.72c-.78.78-.78 2.05 0 2.83L4 21.41c.39.39.9.59 1.41.59.51 0 1.02-.2 1.41-.59l7.78-7.78 2.81-2.81c.8-.78.8-2.07 0-2.86zM5.41 20L4 18.59l7.72-7.72 1.47 1.35L5.41 20z\"/>\n",
              "  </svg>\n",
              "      </button>\n",
              "      \n",
              "  <style>\n",
              "    .colab-df-container {\n",
              "      display:flex;\n",
              "      flex-wrap:wrap;\n",
              "      gap: 12px;\n",
              "    }\n",
              "\n",
              "    .colab-df-convert {\n",
              "      background-color: #E8F0FE;\n",
              "      border: none;\n",
              "      border-radius: 50%;\n",
              "      cursor: pointer;\n",
              "      display: none;\n",
              "      fill: #1967D2;\n",
              "      height: 32px;\n",
              "      padding: 0 0 0 0;\n",
              "      width: 32px;\n",
              "    }\n",
              "\n",
              "    .colab-df-convert:hover {\n",
              "      background-color: #E2EBFA;\n",
              "      box-shadow: 0px 1px 2px rgba(60, 64, 67, 0.3), 0px 1px 3px 1px rgba(60, 64, 67, 0.15);\n",
              "      fill: #174EA6;\n",
              "    }\n",
              "\n",
              "    [theme=dark] .colab-df-convert {\n",
              "      background-color: #3B4455;\n",
              "      fill: #D2E3FC;\n",
              "    }\n",
              "\n",
              "    [theme=dark] .colab-df-convert:hover {\n",
              "      background-color: #434B5C;\n",
              "      box-shadow: 0px 1px 3px 1px rgba(0, 0, 0, 0.15);\n",
              "      filter: drop-shadow(0px 1px 2px rgba(0, 0, 0, 0.3));\n",
              "      fill: #FFFFFF;\n",
              "    }\n",
              "  </style>\n",
              "\n",
              "      <script>\n",
              "        const buttonEl =\n",
              "          document.querySelector('#df-2901eb8a-bc7a-492a-90fa-d02532f01f44 button.colab-df-convert');\n",
              "        buttonEl.style.display =\n",
              "          google.colab.kernel.accessAllowed ? 'block' : 'none';\n",
              "\n",
              "        async function convertToInteractive(key) {\n",
              "          const element = document.querySelector('#df-2901eb8a-bc7a-492a-90fa-d02532f01f44');\n",
              "          const dataTable =\n",
              "            await google.colab.kernel.invokeFunction('convertToInteractive',\n",
              "                                                     [key], {});\n",
              "          if (!dataTable) return;\n",
              "\n",
              "          const docLinkHtml = 'Like what you see? Visit the ' +\n",
              "            '<a target=\"_blank\" href=https://colab.research.google.com/notebooks/data_table.ipynb>data table notebook</a>'\n",
              "            + ' to learn more about interactive tables.';\n",
              "          element.innerHTML = '';\n",
              "          dataTable['output_type'] = 'display_data';\n",
              "          await google.colab.output.renderOutput(dataTable, element);\n",
              "          const docLink = document.createElement('div');\n",
              "          docLink.innerHTML = docLinkHtml;\n",
              "          element.appendChild(docLink);\n",
              "        }\n",
              "      </script>\n",
              "    </div>\n",
              "  </div>\n",
              "  "
            ]
          },
          "metadata": {},
          "execution_count": 42
        }
      ],
      "source": [
        "icici_df[icici_df.gain < icici_ci_90[0]]"
      ]
    },
    {
      "cell_type": "markdown",
      "metadata": {
        "id": "nzpNfaxRpIC3"
      },
      "source": [
        "### VaR - Value At Risk"
      ]
    },
    {
      "cell_type": "markdown",
      "metadata": {
        "id": "srwQpib1pIC3"
      },
      "source": [
        "- Value at Risk (VaR) is a statistic that is used in risk management to predict the greatest possible losses over a specific time frame.\n",
        "\n",
        "<img src=\"https://github.com/manaranjanp/MLCourseV1/blob/main/Session_1/var_investopedia.png?raw=1\" alt=\"Normal Distribution\" width=\"500\"/>\n",
        "\n",
        "Source: https://en.wikipedia.org/wiki/Normal_distribution\n",
        "\n",
        "- What is the value at risk if invested one lakh?"
      ]
    },
    {
      "cell_type": "code",
      "execution_count": null,
      "metadata": {
        "id": "drDRfNpPpIC3"
      },
      "outputs": [],
      "source": [
        "invest_amt = 100000"
      ]
    },
    {
      "cell_type": "code",
      "execution_count": null,
      "metadata": {
        "colab": {
          "base_uri": "https://localhost:8080/"
        },
        "id": "hyX_46-fpIC3",
        "outputId": "f71f42e1-a831-4d97-b476-dfaa15baf112"
      },
      "outputs": [
        {
          "output_type": "execute_result",
          "data": {
            "text/plain": [
              "100000"
            ]
          },
          "metadata": {},
          "execution_count": 44
        }
      ],
      "source": [
        "invest_amt"
      ]
    },
    {
      "cell_type": "code",
      "execution_count": null,
      "metadata": {
        "colab": {
          "base_uri": "https://localhost:8080/"
        },
        "id": "IT52Td0ipIC3",
        "outputId": "f51f4c00-626d-4d17-8cbf-efc0d36e55fc"
      },
      "outputs": [
        {
          "output_type": "execute_result",
          "data": {
            "text/plain": [
              "-1.9302367527696118"
            ]
          },
          "metadata": {},
          "execution_count": 45
        }
      ],
      "source": [
        "icici_ci_90[0]"
      ]
    },
    {
      "cell_type": "code",
      "execution_count": null,
      "metadata": {
        "id": "7LcYPqHjpIC3"
      },
      "outputs": [],
      "source": [
        "icici_var = invest_amt * icici_ci_90[0] / 100"
      ]
    },
    {
      "cell_type": "code",
      "execution_count": null,
      "metadata": {
        "colab": {
          "base_uri": "https://localhost:8080/"
        },
        "id": "53NACKw1pIC3",
        "outputId": "5b8c0a0b-6b4f-44cf-b17f-1c4c68ce2a50"
      },
      "outputs": [
        {
          "output_type": "execute_result",
          "data": {
            "text/plain": [
              "-1930.2367527696117"
            ]
          },
          "metadata": {},
          "execution_count": 47
        }
      ],
      "source": [
        "icici_var"
      ]
    },
    {
      "cell_type": "markdown",
      "metadata": {
        "id": "WIE8iParpIC4"
      },
      "source": [
        "#### Note: \n",
        "\n",
        "- Value at risk for 95% CI is 1930.23 rupees, if invested one lakh rupees for day trading in ICICI Bank."
      ]
    },
    {
      "cell_type": "markdown",
      "metadata": {
        "id": "8fIiGkD6pIC4"
      },
      "source": [
        "https://www.moneycontrol.com/news/business/markets/december-21-share-market-live-updates-stock-market-today-december-latest-news-bse-nse-sensex-nifty-covid-coronavirus-9739291.html"
      ]
    },
    {
      "cell_type": "markdown",
      "metadata": {
        "id": "A8bgcdrTpIC4"
      },
      "source": [
        "### Are there any Outlier Events?\n",
        "\n",
        "- Values that are greater than +3 standard deviations from the mean, or less than -3 standard deviations are considered as outliers."
      ]
    },
    {
      "cell_type": "code",
      "execution_count": null,
      "metadata": {
        "id": "b5zRKo-1pIC4"
      },
      "outputs": [],
      "source": [
        "icici_ci_99_7 = stats.norm.interval(0.997,\n",
        "                                    loc=icici_df.gain.mean(),\n",
        "                                    scale=icici_df.gain.std())"
      ]
    },
    {
      "cell_type": "code",
      "execution_count": null,
      "metadata": {
        "colab": {
          "base_uri": "https://localhost:8080/"
        },
        "id": "TqEIG8kspIC4",
        "outputId": "5bb8c64b-3f7e-47a6-c549-7a706e0a2ac2"
      },
      "outputs": [
        {
          "output_type": "execute_result",
          "data": {
            "text/plain": [
              "(-3.4119683846928197, 3.2362187085969363)"
            ]
          },
          "metadata": {},
          "execution_count": 52
        }
      ],
      "source": [
        "icici_ci_99_7"
      ]
    },
    {
      "cell_type": "code",
      "execution_count": null,
      "metadata": {
        "colab": {
          "base_uri": "https://localhost:8080/",
          "height": 81
        },
        "id": "1sSwEZH9pIC4",
        "outputId": "97427861-2c56-4f88-f2a3-52758199c265"
      },
      "outputs": [
        {
          "output_type": "execute_result",
          "data": {
            "text/plain": [
              "Empty DataFrame\n",
              "Columns: [Close Price, Open Price, gain]\n",
              "Index: []"
            ],
            "text/html": [
              "\n",
              "  <div id=\"df-8d6cc023-ead6-445d-9c71-2b98faefedeb\">\n",
              "    <div class=\"colab-df-container\">\n",
              "      <div>\n",
              "<style scoped>\n",
              "    .dataframe tbody tr th:only-of-type {\n",
              "        vertical-align: middle;\n",
              "    }\n",
              "\n",
              "    .dataframe tbody tr th {\n",
              "        vertical-align: top;\n",
              "    }\n",
              "\n",
              "    .dataframe thead th {\n",
              "        text-align: right;\n",
              "    }\n",
              "</style>\n",
              "<table border=\"1\" class=\"dataframe\">\n",
              "  <thead>\n",
              "    <tr style=\"text-align: right;\">\n",
              "      <th></th>\n",
              "      <th>Close Price</th>\n",
              "      <th>Open Price</th>\n",
              "      <th>gain</th>\n",
              "    </tr>\n",
              "    <tr>\n",
              "      <th>Date</th>\n",
              "      <th></th>\n",
              "      <th></th>\n",
              "      <th></th>\n",
              "    </tr>\n",
              "  </thead>\n",
              "  <tbody>\n",
              "  </tbody>\n",
              "</table>\n",
              "</div>\n",
              "      <button class=\"colab-df-convert\" onclick=\"convertToInteractive('df-8d6cc023-ead6-445d-9c71-2b98faefedeb')\"\n",
              "              title=\"Convert this dataframe to an interactive table.\"\n",
              "              style=\"display:none;\">\n",
              "        \n",
              "  <svg xmlns=\"http://www.w3.org/2000/svg\" height=\"24px\"viewBox=\"0 0 24 24\"\n",
              "       width=\"24px\">\n",
              "    <path d=\"M0 0h24v24H0V0z\" fill=\"none\"/>\n",
              "    <path d=\"M18.56 5.44l.94 2.06.94-2.06 2.06-.94-2.06-.94-.94-2.06-.94 2.06-2.06.94zm-11 1L8.5 8.5l.94-2.06 2.06-.94-2.06-.94L8.5 2.5l-.94 2.06-2.06.94zm10 10l.94 2.06.94-2.06 2.06-.94-2.06-.94-.94-2.06-.94 2.06-2.06.94z\"/><path d=\"M17.41 7.96l-1.37-1.37c-.4-.4-.92-.59-1.43-.59-.52 0-1.04.2-1.43.59L10.3 9.45l-7.72 7.72c-.78.78-.78 2.05 0 2.83L4 21.41c.39.39.9.59 1.41.59.51 0 1.02-.2 1.41-.59l7.78-7.78 2.81-2.81c.8-.78.8-2.07 0-2.86zM5.41 20L4 18.59l7.72-7.72 1.47 1.35L5.41 20z\"/>\n",
              "  </svg>\n",
              "      </button>\n",
              "      \n",
              "  <style>\n",
              "    .colab-df-container {\n",
              "      display:flex;\n",
              "      flex-wrap:wrap;\n",
              "      gap: 12px;\n",
              "    }\n",
              "\n",
              "    .colab-df-convert {\n",
              "      background-color: #E8F0FE;\n",
              "      border: none;\n",
              "      border-radius: 50%;\n",
              "      cursor: pointer;\n",
              "      display: none;\n",
              "      fill: #1967D2;\n",
              "      height: 32px;\n",
              "      padding: 0 0 0 0;\n",
              "      width: 32px;\n",
              "    }\n",
              "\n",
              "    .colab-df-convert:hover {\n",
              "      background-color: #E2EBFA;\n",
              "      box-shadow: 0px 1px 2px rgba(60, 64, 67, 0.3), 0px 1px 3px 1px rgba(60, 64, 67, 0.15);\n",
              "      fill: #174EA6;\n",
              "    }\n",
              "\n",
              "    [theme=dark] .colab-df-convert {\n",
              "      background-color: #3B4455;\n",
              "      fill: #D2E3FC;\n",
              "    }\n",
              "\n",
              "    [theme=dark] .colab-df-convert:hover {\n",
              "      background-color: #434B5C;\n",
              "      box-shadow: 0px 1px 3px 1px rgba(0, 0, 0, 0.15);\n",
              "      filter: drop-shadow(0px 1px 2px rgba(0, 0, 0, 0.3));\n",
              "      fill: #FFFFFF;\n",
              "    }\n",
              "  </style>\n",
              "\n",
              "      <script>\n",
              "        const buttonEl =\n",
              "          document.querySelector('#df-8d6cc023-ead6-445d-9c71-2b98faefedeb button.colab-df-convert');\n",
              "        buttonEl.style.display =\n",
              "          google.colab.kernel.accessAllowed ? 'block' : 'none';\n",
              "\n",
              "        async function convertToInteractive(key) {\n",
              "          const element = document.querySelector('#df-8d6cc023-ead6-445d-9c71-2b98faefedeb');\n",
              "          const dataTable =\n",
              "            await google.colab.kernel.invokeFunction('convertToInteractive',\n",
              "                                                     [key], {});\n",
              "          if (!dataTable) return;\n",
              "\n",
              "          const docLinkHtml = 'Like what you see? Visit the ' +\n",
              "            '<a target=\"_blank\" href=https://colab.research.google.com/notebooks/data_table.ipynb>data table notebook</a>'\n",
              "            + ' to learn more about interactive tables.';\n",
              "          element.innerHTML = '';\n",
              "          dataTable['output_type'] = 'display_data';\n",
              "          await google.colab.output.renderOutput(dataTable, element);\n",
              "          const docLink = document.createElement('div');\n",
              "          docLink.innerHTML = docLinkHtml;\n",
              "          element.appendChild(docLink);\n",
              "        }\n",
              "      </script>\n",
              "    </div>\n",
              "  </div>\n",
              "  "
            ]
          },
          "metadata": {},
          "execution_count": 51
        }
      ],
      "source": [
        "icici_df[icici_df.gain > icici_ci_99_7[1]]"
      ]
    },
    {
      "cell_type": "markdown",
      "metadata": {
        "id": "0EHwJeHSpIC5"
      },
      "source": [
        "### Yes Bank "
      ]
    },
    {
      "cell_type": "code",
      "execution_count": null,
      "metadata": {
        "colab": {
          "base_uri": "https://localhost:8080/"
        },
        "id": "2zC60bd7pIC5",
        "outputId": "f9114d96-c5e4-4fff-f1b0-ab065f2a6b20"
      },
      "outputs": [
        {
          "output_type": "execute_result",
          "data": {
            "text/plain": [
              "0.07874271698742263"
            ]
          },
          "metadata": {},
          "execution_count": 53
        }
      ],
      "source": [
        "yes_df.gain.mean()"
      ]
    },
    {
      "cell_type": "code",
      "execution_count": null,
      "metadata": {
        "colab": {
          "base_uri": "https://localhost:8080/"
        },
        "id": "NaqcMJWupIC5",
        "outputId": "efbc527f-1954-4582-d672-bf98ccbeced8"
      },
      "outputs": [
        {
          "output_type": "execute_result",
          "data": {
            "text/plain": [
              "3.00250403876574"
            ]
          },
          "metadata": {},
          "execution_count": 54
        }
      ],
      "source": [
        "yes_df.gain.std()"
      ]
    },
    {
      "cell_type": "code",
      "execution_count": null,
      "metadata": {
        "id": "I-AA_4nZpIC5"
      },
      "outputs": [],
      "source": [
        "yes_ci_90 = stats.norm.interval(0.90,\n",
        "                                loc=yes_df.gain.mean(),\n",
        "                                scale=yes_df.gain.std())"
      ]
    },
    {
      "cell_type": "code",
      "execution_count": null,
      "metadata": {
        "colab": {
          "base_uri": "https://localhost:8080/"
        },
        "id": "xPJe3LaLpIC5",
        "outputId": "90a9b15a-94b9-4f5f-d92c-38ccc2ea277d"
      },
      "outputs": [
        {
          "output_type": "execute_result",
          "data": {
            "text/plain": [
              "(-4.859936941112851, 5.017422375087693)"
            ]
          },
          "metadata": {},
          "execution_count": 56
        }
      ],
      "source": [
        "yes_ci_90"
      ]
    },
    {
      "cell_type": "markdown",
      "metadata": {
        "id": "Ffp85E1UpIC6"
      },
      "source": [
        "- Yes Bank higher risk of higher loss. But it also provides opportunity for higher gains.\n",
        "\n",
        "- Volatility is not always a bad thing, as it can sometimes provide entry points from which investors can take advantage."
      ]
    },
    {
      "cell_type": "markdown",
      "metadata": {
        "id": "-pXw1qLQpIC6"
      },
      "source": [
        "## Cumulative Distribution Function"
      ]
    },
    {
      "cell_type": "code",
      "execution_count": null,
      "metadata": {
        "colab": {
          "base_uri": "https://localhost:8080/",
          "height": 334
        },
        "id": "H4EQA7fPpIC6",
        "outputId": "a4424312-0a52-485c-c564-079c6bdc4a2b"
      },
      "outputs": [
        {
          "output_type": "display_data",
          "data": {
            "text/plain": [
              "<Figure size 864x360 with 1 Axes>"
            ],
            "image/png": "[encoded data removed]"
          },
          "metadata": {
            "needs_background": "light"
          }
        }
      ],
      "source": [
        "plt.figure(figsize = (12, 5))\n",
        "sn.kdeplot(yes_df.gain, label = 'Yes Bank' );\n",
        "plt.legend();"
      ]
    },
    {
      "cell_type": "markdown",
      "metadata": {
        "id": "WAwrpGY1pIC6"
      },
      "source": [
        "#### CDF - Cummulative Distribution Function\n",
        "\n",
        "- CDF is the probability that a random variable (let X) will take a value less than or equal to the random variable (X).\n",
        "\n",
        "- For example: The probability that the stock will make a loss of -3% or more is the sum of all probabilities of the stocks making -3.0%, -3.1%, -3.2% and so on until highest loss it has encountered historically.\n",
        "\n",
        "$$\\int_{-\\infty}^{-3} p(x) \\; dx  $$\n",
        "\n",
        "<img src=\"https://github.com/manaranjanp/MLCourseV1/blob/main/Session_1/cdf.png?raw=1\" alt=\"Cummulative Distribution Function\" width=\"400\"/>"
      ]
    },
    {
      "cell_type": "markdown",
      "metadata": {
        "id": "eEZzaACXpIC6"
      },
      "source": [
        "## What is the probability that the stock will make a loss of 3% or more?"
      ]
    },
    {
      "cell_type": "markdown",
      "metadata": {
        "id": "7itS3q4fpIC6"
      },
      "source": [
        "### ICICI Bank - probability of a loss of 3% or more"
      ]
    },
    {
      "cell_type": "code",
      "execution_count": null,
      "metadata": {
        "colab": {
          "base_uri": "https://localhost:8080/"
        },
        "id": "6A9SVT29pIC7",
        "outputId": "6803a242-bb36-4556-a253-4619a367c35f"
      },
      "outputs": [
        {
          "output_type": "execute_result",
          "data": {
            "text/plain": [
              "0.004662082715571748"
            ]
          },
          "metadata": {},
          "execution_count": 58
        }
      ],
      "source": [
        "stats.norm.cdf( -3.0,\n",
        "               loc=icici_df.gain.mean(),\n",
        "               scale=icici_df.gain.std())"
      ]
    },
    {
      "cell_type": "markdown",
      "metadata": {
        "id": "5AZyrpSKpIC7"
      },
      "source": [
        "### Yes Bank - probability of a loss of 3% or more"
      ]
    },
    {
      "cell_type": "code",
      "execution_count": null,
      "metadata": {
        "colab": {
          "base_uri": "https://localhost:8080/"
        },
        "id": "dD_ZSsrmpIC7",
        "outputId": "1bcf54fc-0cf7-468f-b146-93658f1018f6"
      },
      "outputs": [
        {
          "output_type": "execute_result",
          "data": {
            "text/plain": [
              "0.24436306062835444"
            ]
          },
          "metadata": {},
          "execution_count": 59
        }
      ],
      "source": [
        "stats.norm.cdf( -2.0,\n",
        "               loc=yes_df.gain.mean(),\n",
        "               scale=yes_df.gain.std())"
      ]
    },
    {
      "cell_type": "markdown",
      "metadata": {
        "id": "Z6fSzOmIpIC7"
      },
      "source": [
        "#### Note:\n",
        "\n",
        "- Yes Bank higher probablity compared to ICICI Bank."
      ]
    },
    {
      "cell_type": "markdown",
      "metadata": {
        "id": "R26lDpnOpIC8"
      },
      "source": [
        "## What is the probability that the stock will make a gain of 3% or more?"
      ]
    },
    {
      "cell_type": "markdown",
      "metadata": {
        "id": "d0AsZ8xdpIC8"
      },
      "source": [
        "### ICICI Bank - probability of a gain of 3%"
      ]
    },
    {
      "cell_type": "code",
      "execution_count": null,
      "metadata": {
        "colab": {
          "base_uri": "https://localhost:8080/"
        },
        "id": "sda2W8XEpIC8",
        "outputId": "feff3fd9-5046-4fdb-e5dd-a4911692ee0b"
      },
      "outputs": [
        {
          "output_type": "execute_result",
          "data": {
            "text/plain": [
              "0.0029181203539810907"
            ]
          },
          "metadata": {},
          "execution_count": 60
        }
      ],
      "source": [
        "1 - stats.norm.cdf(3.0,\n",
        "                   loc=icici_df.gain.mean(),\n",
        "                   scale=icici_df.gain.std())               "
      ]
    },
    {
      "cell_type": "markdown",
      "metadata": {
        "id": "iok6I6vypIC8"
      },
      "source": [
        "### Yes Bank - probability of a gain of 3%"
      ]
    },
    {
      "cell_type": "code",
      "execution_count": null,
      "metadata": {
        "colab": {
          "base_uri": "https://localhost:8080/"
        },
        "id": "iGbK1p65pIC8",
        "outputId": "c3399189-fda5-48ee-8c7d-aca971fc572a"
      },
      "outputs": [
        {
          "output_type": "execute_result",
          "data": {
            "text/plain": [
              "0.16529147856226234"
            ]
          },
          "metadata": {},
          "execution_count": 61
        }
      ],
      "source": [
        "1 - stats.norm.cdf(3.0,\n",
        "                   loc=yes_df.gain.mean(),\n",
        "                   scale=yes_df.gain.std())               "
      ]
    },
    {
      "cell_type": "markdown",
      "metadata": {
        "id": "VdGAU4tKpIC8"
      },
      "source": [
        "#### Note:\n",
        "- Yes Bank has 16% probability of making a gain of 3% or more."
      ]
    },
    {
      "cell_type": "markdown",
      "metadata": {
        "id": "F9mOO0gQpIC8"
      },
      "source": [
        "## Ex1: Participant Exercise\n",
        "\n",
        "1. Download the daily stock price of four or five randomly selected stocks. The stocks can belong to one sector.\n",
        "\n",
        "2. Find out the value at risk (Var) of each stock at 95%.\n",
        "\n",
        "3. Plot the daily gain or loss of all the stocks in one plot.\n",
        "\n",
        "4. Find out the probability of making 4% gain in each of the stock."
      ]
    },
    {
      "cell_type": "markdown",
      "source": [
        "Shivdeep's Solution (March 17, 2023)"
      ],
      "metadata": {
        "id": "yNaFZd1Qwte7"
      }
    },
    {
      "cell_type": "code",
      "source": [
        "import pandas as pd\n",
        "import matplotlib as mplot\n",
        "import matplotlib.pyplot as plt\n",
        "import seaborn as sn"
      ],
      "metadata": {
        "id": "7r4lfiNDwtPc"
      },
      "execution_count": 2,
      "outputs": []
    },
    {
      "cell_type": "markdown",
      "source": [
        "Bajaj Auto"
      ],
      "metadata": {
        "id": "isPpkcxa2sgK"
      }
    },
    {
      "cell_type": "code",
      "source": [
        "bajajauto_df = pd.read_csv( 'https://raw.githubusercontent.com/shivdeepnv/MachineLearningWithPython/main/Session_1/tatamo-500570.csv', \n",
        "                          parse_dates=['Date'] )\n",
        "\n"
      ],
      "metadata": {
        "id": "wpG0nT2ywsZN"
      },
      "execution_count": 3,
      "outputs": []
    },
    {
      "cell_type": "code",
      "source": [
        "bajajauto_df = bajajauto_df.set_index(['Date'], drop=True)"
      ],
      "metadata": {
        "id": "UAVg-Ugu4Yg9"
      },
      "execution_count": 4,
      "outputs": []
    },
    {
      "cell_type": "code",
      "source": [
        "bajajauto_df.head(5)\n",
        "bajajauto_df.sort_index(ascending = True, inplace=True)"
      ],
      "metadata": {
        "id": "QTFx851E5K_6"
      },
      "execution_count": 5,
      "outputs": []
    },
    {
      "cell_type": "code",
      "source": [
        "bajajauto_df[-5:]"
      ],
      "metadata": {
        "colab": {
          "base_uri": "https://localhost:8080/",
          "height": 238
        },
        "id": "0X6wyjXI5UEZ",
        "outputId": "6a124615-1ff9-4571-b327-0c7d169b8c6c"
      },
      "execution_count": 6,
      "outputs": [
        {
          "output_type": "execute_result",
          "data": {
            "text/plain": [
              "            Open Price  High Price  Low Price  Close Price         WAP  \\\n",
              "Date                                                                     \n",
              "2023-03-10      433.85      437.85     431.15       435.75  435.441345   \n",
              "2023-03-13      435.00      437.00     419.35       422.40  427.918032   \n",
              "2023-03-14      422.40      424.05     413.55       416.75  418.467356   \n",
              "2023-03-15      421.40      424.75     410.15       411.25  416.573654   \n",
              "2023-03-16      413.50      418.70     405.00       415.65  412.713604   \n",
              "\n",
              "            No.of Shares  No. of Trades  Total Turnover (Rs.)  \\\n",
              "Date                                                            \n",
              "2023-03-10        401312           8372           174747837.0   \n",
              "2023-03-13        358809           9500           153540841.0   \n",
              "2023-03-14        293547           8543           122839837.0   \n",
              "2023-03-15        571536          17900           238086840.0   \n",
              "2023-03-16        339485           8260           140110078.0   \n",
              "\n",
              "            Deliverable Quantity  % Deli. Qty to Traded Qty  Spread High-Low  \\\n",
              "Date                                                                           \n",
              "2023-03-10               76582.0                      19.08             6.70   \n",
              "2023-03-13              107951.0                      30.09            17.65   \n",
              "2023-03-14               87533.0                      29.82            10.50   \n",
              "2023-03-15              255520.0                      44.71            14.60   \n",
              "2023-03-16               66073.0                      19.46            13.70   \n",
              "\n",
              "            Spread Close-Open  \n",
              "Date                           \n",
              "2023-03-10               1.90  \n",
              "2023-03-13             -12.60  \n",
              "2023-03-14              -5.65  \n",
              "2023-03-15             -10.15  \n",
              "2023-03-16               2.15  "
            ],
            "text/html": [
              "\n",
              "  <div id=\"df-c0def469-4e26-4df7-9dec-ef8850857270\">\n",
              "    <div class=\"colab-df-container\">\n",
              "      <div>\n",
              "<style scoped>\n",
              "    .dataframe tbody tr th:only-of-type {\n",
              "        vertical-align: middle;\n",
              "    }\n",
              "\n",
              "    .dataframe tbody tr th {\n",
              "        vertical-align: top;\n",
              "    }\n",
              "\n",
              "    .dataframe thead th {\n",
              "        text-align: right;\n",
              "    }\n",
              "</style>\n",
              "<table border=\"1\" class=\"dataframe\">\n",
              "  <thead>\n",
              "    <tr style=\"text-align: right;\">\n",
              "      <th></th>\n",
              "      <th>Open Price</th>\n",
              "      <th>High Price</th>\n",
              "      <th>Low Price</th>\n",
              "      <th>Close Price</th>\n",
              "      <th>WAP</th>\n",
              "      <th>No.of Shares</th>\n",
              "      <th>No. of Trades</th>\n",
              "      <th>Total Turnover (Rs.)</th>\n",
              "      <th>Deliverable Quantity</th>\n",
              "      <th>% Deli. Qty to Traded Qty</th>\n",
              "      <th>Spread High-Low</th>\n",
              "      <th>Spread Close-Open</th>\n",
              "    </tr>\n",
              "    <tr>\n",
              "      <th>Date</th>\n",
              "      <th></th>\n",
              "      <th></th>\n",
              "      <th></th>\n",
              "      <th></th>\n",
              "      <th></th>\n",
              "      <th></th>\n",
              "      <th></th>\n",
              "      <th></th>\n",
              "      <th></th>\n",
              "      <th></th>\n",
              "      <th></th>\n",
              "      <th></th>\n",
              "    </tr>\n",
              "  </thead>\n",
              "  <tbody>\n",
              "    <tr>\n",
              "      <th>2023-03-10</th>\n",
              "      <td>433.85</td>\n",
              "      <td>437.85</td>\n",
              "      <td>431.15</td>\n",
              "      <td>435.75</td>\n",
              "      <td>435.441345</td>\n",
              "      <td>401312</td>\n",
              "      <td>8372</td>\n",
              "      <td>174747837.0</td>\n",
              "      <td>76582.0</td>\n",
              "      <td>19.08</td>\n",
              "      <td>6.70</td>\n",
              "      <td>1.90</td>\n",
              "    </tr>\n",
              "    <tr>\n",
              "      <th>2023-03-13</th>\n",
              "      <td>435.00</td>\n",
              "      <td>437.00</td>\n",
              "      <td>419.35</td>\n",
              "      <td>422.40</td>\n",
              "      <td>427.918032</td>\n",
              "      <td>358809</td>\n",
              "      <td>9500</td>\n",
              "      <td>153540841.0</td>\n",
              "      <td>107951.0</td>\n",
              "      <td>30.09</td>\n",
              "      <td>17.65</td>\n",
              "      <td>-12.60</td>\n",
              "    </tr>\n",
              "    <tr>\n",
              "      <th>2023-03-14</th>\n",
              "      <td>422.40</td>\n",
              "      <td>424.05</td>\n",
              "      <td>413.55</td>\n",
              "      <td>416.75</td>\n",
              "      <td>418.467356</td>\n",
              "      <td>293547</td>\n",
              "      <td>8543</td>\n",
              "      <td>122839837.0</td>\n",
              "      <td>87533.0</td>\n",
              "      <td>29.82</td>\n",
              "      <td>10.50</td>\n",
              "      <td>-5.65</td>\n",
              "    </tr>\n",
              "    <tr>\n",
              "      <th>2023-03-15</th>\n",
              "      <td>421.40</td>\n",
              "      <td>424.75</td>\n",
              "      <td>410.15</td>\n",
              "      <td>411.25</td>\n",
              "      <td>416.573654</td>\n",
              "      <td>571536</td>\n",
              "      <td>17900</td>\n",
              "      <td>238086840.0</td>\n",
              "      <td>255520.0</td>\n",
              "      <td>44.71</td>\n",
              "      <td>14.60</td>\n",
              "      <td>-10.15</td>\n",
              "    </tr>\n",
              "    <tr>\n",
              "      <th>2023-03-16</th>\n",
              "      <td>413.50</td>\n",
              "      <td>418.70</td>\n",
              "      <td>405.00</td>\n",
              "      <td>415.65</td>\n",
              "      <td>412.713604</td>\n",
              "      <td>339485</td>\n",
              "      <td>8260</td>\n",
              "      <td>140110078.0</td>\n",
              "      <td>66073.0</td>\n",
              "      <td>19.46</td>\n",
              "      <td>13.70</td>\n",
              "      <td>2.15</td>\n",
              "    </tr>\n",
              "  </tbody>\n",
              "</table>\n",
              "</div>\n",
              "      <button class=\"colab-df-convert\" onclick=\"convertToInteractive('df-c0def469-4e26-4df7-9dec-ef8850857270')\"\n",
              "              title=\"Convert this dataframe to an interactive table.\"\n",
              "              style=\"display:none;\">\n",
              "        \n",
              "  <svg xmlns=\"http://www.w3.org/2000/svg\" height=\"24px\"viewBox=\"0 0 24 24\"\n",
              "       width=\"24px\">\n",
              "    <path d=\"M0 0h24v24H0V0z\" fill=\"none\"/>\n",
              "    <path d=\"M18.56 5.44l.94 2.06.94-2.06 2.06-.94-2.06-.94-.94-2.06-.94 2.06-2.06.94zm-11 1L8.5 8.5l.94-2.06 2.06-.94-2.06-.94L8.5 2.5l-.94 2.06-2.06.94zm10 10l.94 2.06.94-2.06 2.06-.94-2.06-.94-.94-2.06-.94 2.06-2.06.94z\"/><path d=\"M17.41 7.96l-1.37-1.37c-.4-.4-.92-.59-1.43-.59-.52 0-1.04.2-1.43.59L10.3 9.45l-7.72 7.72c-.78.78-.78 2.05 0 2.83L4 21.41c.39.39.9.59 1.41.59.51 0 1.02-.2 1.41-.59l7.78-7.78 2.81-2.81c.8-.78.8-2.07 0-2.86zM5.41 20L4 18.59l7.72-7.72 1.47 1.35L5.41 20z\"/>\n",
              "  </svg>\n",
              "      </button>\n",
              "      \n",
              "  <style>\n",
              "    .colab-df-container {\n",
              "      display:flex;\n",
              "      flex-wrap:wrap;\n",
              "      gap: 12px;\n",
              "    }\n",
              "\n",
              "    .colab-df-convert {\n",
              "      background-color: #E8F0FE;\n",
              "      border: none;\n",
              "      border-radius: 50%;\n",
              "      cursor: pointer;\n",
              "      display: none;\n",
              "      fill: #1967D2;\n",
              "      height: 32px;\n",
              "      padding: 0 0 0 0;\n",
              "      width: 32px;\n",
              "    }\n",
              "\n",
              "    .colab-df-convert:hover {\n",
              "      background-color: #E2EBFA;\n",
              "      box-shadow: 0px 1px 2px rgba(60, 64, 67, 0.3), 0px 1px 3px 1px rgba(60, 64, 67, 0.15);\n",
              "      fill: #174EA6;\n",
              "    }\n",
              "\n",
              "    [theme=dark] .colab-df-convert {\n",
              "      background-color: #3B4455;\n",
              "      fill: #D2E3FC;\n",
              "    }\n",
              "\n",
              "    [theme=dark] .colab-df-convert:hover {\n",
              "      background-color: #434B5C;\n",
              "      box-shadow: 0px 1px 3px 1px rgba(0, 0, 0, 0.15);\n",
              "      filter: drop-shadow(0px 1px 2px rgba(0, 0, 0, 0.3));\n",
              "      fill: #FFFFFF;\n",
              "    }\n",
              "  </style>\n",
              "\n",
              "      <script>\n",
              "        const buttonEl =\n",
              "          document.querySelector('#df-c0def469-4e26-4df7-9dec-ef8850857270 button.colab-df-convert');\n",
              "        buttonEl.style.display =\n",
              "          google.colab.kernel.accessAllowed ? 'block' : 'none';\n",
              "\n",
              "        async function convertToInteractive(key) {\n",
              "          const element = document.querySelector('#df-c0def469-4e26-4df7-9dec-ef8850857270');\n",
              "          const dataTable =\n",
              "            await google.colab.kernel.invokeFunction('convertToInteractive',\n",
              "                                                     [key], {});\n",
              "          if (!dataTable) return;\n",
              "\n",
              "          const docLinkHtml = 'Like what you see? Visit the ' +\n",
              "            '<a target=\"_blank\" href=https://colab.research.google.com/notebooks/data_table.ipynb>data table notebook</a>'\n",
              "            + ' to learn more about interactive tables.';\n",
              "          element.innerHTML = '';\n",
              "          dataTable['output_type'] = 'display_data';\n",
              "          await google.colab.output.renderOutput(dataTable, element);\n",
              "          const docLink = document.createElement('div');\n",
              "          docLink.innerHTML = docLinkHtml;\n",
              "          element.appendChild(docLink);\n",
              "        }\n",
              "      </script>\n",
              "    </div>\n",
              "  </div>\n",
              "  "
            ]
          },
          "metadata": {},
          "execution_count": 6
        }
      ]
    },
    {
      "cell_type": "code",
      "source": [
        "bajajauto_df = bajajauto_df[['Close Price', 'Open Price']]"
      ],
      "metadata": {
        "id": "fdgfGSBP5l1z"
      },
      "execution_count": 7,
      "outputs": []
    },
    {
      "cell_type": "code",
      "source": [
        "bajajauto_df[0:5]"
      ],
      "metadata": {
        "colab": {
          "base_uri": "https://localhost:8080/",
          "height": 238
        },
        "id": "QmCcCzkg5loI",
        "outputId": "919ae5e0-e1d8-4d68-9771-23555b79a4f3"
      },
      "execution_count": 8,
      "outputs": [
        {
          "output_type": "execute_result",
          "data": {
            "text/plain": [
              "            Close Price  Open Price\n",
              "Date                               \n",
              "2022-10-03       397.65       405.9\n",
              "2022-10-04       407.95       406.0\n",
              "2022-10-06       414.00       409.0\n",
              "2022-10-07       412.20       414.0\n",
              "2022-10-10       395.95       403.1"
            ],
            "text/html": [
              "\n",
              "  <div id=\"df-73eece01-fac8-41bb-9685-96d694a9846a\">\n",
              "    <div class=\"colab-df-container\">\n",
              "      <div>\n",
              "<style scoped>\n",
              "    .dataframe tbody tr th:only-of-type {\n",
              "        vertical-align: middle;\n",
              "    }\n",
              "\n",
              "    .dataframe tbody tr th {\n",
              "        vertical-align: top;\n",
              "    }\n",
              "\n",
              "    .dataframe thead th {\n",
              "        text-align: right;\n",
              "    }\n",
              "</style>\n",
              "<table border=\"1\" class=\"dataframe\">\n",
              "  <thead>\n",
              "    <tr style=\"text-align: right;\">\n",
              "      <th></th>\n",
              "      <th>Close Price</th>\n",
              "      <th>Open Price</th>\n",
              "    </tr>\n",
              "    <tr>\n",
              "      <th>Date</th>\n",
              "      <th></th>\n",
              "      <th></th>\n",
              "    </tr>\n",
              "  </thead>\n",
              "  <tbody>\n",
              "    <tr>\n",
              "      <th>2022-10-03</th>\n",
              "      <td>397.65</td>\n",
              "      <td>405.9</td>\n",
              "    </tr>\n",
              "    <tr>\n",
              "      <th>2022-10-04</th>\n",
              "      <td>407.95</td>\n",
              "      <td>406.0</td>\n",
              "    </tr>\n",
              "    <tr>\n",
              "      <th>2022-10-06</th>\n",
              "      <td>414.00</td>\n",
              "      <td>409.0</td>\n",
              "    </tr>\n",
              "    <tr>\n",
              "      <th>2022-10-07</th>\n",
              "      <td>412.20</td>\n",
              "      <td>414.0</td>\n",
              "    </tr>\n",
              "    <tr>\n",
              "      <th>2022-10-10</th>\n",
              "      <td>395.95</td>\n",
              "      <td>403.1</td>\n",
              "    </tr>\n",
              "  </tbody>\n",
              "</table>\n",
              "</div>\n",
              "      <button class=\"colab-df-convert\" onclick=\"convertToInteractive('df-73eece01-fac8-41bb-9685-96d694a9846a')\"\n",
              "              title=\"Convert this dataframe to an interactive table.\"\n",
              "              style=\"display:none;\">\n",
              "        \n",
              "  <svg xmlns=\"http://www.w3.org/2000/svg\" height=\"24px\"viewBox=\"0 0 24 24\"\n",
              "       width=\"24px\">\n",
              "    <path d=\"M0 0h24v24H0V0z\" fill=\"none\"/>\n",
              "    <path d=\"M18.56 5.44l.94 2.06.94-2.06 2.06-.94-2.06-.94-.94-2.06-.94 2.06-2.06.94zm-11 1L8.5 8.5l.94-2.06 2.06-.94-2.06-.94L8.5 2.5l-.94 2.06-2.06.94zm10 10l.94 2.06.94-2.06 2.06-.94-2.06-.94-.94-2.06-.94 2.06-2.06.94z\"/><path d=\"M17.41 7.96l-1.37-1.37c-.4-.4-.92-.59-1.43-.59-.52 0-1.04.2-1.43.59L10.3 9.45l-7.72 7.72c-.78.78-.78 2.05 0 2.83L4 21.41c.39.39.9.59 1.41.59.51 0 1.02-.2 1.41-.59l7.78-7.78 2.81-2.81c.8-.78.8-2.07 0-2.86zM5.41 20L4 18.59l7.72-7.72 1.47 1.35L5.41 20z\"/>\n",
              "  </svg>\n",
              "      </button>\n",
              "      \n",
              "  <style>\n",
              "    .colab-df-container {\n",
              "      display:flex;\n",
              "      flex-wrap:wrap;\n",
              "      gap: 12px;\n",
              "    }\n",
              "\n",
              "    .colab-df-convert {\n",
              "      background-color: #E8F0FE;\n",
              "      border: none;\n",
              "      border-radius: 50%;\n",
              "      cursor: pointer;\n",
              "      display: none;\n",
              "      fill: #1967D2;\n",
              "      height: 32px;\n",
              "      padding: 0 0 0 0;\n",
              "      width: 32px;\n",
              "    }\n",
              "\n",
              "    .colab-df-convert:hover {\n",
              "      background-color: #E2EBFA;\n",
              "      box-shadow: 0px 1px 2px rgba(60, 64, 67, 0.3), 0px 1px 3px 1px rgba(60, 64, 67, 0.15);\n",
              "      fill: #174EA6;\n",
              "    }\n",
              "\n",
              "    [theme=dark] .colab-df-convert {\n",
              "      background-color: #3B4455;\n",
              "      fill: #D2E3FC;\n",
              "    }\n",
              "\n",
              "    [theme=dark] .colab-df-convert:hover {\n",
              "      background-color: #434B5C;\n",
              "      box-shadow: 0px 1px 3px 1px rgba(0, 0, 0, 0.15);\n",
              "      filter: drop-shadow(0px 1px 2px rgba(0, 0, 0, 0.3));\n",
              "      fill: #FFFFFF;\n",
              "    }\n",
              "  </style>\n",
              "\n",
              "      <script>\n",
              "        const buttonEl =\n",
              "          document.querySelector('#df-73eece01-fac8-41bb-9685-96d694a9846a button.colab-df-convert');\n",
              "        buttonEl.style.display =\n",
              "          google.colab.kernel.accessAllowed ? 'block' : 'none';\n",
              "\n",
              "        async function convertToInteractive(key) {\n",
              "          const element = document.querySelector('#df-73eece01-fac8-41bb-9685-96d694a9846a');\n",
              "          const dataTable =\n",
              "            await google.colab.kernel.invokeFunction('convertToInteractive',\n",
              "                                                     [key], {});\n",
              "          if (!dataTable) return;\n",
              "\n",
              "          const docLinkHtml = 'Like what you see? Visit the ' +\n",
              "            '<a target=\"_blank\" href=https://colab.research.google.com/notebooks/data_table.ipynb>data table notebook</a>'\n",
              "            + ' to learn more about interactive tables.';\n",
              "          element.innerHTML = '';\n",
              "          dataTable['output_type'] = 'display_data';\n",
              "          await google.colab.output.renderOutput(dataTable, element);\n",
              "          const docLink = document.createElement('div');\n",
              "          docLink.innerHTML = docLinkHtml;\n",
              "          element.appendChild(docLink);\n",
              "        }\n",
              "      </script>\n",
              "    </div>\n",
              "  </div>\n",
              "  "
            ]
          },
          "metadata": {},
          "execution_count": 8
        }
      ]
    },
    {
      "cell_type": "code",
      "source": [
        "bajajauto_df[\"gain\"] = ((bajajauto_df['Close Price'] - bajajauto_df['Open Price']) * 100 / bajajauto_df['Open Price'])"
      ],
      "metadata": {
        "id": "D2Q-IIyt5lYE"
      },
      "execution_count": 9,
      "outputs": []
    },
    {
      "cell_type": "markdown",
      "source": [
        "Daily gains/ losses are captured and are added to the same dataframe"
      ],
      "metadata": {
        "id": "WaC0mVmjEzWX"
      }
    },
    {
      "cell_type": "code",
      "source": [
        "bajajauto_df.head(5)"
      ],
      "metadata": {
        "colab": {
          "base_uri": "https://localhost:8080/",
          "height": 238
        },
        "id": "ai8b2bSSEjzb",
        "outputId": "bf1e6508-010a-4ae1-aec0-b345f05124e8"
      },
      "execution_count": 10,
      "outputs": [
        {
          "output_type": "execute_result",
          "data": {
            "text/plain": [
              "            Close Price  Open Price      gain\n",
              "Date                                         \n",
              "2022-10-03       397.65       405.9 -2.032520\n",
              "2022-10-04       407.95       406.0  0.480296\n",
              "2022-10-06       414.00       409.0  1.222494\n",
              "2022-10-07       412.20       414.0 -0.434783\n",
              "2022-10-10       395.95       403.1 -1.773753"
            ],
            "text/html": [
              "\n",
              "  <div id=\"df-d1fc2adc-b59d-4bd3-a491-409a898f21b0\">\n",
              "    <div class=\"colab-df-container\">\n",
              "      <div>\n",
              "<style scoped>\n",
              "    .dataframe tbody tr th:only-of-type {\n",
              "        vertical-align: middle;\n",
              "    }\n",
              "\n",
              "    .dataframe tbody tr th {\n",
              "        vertical-align: top;\n",
              "    }\n",
              "\n",
              "    .dataframe thead th {\n",
              "        text-align: right;\n",
              "    }\n",
              "</style>\n",
              "<table border=\"1\" class=\"dataframe\">\n",
              "  <thead>\n",
              "    <tr style=\"text-align: right;\">\n",
              "      <th></th>\n",
              "      <th>Close Price</th>\n",
              "      <th>Open Price</th>\n",
              "      <th>gain</th>\n",
              "    </tr>\n",
              "    <tr>\n",
              "      <th>Date</th>\n",
              "      <th></th>\n",
              "      <th></th>\n",
              "      <th></th>\n",
              "    </tr>\n",
              "  </thead>\n",
              "  <tbody>\n",
              "    <tr>\n",
              "      <th>2022-10-03</th>\n",
              "      <td>397.65</td>\n",
              "      <td>405.9</td>\n",
              "      <td>-2.032520</td>\n",
              "    </tr>\n",
              "    <tr>\n",
              "      <th>2022-10-04</th>\n",
              "      <td>407.95</td>\n",
              "      <td>406.0</td>\n",
              "      <td>0.480296</td>\n",
              "    </tr>\n",
              "    <tr>\n",
              "      <th>2022-10-06</th>\n",
              "      <td>414.00</td>\n",
              "      <td>409.0</td>\n",
              "      <td>1.222494</td>\n",
              "    </tr>\n",
              "    <tr>\n",
              "      <th>2022-10-07</th>\n",
              "      <td>412.20</td>\n",
              "      <td>414.0</td>\n",
              "      <td>-0.434783</td>\n",
              "    </tr>\n",
              "    <tr>\n",
              "      <th>2022-10-10</th>\n",
              "      <td>395.95</td>\n",
              "      <td>403.1</td>\n",
              "      <td>-1.773753</td>\n",
              "    </tr>\n",
              "  </tbody>\n",
              "</table>\n",
              "</div>\n",
              "      <button class=\"colab-df-convert\" onclick=\"convertToInteractive('df-d1fc2adc-b59d-4bd3-a491-409a898f21b0')\"\n",
              "              title=\"Convert this dataframe to an interactive table.\"\n",
              "              style=\"display:none;\">\n",
              "        \n",
              "  <svg xmlns=\"http://www.w3.org/2000/svg\" height=\"24px\"viewBox=\"0 0 24 24\"\n",
              "       width=\"24px\">\n",
              "    <path d=\"M0 0h24v24H0V0z\" fill=\"none\"/>\n",
              "    <path d=\"M18.56 5.44l.94 2.06.94-2.06 2.06-.94-2.06-.94-.94-2.06-.94 2.06-2.06.94zm-11 1L8.5 8.5l.94-2.06 2.06-.94-2.06-.94L8.5 2.5l-.94 2.06-2.06.94zm10 10l.94 2.06.94-2.06 2.06-.94-2.06-.94-.94-2.06-.94 2.06-2.06.94z\"/><path d=\"M17.41 7.96l-1.37-1.37c-.4-.4-.92-.59-1.43-.59-.52 0-1.04.2-1.43.59L10.3 9.45l-7.72 7.72c-.78.78-.78 2.05 0 2.83L4 21.41c.39.39.9.59 1.41.59.51 0 1.02-.2 1.41-.59l7.78-7.78 2.81-2.81c.8-.78.8-2.07 0-2.86zM5.41 20L4 18.59l7.72-7.72 1.47 1.35L5.41 20z\"/>\n",
              "  </svg>\n",
              "      </button>\n",
              "      \n",
              "  <style>\n",
              "    .colab-df-container {\n",
              "      display:flex;\n",
              "      flex-wrap:wrap;\n",
              "      gap: 12px;\n",
              "    }\n",
              "\n",
              "    .colab-df-convert {\n",
              "      background-color: #E8F0FE;\n",
              "      border: none;\n",
              "      border-radius: 50%;\n",
              "      cursor: pointer;\n",
              "      display: none;\n",
              "      fill: #1967D2;\n",
              "      height: 32px;\n",
              "      padding: 0 0 0 0;\n",
              "      width: 32px;\n",
              "    }\n",
              "\n",
              "    .colab-df-convert:hover {\n",
              "      background-color: #E2EBFA;\n",
              "      box-shadow: 0px 1px 2px rgba(60, 64, 67, 0.3), 0px 1px 3px 1px rgba(60, 64, 67, 0.15);\n",
              "      fill: #174EA6;\n",
              "    }\n",
              "\n",
              "    [theme=dark] .colab-df-convert {\n",
              "      background-color: #3B4455;\n",
              "      fill: #D2E3FC;\n",
              "    }\n",
              "\n",
              "    [theme=dark] .colab-df-convert:hover {\n",
              "      background-color: #434B5C;\n",
              "      box-shadow: 0px 1px 3px 1px rgba(0, 0, 0, 0.15);\n",
              "      filter: drop-shadow(0px 1px 2px rgba(0, 0, 0, 0.3));\n",
              "      fill: #FFFFFF;\n",
              "    }\n",
              "  </style>\n",
              "\n",
              "      <script>\n",
              "        const buttonEl =\n",
              "          document.querySelector('#df-d1fc2adc-b59d-4bd3-a491-409a898f21b0 button.colab-df-convert');\n",
              "        buttonEl.style.display =\n",
              "          google.colab.kernel.accessAllowed ? 'block' : 'none';\n",
              "\n",
              "        async function convertToInteractive(key) {\n",
              "          const element = document.querySelector('#df-d1fc2adc-b59d-4bd3-a491-409a898f21b0');\n",
              "          const dataTable =\n",
              "            await google.colab.kernel.invokeFunction('convertToInteractive',\n",
              "                                                     [key], {});\n",
              "          if (!dataTable) return;\n",
              "\n",
              "          const docLinkHtml = 'Like what you see? Visit the ' +\n",
              "            '<a target=\"_blank\" href=https://colab.research.google.com/notebooks/data_table.ipynb>data table notebook</a>'\n",
              "            + ' to learn more about interactive tables.';\n",
              "          element.innerHTML = '';\n",
              "          dataTable['output_type'] = 'display_data';\n",
              "          await google.colab.output.renderOutput(dataTable, element);\n",
              "          const docLink = document.createElement('div');\n",
              "          docLink.innerHTML = docLinkHtml;\n",
              "          element.appendChild(docLink);\n",
              "        }\n",
              "      </script>\n",
              "    </div>\n",
              "  </div>\n",
              "  "
            ]
          },
          "metadata": {},
          "execution_count": 10
        }
      ]
    },
    {
      "cell_type": "markdown",
      "source": [
        "Eicher Motors"
      ],
      "metadata": {
        "id": "QE_WI0pC2ziC"
      }
    },
    {
      "cell_type": "code",
      "source": [
        "eichermotors_df = pd.read_csv( 'https://raw.githubusercontent.com/shivdeepnv/MachineLearningWithPython/main/Session_1/eicher-motors-505200.csv', \n",
        "                       parse_dates=['Date'] )"
      ],
      "metadata": {
        "id": "nnCPYFIq201O"
      },
      "execution_count": 11,
      "outputs": []
    },
    {
      "cell_type": "code",
      "source": [
        "eichermotors_df =  eichermotors_df.set_index(['Date'], drop=True)"
      ],
      "metadata": {
        "id": "RhHq0jqK2_Bz"
      },
      "execution_count": 12,
      "outputs": []
    },
    {
      "cell_type": "code",
      "source": [
        "eichermotors_df.sort_index(ascending=True, inplace=True)"
      ],
      "metadata": {
        "id": "9gVK8fTjF3dP"
      },
      "execution_count": 13,
      "outputs": []
    },
    {
      "cell_type": "code",
      "source": [
        "# Overwrite DF with only close price and Open Price\n",
        "eichermotors_df = eichermotors_df[['Close Price', 'Open Price']]"
      ],
      "metadata": {
        "id": "O-XiHgieF4QN"
      },
      "execution_count": 14,
      "outputs": []
    },
    {
      "cell_type": "code",
      "source": [
        "# Calculate daily gains\n",
        "eichermotors_df[\"gain\"] = ((eichermotors_df['Close Price'] - eichermotors_df['Open Price']) * 100 / eichermotors_df['Open Price'])"
      ],
      "metadata": {
        "id": "zTHvWWqmGZ-L"
      },
      "execution_count": 15,
      "outputs": []
    },
    {
      "cell_type": "code",
      "source": [
        "eichermotors_df.head(5)"
      ],
      "metadata": {
        "colab": {
          "base_uri": "https://localhost:8080/",
          "height": 238
        },
        "id": "B2pQNU8HG7d6",
        "outputId": "c652dec5-2082-4881-d466-2d7d4df90818"
      },
      "execution_count": 16,
      "outputs": [
        {
          "output_type": "execute_result",
          "data": {
            "text/plain": [
              "            Close Price  Open Price      gain\n",
              "Date                                         \n",
              "2022-10-03      3463.80     3776.00 -8.268008\n",
              "2022-10-04      3555.00     3549.95  0.142256\n",
              "2022-10-06      3531.40     3550.05 -0.525345\n",
              "2022-10-07      3498.60     3531.40 -0.928810\n",
              "2022-10-10      3532.35     3450.20  2.381021"
            ],
            "text/html": [
              "\n",
              "  <div id=\"df-df401e13-769b-4b4a-97a4-2ce1ee2c045f\">\n",
              "    <div class=\"colab-df-container\">\n",
              "      <div>\n",
              "<style scoped>\n",
              "    .dataframe tbody tr th:only-of-type {\n",
              "        vertical-align: middle;\n",
              "    }\n",
              "\n",
              "    .dataframe tbody tr th {\n",
              "        vertical-align: top;\n",
              "    }\n",
              "\n",
              "    .dataframe thead th {\n",
              "        text-align: right;\n",
              "    }\n",
              "</style>\n",
              "<table border=\"1\" class=\"dataframe\">\n",
              "  <thead>\n",
              "    <tr style=\"text-align: right;\">\n",
              "      <th></th>\n",
              "      <th>Close Price</th>\n",
              "      <th>Open Price</th>\n",
              "      <th>gain</th>\n",
              "    </tr>\n",
              "    <tr>\n",
              "      <th>Date</th>\n",
              "      <th></th>\n",
              "      <th></th>\n",
              "      <th></th>\n",
              "    </tr>\n",
              "  </thead>\n",
              "  <tbody>\n",
              "    <tr>\n",
              "      <th>2022-10-03</th>\n",
              "      <td>3463.80</td>\n",
              "      <td>3776.00</td>\n",
              "      <td>-8.268008</td>\n",
              "    </tr>\n",
              "    <tr>\n",
              "      <th>2022-10-04</th>\n",
              "      <td>3555.00</td>\n",
              "      <td>3549.95</td>\n",
              "      <td>0.142256</td>\n",
              "    </tr>\n",
              "    <tr>\n",
              "      <th>2022-10-06</th>\n",
              "      <td>3531.40</td>\n",
              "      <td>3550.05</td>\n",
              "      <td>-0.525345</td>\n",
              "    </tr>\n",
              "    <tr>\n",
              "      <th>2022-10-07</th>\n",
              "      <td>3498.60</td>\n",
              "      <td>3531.40</td>\n",
              "      <td>-0.928810</td>\n",
              "    </tr>\n",
              "    <tr>\n",
              "      <th>2022-10-10</th>\n",
              "      <td>3532.35</td>\n",
              "      <td>3450.20</td>\n",
              "      <td>2.381021</td>\n",
              "    </tr>\n",
              "  </tbody>\n",
              "</table>\n",
              "</div>\n",
              "      <button class=\"colab-df-convert\" onclick=\"convertToInteractive('df-df401e13-769b-4b4a-97a4-2ce1ee2c045f')\"\n",
              "              title=\"Convert this dataframe to an interactive table.\"\n",
              "              style=\"display:none;\">\n",
              "        \n",
              "  <svg xmlns=\"http://www.w3.org/2000/svg\" height=\"24px\"viewBox=\"0 0 24 24\"\n",
              "       width=\"24px\">\n",
              "    <path d=\"M0 0h24v24H0V0z\" fill=\"none\"/>\n",
              "    <path d=\"M18.56 5.44l.94 2.06.94-2.06 2.06-.94-2.06-.94-.94-2.06-.94 2.06-2.06.94zm-11 1L8.5 8.5l.94-2.06 2.06-.94-2.06-.94L8.5 2.5l-.94 2.06-2.06.94zm10 10l.94 2.06.94-2.06 2.06-.94-2.06-.94-.94-2.06-.94 2.06-2.06.94z\"/><path d=\"M17.41 7.96l-1.37-1.37c-.4-.4-.92-.59-1.43-.59-.52 0-1.04.2-1.43.59L10.3 9.45l-7.72 7.72c-.78.78-.78 2.05 0 2.83L4 21.41c.39.39.9.59 1.41.59.51 0 1.02-.2 1.41-.59l7.78-7.78 2.81-2.81c.8-.78.8-2.07 0-2.86zM5.41 20L4 18.59l7.72-7.72 1.47 1.35L5.41 20z\"/>\n",
              "  </svg>\n",
              "      </button>\n",
              "      \n",
              "  <style>\n",
              "    .colab-df-container {\n",
              "      display:flex;\n",
              "      flex-wrap:wrap;\n",
              "      gap: 12px;\n",
              "    }\n",
              "\n",
              "    .colab-df-convert {\n",
              "      background-color: #E8F0FE;\n",
              "      border: none;\n",
              "      border-radius: 50%;\n",
              "      cursor: pointer;\n",
              "      display: none;\n",
              "      fill: #1967D2;\n",
              "      height: 32px;\n",
              "      padding: 0 0 0 0;\n",
              "      width: 32px;\n",
              "    }\n",
              "\n",
              "    .colab-df-convert:hover {\n",
              "      background-color: #E2EBFA;\n",
              "      box-shadow: 0px 1px 2px rgba(60, 64, 67, 0.3), 0px 1px 3px 1px rgba(60, 64, 67, 0.15);\n",
              "      fill: #174EA6;\n",
              "    }\n",
              "\n",
              "    [theme=dark] .colab-df-convert {\n",
              "      background-color: #3B4455;\n",
              "      fill: #D2E3FC;\n",
              "    }\n",
              "\n",
              "    [theme=dark] .colab-df-convert:hover {\n",
              "      background-color: #434B5C;\n",
              "      box-shadow: 0px 1px 3px 1px rgba(0, 0, 0, 0.15);\n",
              "      filter: drop-shadow(0px 1px 2px rgba(0, 0, 0, 0.3));\n",
              "      fill: #FFFFFF;\n",
              "    }\n",
              "  </style>\n",
              "\n",
              "      <script>\n",
              "        const buttonEl =\n",
              "          document.querySelector('#df-df401e13-769b-4b4a-97a4-2ce1ee2c045f button.colab-df-convert');\n",
              "        buttonEl.style.display =\n",
              "          google.colab.kernel.accessAllowed ? 'block' : 'none';\n",
              "\n",
              "        async function convertToInteractive(key) {\n",
              "          const element = document.querySelector('#df-df401e13-769b-4b4a-97a4-2ce1ee2c045f');\n",
              "          const dataTable =\n",
              "            await google.colab.kernel.invokeFunction('convertToInteractive',\n",
              "                                                     [key], {});\n",
              "          if (!dataTable) return;\n",
              "\n",
              "          const docLinkHtml = 'Like what you see? Visit the ' +\n",
              "            '<a target=\"_blank\" href=https://colab.research.google.com/notebooks/data_table.ipynb>data table notebook</a>'\n",
              "            + ' to learn more about interactive tables.';\n",
              "          element.innerHTML = '';\n",
              "          dataTable['output_type'] = 'display_data';\n",
              "          await google.colab.output.renderOutput(dataTable, element);\n",
              "          const docLink = document.createElement('div');\n",
              "          docLink.innerHTML = docLinkHtml;\n",
              "          element.appendChild(docLink);\n",
              "        }\n",
              "      </script>\n",
              "    </div>\n",
              "  </div>\n",
              "  "
            ]
          },
          "metadata": {},
          "execution_count": 16
        }
      ]
    },
    {
      "cell_type": "markdown",
      "source": [
        "Mahindra"
      ],
      "metadata": {
        "id": "UsS1HDW_21aH"
      }
    },
    {
      "cell_type": "code",
      "source": [
        "mahindra_df = pd.read_csv( 'https://raw.githubusercontent.com/shivdeepnv/MachineLearningWithPython/main/Session_1/m%26m-500520.csv', \n",
        "                       parse_dates=['Date'] )"
      ],
      "metadata": {
        "id": "N2zc_7Qp22T3"
      },
      "execution_count": 17,
      "outputs": []
    },
    {
      "cell_type": "code",
      "source": [
        "# Set the date column as index\n",
        "mahindra_df =  mahindra_df.set_index(['Date'], drop=True)"
      ],
      "metadata": {
        "id": "yqJQ7t095JcG"
      },
      "execution_count": 18,
      "outputs": []
    },
    {
      "cell_type": "code",
      "source": [
        "# Sort the date column in place\n",
        "mahindra_df.sort_index(ascending=True, inplace=True)"
      ],
      "metadata": {
        "id": "4muDgMcZ5M_2"
      },
      "execution_count": 19,
      "outputs": []
    },
    {
      "cell_type": "code",
      "source": [
        "# Overwrite DF with only close price and Open Price\n",
        "mahindra_df = mahindra_df[['Close Price', 'Open Price']]"
      ],
      "metadata": {
        "id": "GSu46AqR5PKc"
      },
      "execution_count": 20,
      "outputs": []
    },
    {
      "cell_type": "code",
      "source": [
        "# Calculate daily gains\n",
        "mahindra_df[\"gain\"] = ((mahindra_df['Close Price'] - mahindra_df['Open Price']) * 100 / mahindra_df['Open Price'])"
      ],
      "metadata": {
        "id": "6LRdQ7Jv5SuY"
      },
      "execution_count": 21,
      "outputs": []
    },
    {
      "cell_type": "code",
      "source": [
        "mahindra_df.head(5)"
      ],
      "metadata": {
        "colab": {
          "base_uri": "https://localhost:8080/",
          "height": 238
        },
        "id": "xZuEmD785TPk",
        "outputId": "b9fca0a8-4012-409a-ab59-8b6a5bed9819"
      },
      "execution_count": 22,
      "outputs": [
        {
          "output_type": "execute_result",
          "data": {
            "text/plain": [
              "            Close Price  Open Price      gain\n",
              "Date                                         \n",
              "2022-10-03      1251.50      1266.0 -1.145340\n",
              "2022-10-04      1259.85      1266.0 -0.485782\n",
              "2022-10-06      1256.45      1265.0 -0.675889\n",
              "2022-10-07      1239.25      1256.1 -1.341454\n",
              "2022-10-10      1243.00      1232.2  0.876481"
            ],
            "text/html": [
              "\n",
              "  <div id=\"df-4b0e124c-1609-4529-b434-6276cf94fdac\">\n",
              "    <div class=\"colab-df-container\">\n",
              "      <div>\n",
              "<style scoped>\n",
              "    .dataframe tbody tr th:only-of-type {\n",
              "        vertical-align: middle;\n",
              "    }\n",
              "\n",
              "    .dataframe tbody tr th {\n",
              "        vertical-align: top;\n",
              "    }\n",
              "\n",
              "    .dataframe thead th {\n",
              "        text-align: right;\n",
              "    }\n",
              "</style>\n",
              "<table border=\"1\" class=\"dataframe\">\n",
              "  <thead>\n",
              "    <tr style=\"text-align: right;\">\n",
              "      <th></th>\n",
              "      <th>Close Price</th>\n",
              "      <th>Open Price</th>\n",
              "      <th>gain</th>\n",
              "    </tr>\n",
              "    <tr>\n",
              "      <th>Date</th>\n",
              "      <th></th>\n",
              "      <th></th>\n",
              "      <th></th>\n",
              "    </tr>\n",
              "  </thead>\n",
              "  <tbody>\n",
              "    <tr>\n",
              "      <th>2022-10-03</th>\n",
              "      <td>1251.50</td>\n",
              "      <td>1266.0</td>\n",
              "      <td>-1.145340</td>\n",
              "    </tr>\n",
              "    <tr>\n",
              "      <th>2022-10-04</th>\n",
              "      <td>1259.85</td>\n",
              "      <td>1266.0</td>\n",
              "      <td>-0.485782</td>\n",
              "    </tr>\n",
              "    <tr>\n",
              "      <th>2022-10-06</th>\n",
              "      <td>1256.45</td>\n",
              "      <td>1265.0</td>\n",
              "      <td>-0.675889</td>\n",
              "    </tr>\n",
              "    <tr>\n",
              "      <th>2022-10-07</th>\n",
              "      <td>1239.25</td>\n",
              "      <td>1256.1</td>\n",
              "      <td>-1.341454</td>\n",
              "    </tr>\n",
              "    <tr>\n",
              "      <th>2022-10-10</th>\n",
              "      <td>1243.00</td>\n",
              "      <td>1232.2</td>\n",
              "      <td>0.876481</td>\n",
              "    </tr>\n",
              "  </tbody>\n",
              "</table>\n",
              "</div>\n",
              "      <button class=\"colab-df-convert\" onclick=\"convertToInteractive('df-4b0e124c-1609-4529-b434-6276cf94fdac')\"\n",
              "              title=\"Convert this dataframe to an interactive table.\"\n",
              "              style=\"display:none;\">\n",
              "        \n",
              "  <svg xmlns=\"http://www.w3.org/2000/svg\" height=\"24px\"viewBox=\"0 0 24 24\"\n",
              "       width=\"24px\">\n",
              "    <path d=\"M0 0h24v24H0V0z\" fill=\"none\"/>\n",
              "    <path d=\"M18.56 5.44l.94 2.06.94-2.06 2.06-.94-2.06-.94-.94-2.06-.94 2.06-2.06.94zm-11 1L8.5 8.5l.94-2.06 2.06-.94-2.06-.94L8.5 2.5l-.94 2.06-2.06.94zm10 10l.94 2.06.94-2.06 2.06-.94-2.06-.94-.94-2.06-.94 2.06-2.06.94z\"/><path d=\"M17.41 7.96l-1.37-1.37c-.4-.4-.92-.59-1.43-.59-.52 0-1.04.2-1.43.59L10.3 9.45l-7.72 7.72c-.78.78-.78 2.05 0 2.83L4 21.41c.39.39.9.59 1.41.59.51 0 1.02-.2 1.41-.59l7.78-7.78 2.81-2.81c.8-.78.8-2.07 0-2.86zM5.41 20L4 18.59l7.72-7.72 1.47 1.35L5.41 20z\"/>\n",
              "  </svg>\n",
              "      </button>\n",
              "      \n",
              "  <style>\n",
              "    .colab-df-container {\n",
              "      display:flex;\n",
              "      flex-wrap:wrap;\n",
              "      gap: 12px;\n",
              "    }\n",
              "\n",
              "    .colab-df-convert {\n",
              "      background-color: #E8F0FE;\n",
              "      border: none;\n",
              "      border-radius: 50%;\n",
              "      cursor: pointer;\n",
              "      display: none;\n",
              "      fill: #1967D2;\n",
              "      height: 32px;\n",
              "      padding: 0 0 0 0;\n",
              "      width: 32px;\n",
              "    }\n",
              "\n",
              "    .colab-df-convert:hover {\n",
              "      background-color: #E2EBFA;\n",
              "      box-shadow: 0px 1px 2px rgba(60, 64, 67, 0.3), 0px 1px 3px 1px rgba(60, 64, 67, 0.15);\n",
              "      fill: #174EA6;\n",
              "    }\n",
              "\n",
              "    [theme=dark] .colab-df-convert {\n",
              "      background-color: #3B4455;\n",
              "      fill: #D2E3FC;\n",
              "    }\n",
              "\n",
              "    [theme=dark] .colab-df-convert:hover {\n",
              "      background-color: #434B5C;\n",
              "      box-shadow: 0px 1px 3px 1px rgba(0, 0, 0, 0.15);\n",
              "      filter: drop-shadow(0px 1px 2px rgba(0, 0, 0, 0.3));\n",
              "      fill: #FFFFFF;\n",
              "    }\n",
              "  </style>\n",
              "\n",
              "      <script>\n",
              "        const buttonEl =\n",
              "          document.querySelector('#df-4b0e124c-1609-4529-b434-6276cf94fdac button.colab-df-convert');\n",
              "        buttonEl.style.display =\n",
              "          google.colab.kernel.accessAllowed ? 'block' : 'none';\n",
              "\n",
              "        async function convertToInteractive(key) {\n",
              "          const element = document.querySelector('#df-4b0e124c-1609-4529-b434-6276cf94fdac');\n",
              "          const dataTable =\n",
              "            await google.colab.kernel.invokeFunction('convertToInteractive',\n",
              "                                                     [key], {});\n",
              "          if (!dataTable) return;\n",
              "\n",
              "          const docLinkHtml = 'Like what you see? Visit the ' +\n",
              "            '<a target=\"_blank\" href=https://colab.research.google.com/notebooks/data_table.ipynb>data table notebook</a>'\n",
              "            + ' to learn more about interactive tables.';\n",
              "          element.innerHTML = '';\n",
              "          dataTable['output_type'] = 'display_data';\n",
              "          await google.colab.output.renderOutput(dataTable, element);\n",
              "          const docLink = document.createElement('div');\n",
              "          docLink.innerHTML = docLinkHtml;\n",
              "          element.appendChild(docLink);\n",
              "        }\n",
              "      </script>\n",
              "    </div>\n",
              "  </div>\n",
              "  "
            ]
          },
          "metadata": {},
          "execution_count": 22
        }
      ]
    },
    {
      "cell_type": "markdown",
      "source": [
        "Maruti Suzuki"
      ],
      "metadata": {
        "id": "m7ERf80e22qr"
      }
    },
    {
      "cell_type": "code",
      "source": [
        "maruti_df = pd.read_csv( 'https://raw.githubusercontent.com/shivdeepnv/MachineLearningWithPython/main/Session_1/maruti-suzuki-532500.csv', \n",
        "                       parse_dates=['Date'] )"
      ],
      "metadata": {
        "id": "OQtAXpit23WB"
      },
      "execution_count": 67,
      "outputs": []
    },
    {
      "cell_type": "code",
      "source": [
        "# Set the date column as index\n",
        "maruti_df =  maruti_df.set_index(['Date'], drop=True)"
      ],
      "metadata": {
        "id": "9MLCHLBO5y1h"
      },
      "execution_count": 68,
      "outputs": []
    },
    {
      "cell_type": "code",
      "source": [
        "# Sort the date column in place\n",
        "maruti_df.sort_index(ascending=True, inplace=True)"
      ],
      "metadata": {
        "id": "v_iWtUyN5zHx"
      },
      "execution_count": 69,
      "outputs": []
    },
    {
      "cell_type": "code",
      "source": [
        "# Overwrite DF with only close price and Open Price\n",
        "maruti_df = maruti_df[['Close Price', 'Open Price']]"
      ],
      "metadata": {
        "id": "tBk_5dqv5zcQ"
      },
      "execution_count": 70,
      "outputs": []
    },
    {
      "cell_type": "code",
      "source": [
        "# Calculate daily gains\n",
        "maruti_df[\"gain\"] = ((maruti_df['Close Price'] - maruti_df['Open Price']) * 100 / maruti_df['Open Price'])"
      ],
      "metadata": {
        "id": "wgl6XXwY5z0B"
      },
      "execution_count": 71,
      "outputs": []
    },
    {
      "cell_type": "code",
      "source": [
        "maruti_df.head(5)"
      ],
      "metadata": {
        "colab": {
          "base_uri": "https://localhost:8080/",
          "height": 238
        },
        "id": "cOr_5WkS6G5f",
        "outputId": "2c224d6d-14fe-45ec-86af-7327ffa0cd13"
      },
      "execution_count": 72,
      "outputs": [
        {
          "output_type": "execute_result",
          "data": {
            "text/plain": [
              "            Close Price  Open Price      gain\n",
              "Date                                         \n",
              "2022-10-03      8544.40     8950.00 -4.531844\n",
              "2022-10-04      8687.45     8661.05  0.304813\n",
              "2022-10-06      8702.25     8744.95 -0.488282\n",
              "2022-10-07      8782.95     8720.05  0.721326\n",
              "2022-10-10      8865.55     8704.95  1.844927"
            ],
            "text/html": [
              "\n",
              "  <div id=\"df-da23199a-40fa-4f38-8339-28ffd3b41de0\">\n",
              "    <div class=\"colab-df-container\">\n",
              "      <div>\n",
              "<style scoped>\n",
              "    .dataframe tbody tr th:only-of-type {\n",
              "        vertical-align: middle;\n",
              "    }\n",
              "\n",
              "    .dataframe tbody tr th {\n",
              "        vertical-align: top;\n",
              "    }\n",
              "\n",
              "    .dataframe thead th {\n",
              "        text-align: right;\n",
              "    }\n",
              "</style>\n",
              "<table border=\"1\" class=\"dataframe\">\n",
              "  <thead>\n",
              "    <tr style=\"text-align: right;\">\n",
              "      <th></th>\n",
              "      <th>Close Price</th>\n",
              "      <th>Open Price</th>\n",
              "      <th>gain</th>\n",
              "    </tr>\n",
              "    <tr>\n",
              "      <th>Date</th>\n",
              "      <th></th>\n",
              "      <th></th>\n",
              "      <th></th>\n",
              "    </tr>\n",
              "  </thead>\n",
              "  <tbody>\n",
              "    <tr>\n",
              "      <th>2022-10-03</th>\n",
              "      <td>8544.40</td>\n",
              "      <td>8950.00</td>\n",
              "      <td>-4.531844</td>\n",
              "    </tr>\n",
              "    <tr>\n",
              "      <th>2022-10-04</th>\n",
              "      <td>8687.45</td>\n",
              "      <td>8661.05</td>\n",
              "      <td>0.304813</td>\n",
              "    </tr>\n",
              "    <tr>\n",
              "      <th>2022-10-06</th>\n",
              "      <td>8702.25</td>\n",
              "      <td>8744.95</td>\n",
              "      <td>-0.488282</td>\n",
              "    </tr>\n",
              "    <tr>\n",
              "      <th>2022-10-07</th>\n",
              "      <td>8782.95</td>\n",
              "      <td>8720.05</td>\n",
              "      <td>0.721326</td>\n",
              "    </tr>\n",
              "    <tr>\n",
              "      <th>2022-10-10</th>\n",
              "      <td>8865.55</td>\n",
              "      <td>8704.95</td>\n",
              "      <td>1.844927</td>\n",
              "    </tr>\n",
              "  </tbody>\n",
              "</table>\n",
              "</div>\n",
              "      <button class=\"colab-df-convert\" onclick=\"convertToInteractive('df-da23199a-40fa-4f38-8339-28ffd3b41de0')\"\n",
              "              title=\"Convert this dataframe to an interactive table.\"\n",
              "              style=\"display:none;\">\n",
              "        \n",
              "  <svg xmlns=\"http://www.w3.org/2000/svg\" height=\"24px\"viewBox=\"0 0 24 24\"\n",
              "       width=\"24px\">\n",
              "    <path d=\"M0 0h24v24H0V0z\" fill=\"none\"/>\n",
              "    <path d=\"M18.56 5.44l.94 2.06.94-2.06 2.06-.94-2.06-.94-.94-2.06-.94 2.06-2.06.94zm-11 1L8.5 8.5l.94-2.06 2.06-.94-2.06-.94L8.5 2.5l-.94 2.06-2.06.94zm10 10l.94 2.06.94-2.06 2.06-.94-2.06-.94-.94-2.06-.94 2.06-2.06.94z\"/><path d=\"M17.41 7.96l-1.37-1.37c-.4-.4-.92-.59-1.43-.59-.52 0-1.04.2-1.43.59L10.3 9.45l-7.72 7.72c-.78.78-.78 2.05 0 2.83L4 21.41c.39.39.9.59 1.41.59.51 0 1.02-.2 1.41-.59l7.78-7.78 2.81-2.81c.8-.78.8-2.07 0-2.86zM5.41 20L4 18.59l7.72-7.72 1.47 1.35L5.41 20z\"/>\n",
              "  </svg>\n",
              "      </button>\n",
              "      \n",
              "  <style>\n",
              "    .colab-df-container {\n",
              "      display:flex;\n",
              "      flex-wrap:wrap;\n",
              "      gap: 12px;\n",
              "    }\n",
              "\n",
              "    .colab-df-convert {\n",
              "      background-color: #E8F0FE;\n",
              "      border: none;\n",
              "      border-radius: 50%;\n",
              "      cursor: pointer;\n",
              "      display: none;\n",
              "      fill: #1967D2;\n",
              "      height: 32px;\n",
              "      padding: 0 0 0 0;\n",
              "      width: 32px;\n",
              "    }\n",
              "\n",
              "    .colab-df-convert:hover {\n",
              "      background-color: #E2EBFA;\n",
              "      box-shadow: 0px 1px 2px rgba(60, 64, 67, 0.3), 0px 1px 3px 1px rgba(60, 64, 67, 0.15);\n",
              "      fill: #174EA6;\n",
              "    }\n",
              "\n",
              "    [theme=dark] .colab-df-convert {\n",
              "      background-color: #3B4455;\n",
              "      fill: #D2E3FC;\n",
              "    }\n",
              "\n",
              "    [theme=dark] .colab-df-convert:hover {\n",
              "      background-color: #434B5C;\n",
              "      box-shadow: 0px 1px 3px 1px rgba(0, 0, 0, 0.15);\n",
              "      filter: drop-shadow(0px 1px 2px rgba(0, 0, 0, 0.3));\n",
              "      fill: #FFFFFF;\n",
              "    }\n",
              "  </style>\n",
              "\n",
              "      <script>\n",
              "        const buttonEl =\n",
              "          document.querySelector('#df-da23199a-40fa-4f38-8339-28ffd3b41de0 button.colab-df-convert');\n",
              "        buttonEl.style.display =\n",
              "          google.colab.kernel.accessAllowed ? 'block' : 'none';\n",
              "\n",
              "        async function convertToInteractive(key) {\n",
              "          const element = document.querySelector('#df-da23199a-40fa-4f38-8339-28ffd3b41de0');\n",
              "          const dataTable =\n",
              "            await google.colab.kernel.invokeFunction('convertToInteractive',\n",
              "                                                     [key], {});\n",
              "          if (!dataTable) return;\n",
              "\n",
              "          const docLinkHtml = 'Like what you see? Visit the ' +\n",
              "            '<a target=\"_blank\" href=https://colab.research.google.com/notebooks/data_table.ipynb>data table notebook</a>'\n",
              "            + ' to learn more about interactive tables.';\n",
              "          element.innerHTML = '';\n",
              "          dataTable['output_type'] = 'display_data';\n",
              "          await google.colab.output.renderOutput(dataTable, element);\n",
              "          const docLink = document.createElement('div');\n",
              "          docLink.innerHTML = docLinkHtml;\n",
              "          element.appendChild(docLink);\n",
              "        }\n",
              "      </script>\n",
              "    </div>\n",
              "  </div>\n",
              "  "
            ]
          },
          "metadata": {},
          "execution_count": 72
        }
      ]
    },
    {
      "cell_type": "markdown",
      "source": [
        "Tata Motors"
      ],
      "metadata": {
        "id": "0JMzpQFQ24Tr"
      }
    },
    {
      "cell_type": "code",
      "source": [
        "tatamo_df = pd.read_csv( 'https://raw.githubusercontent.com/shivdeepnv/MachineLearningWithPython/main/Session_1/tatamo-500570.csv', \n",
        "                       parse_dates=['Date'] )"
      ],
      "metadata": {
        "id": "N2ch_wSl25R1"
      },
      "execution_count": 29,
      "outputs": []
    },
    {
      "cell_type": "code",
      "source": [
        "# Set the date column as index\n",
        "tatamo_df =  tatamo_df.set_index(['Date'], drop=True)"
      ],
      "metadata": {
        "id": "NtSBYSIu6RSs"
      },
      "execution_count": 30,
      "outputs": []
    },
    {
      "cell_type": "code",
      "source": [
        "# Sort the date column in place\n",
        "tatamo_df.sort_index(ascending=True, inplace=True)"
      ],
      "metadata": {
        "id": "KZ_U8HOQ6RtZ"
      },
      "execution_count": 31,
      "outputs": []
    },
    {
      "cell_type": "code",
      "source": [
        "# Overwrite DF with only close price and Open Price\n",
        "tatamo_df = tatamo_df[['Close Price', 'Open Price']]"
      ],
      "metadata": {
        "id": "Tx9lcEiq6SI6"
      },
      "execution_count": 32,
      "outputs": []
    },
    {
      "cell_type": "code",
      "source": [
        "# Calculate daily gains\n",
        "tatamo_df[\"gain\"] = ((tatamo_df['Close Price'] - tatamo_df['Open Price']) * 100 / tatamo_df['Open Price'])"
      ],
      "metadata": {
        "id": "aswcQtqf6Si_"
      },
      "execution_count": 33,
      "outputs": []
    },
    {
      "cell_type": "code",
      "source": [
        "tatamo_df.head(5)"
      ],
      "metadata": {
        "colab": {
          "base_uri": "https://localhost:8080/",
          "height": 238
        },
        "id": "xocCZSCx6TCJ",
        "outputId": "69d68bd0-7467-4686-86a9-039ec9e5fcbd"
      },
      "execution_count": 34,
      "outputs": [
        {
          "output_type": "execute_result",
          "data": {
            "text/plain": [
              "            Close Price  Open Price      gain\n",
              "Date                                         \n",
              "2022-10-03       397.65       405.9 -2.032520\n",
              "2022-10-04       407.95       406.0  0.480296\n",
              "2022-10-06       414.00       409.0  1.222494\n",
              "2022-10-07       412.20       414.0 -0.434783\n",
              "2022-10-10       395.95       403.1 -1.773753"
            ],
            "text/html": [
              "\n",
              "  <div id=\"df-89b918d4-43fd-453c-b675-e881535bfa9d\">\n",
              "    <div class=\"colab-df-container\">\n",
              "      <div>\n",
              "<style scoped>\n",
              "    .dataframe tbody tr th:only-of-type {\n",
              "        vertical-align: middle;\n",
              "    }\n",
              "\n",
              "    .dataframe tbody tr th {\n",
              "        vertical-align: top;\n",
              "    }\n",
              "\n",
              "    .dataframe thead th {\n",
              "        text-align: right;\n",
              "    }\n",
              "</style>\n",
              "<table border=\"1\" class=\"dataframe\">\n",
              "  <thead>\n",
              "    <tr style=\"text-align: right;\">\n",
              "      <th></th>\n",
              "      <th>Close Price</th>\n",
              "      <th>Open Price</th>\n",
              "      <th>gain</th>\n",
              "    </tr>\n",
              "    <tr>\n",
              "      <th>Date</th>\n",
              "      <th></th>\n",
              "      <th></th>\n",
              "      <th></th>\n",
              "    </tr>\n",
              "  </thead>\n",
              "  <tbody>\n",
              "    <tr>\n",
              "      <th>2022-10-03</th>\n",
              "      <td>397.65</td>\n",
              "      <td>405.9</td>\n",
              "      <td>-2.032520</td>\n",
              "    </tr>\n",
              "    <tr>\n",
              "      <th>2022-10-04</th>\n",
              "      <td>407.95</td>\n",
              "      <td>406.0</td>\n",
              "      <td>0.480296</td>\n",
              "    </tr>\n",
              "    <tr>\n",
              "      <th>2022-10-06</th>\n",
              "      <td>414.00</td>\n",
              "      <td>409.0</td>\n",
              "      <td>1.222494</td>\n",
              "    </tr>\n",
              "    <tr>\n",
              "      <th>2022-10-07</th>\n",
              "      <td>412.20</td>\n",
              "      <td>414.0</td>\n",
              "      <td>-0.434783</td>\n",
              "    </tr>\n",
              "    <tr>\n",
              "      <th>2022-10-10</th>\n",
              "      <td>395.95</td>\n",
              "      <td>403.1</td>\n",
              "      <td>-1.773753</td>\n",
              "    </tr>\n",
              "  </tbody>\n",
              "</table>\n",
              "</div>\n",
              "      <button class=\"colab-df-convert\" onclick=\"convertToInteractive('df-89b918d4-43fd-453c-b675-e881535bfa9d')\"\n",
              "              title=\"Convert this dataframe to an interactive table.\"\n",
              "              style=\"display:none;\">\n",
              "        \n",
              "  <svg xmlns=\"http://www.w3.org/2000/svg\" height=\"24px\"viewBox=\"0 0 24 24\"\n",
              "       width=\"24px\">\n",
              "    <path d=\"M0 0h24v24H0V0z\" fill=\"none\"/>\n",
              "    <path d=\"M18.56 5.44l.94 2.06.94-2.06 2.06-.94-2.06-.94-.94-2.06-.94 2.06-2.06.94zm-11 1L8.5 8.5l.94-2.06 2.06-.94-2.06-.94L8.5 2.5l-.94 2.06-2.06.94zm10 10l.94 2.06.94-2.06 2.06-.94-2.06-.94-.94-2.06-.94 2.06-2.06.94z\"/><path d=\"M17.41 7.96l-1.37-1.37c-.4-.4-.92-.59-1.43-.59-.52 0-1.04.2-1.43.59L10.3 9.45l-7.72 7.72c-.78.78-.78 2.05 0 2.83L4 21.41c.39.39.9.59 1.41.59.51 0 1.02-.2 1.41-.59l7.78-7.78 2.81-2.81c.8-.78.8-2.07 0-2.86zM5.41 20L4 18.59l7.72-7.72 1.47 1.35L5.41 20z\"/>\n",
              "  </svg>\n",
              "      </button>\n",
              "      \n",
              "  <style>\n",
              "    .colab-df-container {\n",
              "      display:flex;\n",
              "      flex-wrap:wrap;\n",
              "      gap: 12px;\n",
              "    }\n",
              "\n",
              "    .colab-df-convert {\n",
              "      background-color: #E8F0FE;\n",
              "      border: none;\n",
              "      border-radius: 50%;\n",
              "      cursor: pointer;\n",
              "      display: none;\n",
              "      fill: #1967D2;\n",
              "      height: 32px;\n",
              "      padding: 0 0 0 0;\n",
              "      width: 32px;\n",
              "    }\n",
              "\n",
              "    .colab-df-convert:hover {\n",
              "      background-color: #E2EBFA;\n",
              "      box-shadow: 0px 1px 2px rgba(60, 64, 67, 0.3), 0px 1px 3px 1px rgba(60, 64, 67, 0.15);\n",
              "      fill: #174EA6;\n",
              "    }\n",
              "\n",
              "    [theme=dark] .colab-df-convert {\n",
              "      background-color: #3B4455;\n",
              "      fill: #D2E3FC;\n",
              "    }\n",
              "\n",
              "    [theme=dark] .colab-df-convert:hover {\n",
              "      background-color: #434B5C;\n",
              "      box-shadow: 0px 1px 3px 1px rgba(0, 0, 0, 0.15);\n",
              "      filter: drop-shadow(0px 1px 2px rgba(0, 0, 0, 0.3));\n",
              "      fill: #FFFFFF;\n",
              "    }\n",
              "  </style>\n",
              "\n",
              "      <script>\n",
              "        const buttonEl =\n",
              "          document.querySelector('#df-89b918d4-43fd-453c-b675-e881535bfa9d button.colab-df-convert');\n",
              "        buttonEl.style.display =\n",
              "          google.colab.kernel.accessAllowed ? 'block' : 'none';\n",
              "\n",
              "        async function convertToInteractive(key) {\n",
              "          const element = document.querySelector('#df-89b918d4-43fd-453c-b675-e881535bfa9d');\n",
              "          const dataTable =\n",
              "            await google.colab.kernel.invokeFunction('convertToInteractive',\n",
              "                                                     [key], {});\n",
              "          if (!dataTable) return;\n",
              "\n",
              "          const docLinkHtml = 'Like what you see? Visit the ' +\n",
              "            '<a target=\"_blank\" href=https://colab.research.google.com/notebooks/data_table.ipynb>data table notebook</a>'\n",
              "            + ' to learn more about interactive tables.';\n",
              "          element.innerHTML = '';\n",
              "          dataTable['output_type'] = 'display_data';\n",
              "          await google.colab.output.renderOutput(dataTable, element);\n",
              "          const docLink = document.createElement('div');\n",
              "          docLink.innerHTML = docLinkHtml;\n",
              "          element.appendChild(docLink);\n",
              "        }\n",
              "      </script>\n",
              "    </div>\n",
              "  </div>\n",
              "  "
            ]
          },
          "metadata": {},
          "execution_count": 34
        }
      ]
    },
    {
      "cell_type": "markdown",
      "source": [
        "Plotting Historical Price Trends for Tata Motors\n",
        "\n"
      ],
      "metadata": {
        "id": "gUAo7nVJ25qX"
      }
    },
    {
      "cell_type": "code",
      "source": [
        "plt.figure(figsize = (12, 6))\n",
        "# Plot for one of the stocks\n",
        "plt.plot(tatamo_df['Close Price'], color = 'r');"
      ],
      "metadata": {
        "colab": {
          "base_uri": "https://localhost:8080/",
          "height": 374
        },
        "id": "8av_TO_W7y7M",
        "outputId": "3cf408ad-b4d6-4f5e-b03b-a9db3d6d4421"
      },
      "execution_count": 35,
      "outputs": [
        {
          "output_type": "display_data",
          "data": {
            "text/plain": [
              "<Figure size 864x432 with 1 Axes>"
            ],
            "image/png": "[encoded data removed]"
          },
          "metadata": {
            "needs_background": "light"
          }
        }
      ]
    },
    {
      "cell_type": "markdown",
      "source": [
        "Plotting Gains for Tata Motors "
      ],
      "metadata": {
        "id": "dB0PdiQM9Cdp"
      }
    },
    {
      "cell_type": "code",
      "source": [
        "plt.figure(figsize= (12, 4 ))\n",
        "plt.plot(maruti_df.gain, 'b')"
      ],
      "metadata": {
        "colab": {
          "base_uri": "https://localhost:8080/",
          "height": 282
        },
        "id": "pkNs_bwW9Nav",
        "outputId": "eb276536-58a5-4dba-a735-4bbd0a2205f1"
      },
      "execution_count": 36,
      "outputs": [
        {
          "output_type": "execute_result",
          "data": {
            "text/plain": [
              "[<matplotlib.lines.Line2D at 0x7f4c8ad61f70>]"
            ]
          },
          "metadata": {},
          "execution_count": 36
        },
        {
          "output_type": "display_data",
          "data": {
            "text/plain": [
              "<Figure size 864x288 with 1 Axes>"
            ],
            "image/png": "[encoded data removed]"
          },
          "metadata": {
            "needs_background": "light"
          }
        }
      ]
    },
    {
      "cell_type": "code",
      "source": [
        "  # Min and max gains for Bajaj Auto\n",
        "bajajauto_df.gain.min(), bajajauto_df.gain.max()"
      ],
      "metadata": {
        "colab": {
          "base_uri": "https://localhost:8080/"
        },
        "id": "mOY2TFuh-ZxR",
        "outputId": "a48460a6-d6e7-4d83-899f-a327a8302f79"
      },
      "execution_count": 37,
      "outputs": [
        {
          "output_type": "execute_result",
          "data": {
            "text/plain": [
              "(-2.999999999999997, 3.443526170798898)"
            ]
          },
          "metadata": {},
          "execution_count": 37
        }
      ]
    },
    {
      "cell_type": "code",
      "source": [
        "  # Min and max gains for Eicher\n",
        "eichermotors_df.gain.min(), eichermotors_df.gain.max()"
      ],
      "metadata": {
        "colab": {
          "base_uri": "https://localhost:8080/"
        },
        "id": "7GFGk_R7-duK",
        "outputId": "32120aa6-2e25-40a1-e317-caa97e1d0718"
      },
      "execution_count": 38,
      "outputs": [
        {
          "output_type": "execute_result",
          "data": {
            "text/plain": [
              "(-8.268008474576266, 3.5285660707588478)"
            ]
          },
          "metadata": {},
          "execution_count": 38
        }
      ]
    },
    {
      "cell_type": "code",
      "source": [
        "  # Min and max gains for Mahindra\n",
        "mahindra_df.gain.min(), mahindra_df.gain.max()"
      ],
      "metadata": {
        "colab": {
          "base_uri": "https://localhost:8080/"
        },
        "id": "nknA26dg-eQE",
        "outputId": "aeda2db1-fbc9-4203-9523-40280e94a66e"
      },
      "execution_count": 39,
      "outputs": [
        {
          "output_type": "execute_result",
          "data": {
            "text/plain": [
              "(-2.9446086821223068, 3.989499224374535)"
            ]
          },
          "metadata": {},
          "execution_count": 39
        }
      ]
    },
    {
      "cell_type": "code",
      "source": [
        "# Min and max gains for Maruti\n",
        "maruti_df.gain.min(), maruti_df.gain.max()"
      ],
      "metadata": {
        "colab": {
          "base_uri": "https://localhost:8080/"
        },
        "id": "I6zzvxDq-gIC",
        "outputId": "63fd9b1c-a533-418d-984a-9b63d213f46b"
      },
      "execution_count": 40,
      "outputs": [
        {
          "output_type": "execute_result",
          "data": {
            "text/plain": [
              "(-4.531843575418998, 4.856202509277265)"
            ]
          },
          "metadata": {},
          "execution_count": 40
        }
      ]
    },
    {
      "cell_type": "code",
      "source": [
        "  # Min and max gains for Tata Motors\n",
        "  tatamo_df.gain.min(), tatamo_df.gain.max()"
      ],
      "metadata": {
        "colab": {
          "base_uri": "https://localhost:8080/"
        },
        "id": "vkw6gjMK9k63",
        "outputId": "a51cf0bd-4c13-40a1-c226-06bad1f1e1d7"
      },
      "execution_count": 41,
      "outputs": [
        {
          "output_type": "execute_result",
          "data": {
            "text/plain": [
              "(-2.999999999999997, 3.443526170798898)"
            ]
          },
          "metadata": {},
          "execution_count": 41
        }
      ]
    },
    {
      "cell_type": "code",
      "source": [
        "sn.kdeplot(tatamo_df.gain);"
      ],
      "metadata": {
        "colab": {
          "base_uri": "https://localhost:8080/",
          "height": 279
        },
        "id": "BgjWKDmV-_Ry",
        "outputId": "826c9f55-5f74-4861-daa2-70c2aeb7fcf3"
      },
      "execution_count": 42,
      "outputs": [
        {
          "output_type": "display_data",
          "data": {
            "text/plain": [
              "<Figure size 432x288 with 1 Axes>"
            ],
            "image/png": "[encoded data removed]"
          },
          "metadata": {
            "needs_background": "light"
          }
        }
      ]
    },
    {
      "cell_type": "markdown",
      "source": [
        "Plot all the distribution plots"
      ],
      "metadata": {
        "id": "00ce4n5v5Zx0"
      }
    },
    {
      "cell_type": "code",
      "source": [
        "plt.figure(figsize = (12, 5))\n",
        "sn.kdeplot(bajajauto_df.gain, label = 'Bajaj Auto' );\n",
        "sn.kdeplot(eichermotors_df.gain, label = 'Eicher Motors' );\n",
        "sn.kdeplot(mahindra_df.gain, label = 'Mahindra Motors' );\n",
        "sn.kdeplot(maruti_df.gain, label = 'Maruti Suzuki' );\n",
        "sn.kdeplot(tatamo_df.gain, label = 'Tata Motors' );\n",
        "\n",
        "plt.title(\"Volatility of Auto Stocks\")\n",
        "plt.legend();"
      ],
      "metadata": {
        "colab": {
          "base_uri": "https://localhost:8080/",
          "height": 350
        },
        "id": "gMU6L0D05TqY",
        "outputId": "8ff941b3-9294-4d71-a57b-b32b8c79593e"
      },
      "execution_count": 44,
      "outputs": [
        {
          "output_type": "display_data",
          "data": {
            "text/plain": [
              "<Figure size 864x360 with 1 Axes>"
            ],
            "image/png": "[encoded data removed]"
          },
          "metadata": {
            "needs_background": "light"
          }
        }
      ]
    },
    {
      "cell_type": "markdown",
      "source": [
        "Find out the value at risk (Var) of each stock at 95%.\n"
      ],
      "metadata": {
        "id": "euCdso7r7ZYH"
      }
    },
    {
      "cell_type": "markdown",
      "source": [
        "Calculate Mean, SD and Confidence Interval of all the five stocks. \n",
        "\n",
        "Confidence Interval is the probability that a parameter will fall between a set of values for a certain proportion of times\n",
        "\n"
      ],
      "metadata": {
        "id": "Tfe3Am0j79IM"
      }
    },
    {
      "cell_type": "code",
      "source": [
        "from scipy import stats"
      ],
      "metadata": {
        "id": "CO2QCoCw7aht"
      },
      "execution_count": 45,
      "outputs": []
    },
    {
      "cell_type": "code",
      "source": [
        "bajajauto_ci_95 = stats.norm.interval(0.95, loc=bajajauto_df.gain.mean(),scale=bajajauto_df.gain.std())"
      ],
      "metadata": {
        "id": "fIJ_szMc8DL_"
      },
      "execution_count": 46,
      "outputs": []
    },
    {
      "cell_type": "code",
      "source": [
        "bajajauto_ci_95"
      ],
      "metadata": {
        "colab": {
          "base_uri": "https://localhost:8080/"
        },
        "id": "RBOFnk5L8q-L",
        "outputId": "4e9b1d97-d7d4-4acb-d506-687bf1e063a4"
      },
      "execution_count": 47,
      "outputs": [
        {
          "output_type": "execute_result",
          "data": {
            "text/plain": [
              "(-2.7375958309910753, 2.4187886560816856)"
            ]
          },
          "metadata": {},
          "execution_count": 47
        }
      ]
    },
    {
      "cell_type": "code",
      "source": [
        "bajajauto_df[bajajauto_df.gain < bajajauto_ci_95[0]]"
      ],
      "metadata": {
        "colab": {
          "base_uri": "https://localhost:8080/",
          "height": 143
        },
        "id": "0pI7fpTr8wT8",
        "outputId": "b71879ca-0251-4863-d744-b5b0f86fbeaa"
      },
      "execution_count": 48,
      "outputs": [
        {
          "output_type": "execute_result",
          "data": {
            "text/plain": [
              "            Close Price  Open Price      gain\n",
              "Date                                         \n",
              "2022-12-23        378.3       390.0 -3.000000\n",
              "2023-03-13        422.4       435.0 -2.896552"
            ],
            "text/html": [
              "\n",
              "  <div id=\"df-f9455eb9-c0d8-4122-a262-7c953b5a44fb\">\n",
              "    <div class=\"colab-df-container\">\n",
              "      <div>\n",
              "<style scoped>\n",
              "    .dataframe tbody tr th:only-of-type {\n",
              "        vertical-align: middle;\n",
              "    }\n",
              "\n",
              "    .dataframe tbody tr th {\n",
              "        vertical-align: top;\n",
              "    }\n",
              "\n",
              "    .dataframe thead th {\n",
              "        text-align: right;\n",
              "    }\n",
              "</style>\n",
              "<table border=\"1\" class=\"dataframe\">\n",
              "  <thead>\n",
              "    <tr style=\"text-align: right;\">\n",
              "      <th></th>\n",
              "      <th>Close Price</th>\n",
              "      <th>Open Price</th>\n",
              "      <th>gain</th>\n",
              "    </tr>\n",
              "    <tr>\n",
              "      <th>Date</th>\n",
              "      <th></th>\n",
              "      <th></th>\n",
              "      <th></th>\n",
              "    </tr>\n",
              "  </thead>\n",
              "  <tbody>\n",
              "    <tr>\n",
              "      <th>2022-12-23</th>\n",
              "      <td>378.3</td>\n",
              "      <td>390.0</td>\n",
              "      <td>-3.000000</td>\n",
              "    </tr>\n",
              "    <tr>\n",
              "      <th>2023-03-13</th>\n",
              "      <td>422.4</td>\n",
              "      <td>435.0</td>\n",
              "      <td>-2.896552</td>\n",
              "    </tr>\n",
              "  </tbody>\n",
              "</table>\n",
              "</div>\n",
              "      <button class=\"colab-df-convert\" onclick=\"convertToInteractive('df-f9455eb9-c0d8-4122-a262-7c953b5a44fb')\"\n",
              "              title=\"Convert this dataframe to an interactive table.\"\n",
              "              style=\"display:none;\">\n",
              "        \n",
              "  <svg xmlns=\"http://www.w3.org/2000/svg\" height=\"24px\"viewBox=\"0 0 24 24\"\n",
              "       width=\"24px\">\n",
              "    <path d=\"M0 0h24v24H0V0z\" fill=\"none\"/>\n",
              "    <path d=\"M18.56 5.44l.94 2.06.94-2.06 2.06-.94-2.06-.94-.94-2.06-.94 2.06-2.06.94zm-11 1L8.5 8.5l.94-2.06 2.06-.94-2.06-.94L8.5 2.5l-.94 2.06-2.06.94zm10 10l.94 2.06.94-2.06 2.06-.94-2.06-.94-.94-2.06-.94 2.06-2.06.94z\"/><path d=\"M17.41 7.96l-1.37-1.37c-.4-.4-.92-.59-1.43-.59-.52 0-1.04.2-1.43.59L10.3 9.45l-7.72 7.72c-.78.78-.78 2.05 0 2.83L4 21.41c.39.39.9.59 1.41.59.51 0 1.02-.2 1.41-.59l7.78-7.78 2.81-2.81c.8-.78.8-2.07 0-2.86zM5.41 20L4 18.59l7.72-7.72 1.47 1.35L5.41 20z\"/>\n",
              "  </svg>\n",
              "      </button>\n",
              "      \n",
              "  <style>\n",
              "    .colab-df-container {\n",
              "      display:flex;\n",
              "      flex-wrap:wrap;\n",
              "      gap: 12px;\n",
              "    }\n",
              "\n",
              "    .colab-df-convert {\n",
              "      background-color: #E8F0FE;\n",
              "      border: none;\n",
              "      border-radius: 50%;\n",
              "      cursor: pointer;\n",
              "      display: none;\n",
              "      fill: #1967D2;\n",
              "      height: 32px;\n",
              "      padding: 0 0 0 0;\n",
              "      width: 32px;\n",
              "    }\n",
              "\n",
              "    .colab-df-convert:hover {\n",
              "      background-color: #E2EBFA;\n",
              "      box-shadow: 0px 1px 2px rgba(60, 64, 67, 0.3), 0px 1px 3px 1px rgba(60, 64, 67, 0.15);\n",
              "      fill: #174EA6;\n",
              "    }\n",
              "\n",
              "    [theme=dark] .colab-df-convert {\n",
              "      background-color: #3B4455;\n",
              "      fill: #D2E3FC;\n",
              "    }\n",
              "\n",
              "    [theme=dark] .colab-df-convert:hover {\n",
              "      background-color: #434B5C;\n",
              "      box-shadow: 0px 1px 3px 1px rgba(0, 0, 0, 0.15);\n",
              "      filter: drop-shadow(0px 1px 2px rgba(0, 0, 0, 0.3));\n",
              "      fill: #FFFFFF;\n",
              "    }\n",
              "  </style>\n",
              "\n",
              "      <script>\n",
              "        const buttonEl =\n",
              "          document.querySelector('#df-f9455eb9-c0d8-4122-a262-7c953b5a44fb button.colab-df-convert');\n",
              "        buttonEl.style.display =\n",
              "          google.colab.kernel.accessAllowed ? 'block' : 'none';\n",
              "\n",
              "        async function convertToInteractive(key) {\n",
              "          const element = document.querySelector('#df-f9455eb9-c0d8-4122-a262-7c953b5a44fb');\n",
              "          const dataTable =\n",
              "            await google.colab.kernel.invokeFunction('convertToInteractive',\n",
              "                                                     [key], {});\n",
              "          if (!dataTable) return;\n",
              "\n",
              "          const docLinkHtml = 'Like what you see? Visit the ' +\n",
              "            '<a target=\"_blank\" href=https://colab.research.google.com/notebooks/data_table.ipynb>data table notebook</a>'\n",
              "            + ' to learn more about interactive tables.';\n",
              "          element.innerHTML = '';\n",
              "          dataTable['output_type'] = 'display_data';\n",
              "          await google.colab.output.renderOutput(dataTable, element);\n",
              "          const docLink = document.createElement('div');\n",
              "          docLink.innerHTML = docLinkHtml;\n",
              "          element.appendChild(docLink);\n",
              "        }\n",
              "      </script>\n",
              "    </div>\n",
              "  </div>\n",
              "  "
            ]
          },
          "metadata": {},
          "execution_count": 48
        }
      ]
    },
    {
      "cell_type": "markdown",
      "source": [
        "**VaR - Value At Risk **\n",
        "\n",
        "*   Value at Risk for Bajaj is 2737.59 rupees\n",
        "*   Value of Risk for Eicher Motors is 3758.93 rupees\n",
        "*   Value of Risk for Mahindra is 2839.87\n",
        "*   Value of Risk for Maruti is 2476.04\n",
        "*   Value of Risk for Tata Motors is 2737.59"
      ],
      "metadata": {
        "id": "qta2YjYz88p7"
      }
    },
    {
      "cell_type": "code",
      "source": [
        "invest_amt = 100000"
      ],
      "metadata": {
        "id": "Wt7xPa5q8795"
      },
      "execution_count": 49,
      "outputs": []
    },
    {
      "cell_type": "code",
      "source": [
        "invest_amt"
      ],
      "metadata": {
        "colab": {
          "base_uri": "https://localhost:8080/"
        },
        "id": "FN0lHHtZ9C1H",
        "outputId": "e105ccec-de7c-4c72-c28f-ba02c1510fdd"
      },
      "execution_count": 50,
      "outputs": [
        {
          "output_type": "execute_result",
          "data": {
            "text/plain": [
              "100000"
            ]
          },
          "metadata": {},
          "execution_count": 50
        }
      ]
    },
    {
      "cell_type": "code",
      "source": [
        "bajajauto_ci_95[0]"
      ],
      "metadata": {
        "colab": {
          "base_uri": "https://localhost:8080/"
        },
        "id": "vvHLE5C-9EU8",
        "outputId": "d82a1088-341f-4e4a-e663-b0f58b0f3d3e"
      },
      "execution_count": 54,
      "outputs": [
        {
          "output_type": "execute_result",
          "data": {
            "text/plain": [
              "-2.7375958309910753"
            ]
          },
          "metadata": {},
          "execution_count": 54
        }
      ]
    },
    {
      "cell_type": "code",
      "source": [
        "bajajauto_var = invest_amt * bajajauto_ci_95[0] / 100"
      ],
      "metadata": {
        "id": "Y010W_Cr9I1p"
      },
      "execution_count": 55,
      "outputs": []
    },
    {
      "cell_type": "markdown",
      "source": [
        "Value at risk for 95% CI is 2737.59 rupees, if invested one lakh rupees for day trading in Bajaj Auto."
      ],
      "metadata": {
        "id": "KHw_ToMt9mNW"
      }
    },
    {
      "cell_type": "code",
      "source": [
        "bajajauto_var"
      ],
      "metadata": {
        "colab": {
          "base_uri": "https://localhost:8080/"
        },
        "id": "VSuNvxw69KS9",
        "outputId": "c293f0e1-7826-435d-b025-4b575eabeb32"
      },
      "execution_count": 56,
      "outputs": [
        {
          "output_type": "execute_result",
          "data": {
            "text/plain": [
              "-2737.5958309910757"
            ]
          },
          "metadata": {},
          "execution_count": 56
        }
      ]
    },
    {
      "cell_type": "markdown",
      "source": [
        "Value at Risk for Eicher"
      ],
      "metadata": {
        "id": "wFfwegAL-PoE"
      }
    },
    {
      "cell_type": "code",
      "source": [
        "eicher_ci_95 = stats.norm.interval(0.95, loc=eichermotors_df.gain.mean(),scale=eichermotors_df.gain.std())\n",
        "eichermotors_df[eichermotors_df.gain < eicher_ci_95[0]]\n",
        "eichermotors_var = invest_amt * eicher_ci_95[0] / 100\n",
        "eichermotors_var"
      ],
      "metadata": {
        "colab": {
          "base_uri": "https://localhost:8080/"
        },
        "id": "6Qr-koYf-iOJ",
        "outputId": "44b7e464-5f4e-4797-d00c-ac99cf391300"
      },
      "execution_count": 57,
      "outputs": [
        {
          "output_type": "execute_result",
          "data": {
            "text/plain": [
              "-3758.9314957890733"
            ]
          },
          "metadata": {},
          "execution_count": 57
        }
      ]
    },
    {
      "cell_type": "markdown",
      "source": [
        "Value at Risk for Mahindra"
      ],
      "metadata": {
        "id": "7LXD0wx_-WkI"
      }
    },
    {
      "cell_type": "code",
      "source": [
        "mahindra_ci_95 = stats.norm.interval(0.95, loc=mahindra_df.gain.mean(),scale=mahindra_df.gain.std())\n",
        "mahindra_df[mahindra_df.gain < mahindra_ci_95[0]]\n",
        "mahindra_var = invest_amt * mahindra_ci_95[0] / 100\n",
        "mahindra_var"
      ],
      "metadata": {
        "colab": {
          "base_uri": "https://localhost:8080/"
        },
        "id": "qxyh9cl2ArXE",
        "outputId": "f34339ae-5e61-455d-9294-595178ddeb50"
      },
      "execution_count": 58,
      "outputs": [
        {
          "output_type": "execute_result",
          "data": {
            "text/plain": [
              "-2839.8760493138434"
            ]
          },
          "metadata": {},
          "execution_count": 58
        }
      ]
    },
    {
      "cell_type": "markdown",
      "source": [
        "Value at Risk for Maruti"
      ],
      "metadata": {
        "id": "PRynJi4j-a05"
      }
    },
    {
      "cell_type": "code",
      "source": [
        "maruti_ci_95 = stats.norm.interval(0.95, loc=maruti_df.gain.mean(),scale=maruti_df.gain.std())\n",
        "maruti_df[maruti_df.gain < maruti_ci_95[0]]\n",
        "maruti_var = invest_amt * maruti_ci_95[0] / 100\n",
        "maruti_var"
      ],
      "metadata": {
        "colab": {
          "base_uri": "https://localhost:8080/"
        },
        "id": "9pCqUtvIAp9C",
        "outputId": "11ef346a-2ff0-45c2-cd2c-dff1c1f30a58"
      },
      "execution_count": 74,
      "outputs": [
        {
          "output_type": "execute_result",
          "data": {
            "text/plain": [
              "-2476.0491652008805"
            ]
          },
          "metadata": {},
          "execution_count": 74
        }
      ]
    },
    {
      "cell_type": "markdown",
      "source": [
        "Value at Risk for Tata Motors"
      ],
      "metadata": {
        "id": "AbI1zT5V-ep5"
      }
    },
    {
      "cell_type": "code",
      "source": [
        "tata_ci_95 = stats.norm.interval(0.95, loc=tatamo_df.gain.mean(),scale=tatamo_df.gain.std())\n",
        "tatamo_df[tatamo_df.gain < tata_ci_95[0]]\n",
        "tata_var = invest_amt * tata_ci_95[0] / 100\n",
        "tata_var"
      ],
      "metadata": {
        "colab": {
          "base_uri": "https://localhost:8080/"
        },
        "id": "yss_NhxFCZrY",
        "outputId": "3bfe244d-9364-497f-f668-39c6c5c877e0"
      },
      "execution_count": 77,
      "outputs": [
        {
          "output_type": "execute_result",
          "data": {
            "text/plain": [
              "-2737.5958309910757"
            ]
          },
          "metadata": {},
          "execution_count": 77
        }
      ]
    },
    {
      "cell_type": "markdown",
      "source": [
        "Find out the probability of making 4% gain in each of the stock."
      ],
      "metadata": {
        "id": "HDc8w6ibH6LR"
      }
    },
    {
      "cell_type": "markdown",
      "source": [
        "Bajaj Auto - Probability of gain of 4%"
      ],
      "metadata": {
        "id": "YhiufV0CIIEx"
      }
    },
    {
      "cell_type": "code",
      "source": [
        "bajaj_auto_prob = 1 - stats.norm.cdf(4.0, loc=bajajauto_df.gain.mean(), scale=bajajauto_df.gain.std())\n",
        "bajaj_auto_prob = bajaj_auto_prob * 100\n",
        "bajaj_auto_prob"
      ],
      "metadata": {
        "colab": {
          "base_uri": "https://localhost:8080/"
        },
        "id": "M8OPcgkOIbAP",
        "outputId": "732be751-a10e-4a48-f8e5-2086abd2a405"
      },
      "execution_count": 95,
      "outputs": [
        {
          "output_type": "execute_result",
          "data": {
            "text/plain": [
              "0.07834088421596608"
            ]
          },
          "metadata": {},
          "execution_count": 95
        }
      ]
    },
    {
      "cell_type": "markdown",
      "source": [
        "Eicher - Probability of gain of 4%"
      ],
      "metadata": {
        "id": "1C7LGkHtIw78"
      }
    },
    {
      "cell_type": "code",
      "source": [
        "eicher_prob = 1 - stats.norm.cdf(4.0, loc=eichermotors_df.gain.mean(), scale=eichermotors_df.gain.std())\n",
        "eicher_prob = eicher_prob * 100\n",
        "eicher_prob"
      ],
      "metadata": {
        "colab": {
          "base_uri": "https://localhost:8080/"
        },
        "outputId": "224a143e-265e-426e-9538-cc33bfec7fa7",
        "id": "kseg47YgIw79"
      },
      "execution_count": 102,
      "outputs": [
        {
          "output_type": "execute_result",
          "data": {
            "text/plain": [
              "0.7506877899289055"
            ]
          },
          "metadata": {},
          "execution_count": 102
        }
      ]
    },
    {
      "cell_type": "markdown",
      "source": [
        "Mahindra - Probability of gain of 4%"
      ],
      "metadata": {
        "id": "4B-zJHiRIyl0"
      }
    },
    {
      "cell_type": "code",
      "source": [
        "mahindra_prob = 1 - stats.norm.cdf(4.0, loc=mahindra_df.gain.mean(), scale=mahindra_df.gain.std())\n",
        "mahindra_prob = mahindra_prob * 100\n",
        "mahindra_prob"
      ],
      "metadata": {
        "colab": {
          "base_uri": "https://localhost:8080/"
        },
        "outputId": "7ea5796a-759d-4866-dcc3-a64d6e1792a0",
        "id": "P9ySZapvIyl1"
      },
      "execution_count": 103,
      "outputs": [
        {
          "output_type": "execute_result",
          "data": {
            "text/plain": [
              "0.11754980721997432"
            ]
          },
          "metadata": {},
          "execution_count": 103
        }
      ]
    },
    {
      "cell_type": "markdown",
      "source": [
        "Maruti - Probability of gain of 4%"
      ],
      "metadata": {
        "id": "QjGoWycrIx2B"
      }
    },
    {
      "cell_type": "code",
      "source": [
        "maruti_prob = 1 - stats.norm.cdf(4.0, loc=maruti_df.gain.mean(), scale=maruti_df.gain.std())\n",
        "maruti_prob = maruti_prob * 100\n",
        "maruti_prob"
      ],
      "metadata": {
        "colab": {
          "base_uri": "https://localhost:8080/"
        },
        "outputId": "25ccb79d-73c5-42c9-f568-a3ab44c947a3",
        "id": "s5NVfU8gIx2B"
      },
      "execution_count": 104,
      "outputs": [
        {
          "output_type": "execute_result",
          "data": {
            "text/plain": [
              "0.022028173403287887"
            ]
          },
          "metadata": {},
          "execution_count": 104
        }
      ]
    },
    {
      "cell_type": "markdown",
      "source": [
        "Tata - Probability of gain of 4%"
      ],
      "metadata": {
        "id": "kdUu1abkI8y-"
      }
    },
    {
      "cell_type": "code",
      "source": [
        "tata_prob = 1 - stats.norm.cdf(4.0, loc=tatamo_df.gain.mean(), scale=tatamo_df.gain.std())\n",
        "tata_prob = tata_prob * 100\n",
        "tata_prob"
      ],
      "metadata": {
        "colab": {
          "base_uri": "https://localhost:8080/"
        },
        "outputId": "61d0fb05-a99b-4085-c6e4-06ec7012b6ab",
        "id": "jDoMbZPOI8y-"
      },
      "execution_count": 105,
      "outputs": [
        {
          "output_type": "execute_result",
          "data": {
            "text/plain": [
              "0.07834088421596608"
            ]
          },
          "metadata": {},
          "execution_count": 105
        }
      ]
    },
    {
      "cell_type": "markdown",
      "source": [
        "Find out the probability of making 4% gain in each of the stock.\n",
        "\n",
        "---\n",
        "\n",
        "Stock Name & its Probability of a 4% gain\n",
        "\n",
        "*   Bajaj Auto: 0.07\n",
        "*   Eicher: 0.75\n",
        "*   Mahindra: 0.11 \n",
        "*   Maruti: 0.02\n",
        "*   Tata Motors: 0.07 \n",
        "\n",
        "\n"
      ],
      "metadata": {
        "id": "eJ4uR8GULcbr"
      }
    }
  ],
  "metadata": {
    "anaconda-cloud": {},
    "kernelspec": {
      "display_name": "Python 3",
      "language": "python",
      "name": "python3"
    },
    "language_info": {
      "codemirror_mode": {
        "name": "ipython",
        "version": 3
      },
      "file_extension": ".py",
      "mimetype": "text/x-python",
      "name": "python",
      "nbconvert_exporter": "python",
      "pygments_lexer": "ipython3",
      "version": "3.8.3"
    },
    "colab": {
      "provenance": []
    }
  },
  "nbformat": 4,
  "nbformat_minor": 0
}